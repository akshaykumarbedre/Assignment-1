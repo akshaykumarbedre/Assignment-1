{
 "cells": [
  {
   "cell_type": "raw",
   "id": "24e9c491-b07e-4b67-9ae2-9eab31afbb69",
   "metadata": {},
   "source": [
    "What is an API? Give an example, where an API is used in real life.\n",
    "api is application program interface which is used to communicate with homogenize or heterogeneous  progarm \n",
    "pw website store data base in anther serve which send request using api\n",
    "google, online shopping "
   ]
  },
  {
   "cell_type": "raw",
   "id": "4afe1e30-5555-4af3-a149-dc186d4f6ea8",
   "metadata": {},
   "source": [
    "Give advantages and disadvantages of using API.\n",
    "\n",
    "main advatange of using api is used to intarate with database, server, and some other services\n",
    "used to different lanauage \n",
    "\n",
    "disadvantage \n",
    "*delay , \n",
    "*slow respornace , \n",
    "*security , \n",
    "*crash "
   ]
  },
  {
   "cell_type": "raw",
   "id": "704955c0-55d6-4a1b-bba1-a28ea78cbf7f",
   "metadata": {},
   "source": [
    "What is a Web API? Differentiate between API and Web API.\n",
    "Web API is an interface wihich use http protocal\n",
    "api is used to appliaction \n",
    "A Web API stands for Application Programming Interface. It is a software application that allows two different applications or machines to interact with each other without any user interference. "
   ]
  },
  {
   "cell_type": "markdown",
   "id": "46c80155-5f41-4859-a392-bb9fe489385a",
   "metadata": {},
   "source": [
    "Explain REST and SOAP Architecture. Mention shortcomings of SOAP.\n",
    "rest : it is simple, scalable ,flaxable aritchiure of api,\n",
    "it used only http protocal\n",
    "soap:it is more secure api aritchure\n",
    "based on xmp protocal\n",
    "it contain  http, tcp/ip ,.. protocal\n",
    "\n",
    "shortcoming: less secure, no states(dont store the states )"
   ]
  },
  {
   "cell_type": "markdown",
   "id": "976a2324-a074-4544-826c-9727ec6b0d1b",
   "metadata": {},
   "source": [
    "Differentiate between REST and SOAP.\n",
    "rest : it is simple, scalable ,flaxable aritchiure of api,\n",
    "it used only http protocal\n",
    "\n",
    "soap:it is more secure api aritchure\n",
    "based on xmp protocal\n",
    "it contain  http, tcp/ip ,.. protocal"
   ]
  }
 ],
 "metadata": {
  "kernelspec": {
   "display_name": "Python 3 (ipykernel)",
   "language": "python",
   "name": "python3"
  },
  "language_info": {
   "codemirror_mode": {
    "name": "ipython",
    "version": 3
   },
   "file_extension": ".py",
   "mimetype": "text/x-python",
   "name": "python",
   "nbconvert_exporter": "python",
   "pygments_lexer": "ipython3",
   "version": "3.10.8"
  }
 },
 "nbformat": 4,
 "nbformat_minor": 5
}
