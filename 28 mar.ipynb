{
 "cells": [
  {
   "cell_type": "markdown",
   "metadata": {},
   "source": [
    "1.Ridge Regression , it regression which is used to prevent from overfit condition\n",
    "least squares regression: error (cost function)\n",
    "Ridge Regression: error (cost function)+ lambda(sum of (sqare of slope))"
   ]
  },
  {
   "cell_type": "markdown",
   "metadata": {},
   "source": [
    "2.assumptions of Ridge Regression:that some point were far from train dataset\n",
    "Homoscedasticity\n",
    "Independence of errors\n",
    "Normality of errors\n",
    "No multicollinearity"
   ]
  },
  {
   "cell_type": "markdown",
   "metadata": {},
   "source": [
    "3.we select the lamda value based on best performace  the model has oveefit:The value of lambda that gives the best performance on average across all the splits is chosen as the optimal value1."
   ]
  },
  {
   "cell_type": "markdown",
   "metadata": {},
   "source": [
    "4.yes, because the term similer to laso regression. if we increase term lamda then less co-relation will become zero\n"
   ]
  },
  {
   "cell_type": "markdown",
   "metadata": {},
   "source": [
    "5.if we increase lamda then high correlation will non zero that presence of multcollinearity\n"
   ]
  },
  {
   "cell_type": "markdown",
   "metadata": {},
   "source": [
    "6.Ridge Regression handle  continuous independent variables & catalartical"
   ]
  },
  {
   "cell_type": "markdown",
   "metadata": {},
   "source": [
    "7.coefficients of Ridge Regression is extra error that decreases the globel minima\n"
   ]
  },
  {
   "cell_type": "markdown",
   "metadata": {},
   "source": [
    "8.yes, by sliding window approach\n"
   ]
  }
 ],
 "metadata": {
  "language_info": {
   "name": "python"
  },
  "orig_nbformat": 4
 },
 "nbformat": 4,
 "nbformat_minor": 2
}
