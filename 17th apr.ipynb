{
 "cells": [
  {
   "cell_type": "code",
   "execution_count": null,
   "metadata": {},
   "outputs": [],
   "source": [
    "1.\n",
    "greadient boost regression is  Ensemble boost technique deriveing descision freee"
   ]
  },
  {
   "cell_type": "code",
   "execution_count": 2,
   "metadata": {},
   "outputs": [],
   "source": [
    "2.\n",
    "from sklearn.tree import DecisionTreeRegressor\n",
    "import pandas as pd"
   ]
  },
  {
   "cell_type": "code",
   "execution_count": 3,
   "metadata": {},
   "outputs": [],
   "source": [
    "dic={\n",
    "    \"Exprnces\":[1,3,4,5,6,7],\n",
    "    \"Gap\":[1,0,1,0,1,0],\n",
    "    \"salary\":[10,30,35,50,65,70]\n",
    "}"
   ]
  },
  {
   "cell_type": "code",
   "execution_count": 4,
   "metadata": {},
   "outputs": [],
   "source": [
    "test=pd.DataFrame({\"Exprnces\":[3,9],\n",
    "              \"Gap\":[1,0],\n",
    "              \"salary\":[25,90]\n",
    "              })"
   ]
  },
  {
   "cell_type": "code",
   "execution_count": 5,
   "metadata": {},
   "outputs": [
    {
     "data": {
      "text/html": [
       "<div>\n",
       "<style scoped>\n",
       "    .dataframe tbody tr th:only-of-type {\n",
       "        vertical-align: middle;\n",
       "    }\n",
       "\n",
       "    .dataframe tbody tr th {\n",
       "        vertical-align: top;\n",
       "    }\n",
       "\n",
       "    .dataframe thead th {\n",
       "        text-align: right;\n",
       "    }\n",
       "</style>\n",
       "<table border=\"1\" class=\"dataframe\">\n",
       "  <thead>\n",
       "    <tr style=\"text-align: right;\">\n",
       "      <th></th>\n",
       "      <th>Exprnces</th>\n",
       "      <th>Gap</th>\n",
       "      <th>salary</th>\n",
       "    </tr>\n",
       "  </thead>\n",
       "  <tbody>\n",
       "    <tr>\n",
       "      <th>0</th>\n",
       "      <td>1</td>\n",
       "      <td>1</td>\n",
       "      <td>10</td>\n",
       "    </tr>\n",
       "    <tr>\n",
       "      <th>1</th>\n",
       "      <td>3</td>\n",
       "      <td>0</td>\n",
       "      <td>30</td>\n",
       "    </tr>\n",
       "    <tr>\n",
       "      <th>2</th>\n",
       "      <td>4</td>\n",
       "      <td>1</td>\n",
       "      <td>35</td>\n",
       "    </tr>\n",
       "    <tr>\n",
       "      <th>3</th>\n",
       "      <td>5</td>\n",
       "      <td>0</td>\n",
       "      <td>50</td>\n",
       "    </tr>\n",
       "    <tr>\n",
       "      <th>4</th>\n",
       "      <td>6</td>\n",
       "      <td>1</td>\n",
       "      <td>65</td>\n",
       "    </tr>\n",
       "    <tr>\n",
       "      <th>5</th>\n",
       "      <td>7</td>\n",
       "      <td>0</td>\n",
       "      <td>70</td>\n",
       "    </tr>\n",
       "  </tbody>\n",
       "</table>\n",
       "</div>"
      ],
      "text/plain": [
       "   Exprnces  Gap  salary\n",
       "0         1    1      10\n",
       "1         3    0      30\n",
       "2         4    1      35\n",
       "3         5    0      50\n",
       "4         6    1      65\n",
       "5         7    0      70"
      ]
     },
     "execution_count": 5,
     "metadata": {},
     "output_type": "execute_result"
    }
   ],
   "source": [
    "df=pd.DataFrame(dic)\n",
    "df"
   ]
  },
  {
   "cell_type": "code",
   "execution_count": 6,
   "metadata": {},
   "outputs": [
    {
     "data": {
      "text/plain": [
       "43.333333333333336"
      ]
     },
     "execution_count": 6,
     "metadata": {},
     "output_type": "execute_result"
    }
   ],
   "source": [
    "avg=df.salary.mean()\n",
    "avg"
   ]
  },
  {
   "cell_type": "code",
   "execution_count": 7,
   "metadata": {},
   "outputs": [],
   "source": [
    "df['r1 res']=df.salary-avg"
   ]
  },
  {
   "cell_type": "code",
   "execution_count": 8,
   "metadata": {},
   "outputs": [],
   "source": [
    "d=DecisionTreeRegressor()\n",
    "d.fit(df[[\"Exprnces\",\"Gap\"]],df['r1 res'])\n",
    "df['r1 pred']=d.predict(df[[\"Exprnces\",\"Gap\"]])\n"
   ]
  },
  {
   "cell_type": "code",
   "execution_count": 9,
   "metadata": {},
   "outputs": [],
   "source": [
    "d2=DecisionTreeRegressor()\n",
    "d2.fit(df[[\"Exprnces\",\"Gap\"]],df['r1 pred'])\n",
    "df['r2 pred']=d2.predict(df[[\"Exprnces\",\"Gap\"]])"
   ]
  },
  {
   "cell_type": "code",
   "execution_count": 10,
   "metadata": {},
   "outputs": [
    {
     "data": {
      "text/plain": [
       "array([35., 70.])"
      ]
     },
     "execution_count": 10,
     "metadata": {},
     "output_type": "execute_result"
    }
   ],
   "source": [
    "final=avg+(d.predict(test[[\"Exprnces\",\"Gap\"]]))*0.5+(d2.predict(test[[\"Exprnces\",\"Gap\"]]))*0.5\n",
    "final"
   ]
  },
  {
   "cell_type": "code",
   "execution_count": 11,
   "metadata": {},
   "outputs": [
    {
     "name": "stdout",
     "output_type": "stream",
     "text": [
      "0.7633136094674556\n"
     ]
    }
   ],
   "source": [
    "from sklearn.metrics import r2_score,mean_squared_error\n",
    "print(r2_score(test[\"salary\"],final))"
   ]
  },
  {
   "cell_type": "code",
   "execution_count": 12,
   "metadata": {},
   "outputs": [
    {
     "data": {
      "text/html": [
       "<div>\n",
       "<style scoped>\n",
       "    .dataframe tbody tr th:only-of-type {\n",
       "        vertical-align: middle;\n",
       "    }\n",
       "\n",
       "    .dataframe tbody tr th {\n",
       "        vertical-align: top;\n",
       "    }\n",
       "\n",
       "    .dataframe thead th {\n",
       "        text-align: right;\n",
       "    }\n",
       "</style>\n",
       "<table border=\"1\" class=\"dataframe\">\n",
       "  <thead>\n",
       "    <tr style=\"text-align: right;\">\n",
       "      <th></th>\n",
       "      <th>total_bill</th>\n",
       "      <th>tip</th>\n",
       "      <th>sex</th>\n",
       "      <th>smoker</th>\n",
       "      <th>day</th>\n",
       "      <th>time</th>\n",
       "      <th>size</th>\n",
       "    </tr>\n",
       "  </thead>\n",
       "  <tbody>\n",
       "    <tr>\n",
       "      <th>0</th>\n",
       "      <td>16.99</td>\n",
       "      <td>1.01</td>\n",
       "      <td>Female</td>\n",
       "      <td>No</td>\n",
       "      <td>Sun</td>\n",
       "      <td>Dinner</td>\n",
       "      <td>2</td>\n",
       "    </tr>\n",
       "    <tr>\n",
       "      <th>1</th>\n",
       "      <td>10.34</td>\n",
       "      <td>1.66</td>\n",
       "      <td>Male</td>\n",
       "      <td>No</td>\n",
       "      <td>Sun</td>\n",
       "      <td>Dinner</td>\n",
       "      <td>3</td>\n",
       "    </tr>\n",
       "    <tr>\n",
       "      <th>2</th>\n",
       "      <td>21.01</td>\n",
       "      <td>3.50</td>\n",
       "      <td>Male</td>\n",
       "      <td>No</td>\n",
       "      <td>Sun</td>\n",
       "      <td>Dinner</td>\n",
       "      <td>3</td>\n",
       "    </tr>\n",
       "    <tr>\n",
       "      <th>3</th>\n",
       "      <td>23.68</td>\n",
       "      <td>3.31</td>\n",
       "      <td>Male</td>\n",
       "      <td>No</td>\n",
       "      <td>Sun</td>\n",
       "      <td>Dinner</td>\n",
       "      <td>2</td>\n",
       "    </tr>\n",
       "    <tr>\n",
       "      <th>4</th>\n",
       "      <td>24.59</td>\n",
       "      <td>3.61</td>\n",
       "      <td>Female</td>\n",
       "      <td>No</td>\n",
       "      <td>Sun</td>\n",
       "      <td>Dinner</td>\n",
       "      <td>4</td>\n",
       "    </tr>\n",
       "    <tr>\n",
       "      <th>...</th>\n",
       "      <td>...</td>\n",
       "      <td>...</td>\n",
       "      <td>...</td>\n",
       "      <td>...</td>\n",
       "      <td>...</td>\n",
       "      <td>...</td>\n",
       "      <td>...</td>\n",
       "    </tr>\n",
       "    <tr>\n",
       "      <th>239</th>\n",
       "      <td>29.03</td>\n",
       "      <td>5.92</td>\n",
       "      <td>Male</td>\n",
       "      <td>No</td>\n",
       "      <td>Sat</td>\n",
       "      <td>Dinner</td>\n",
       "      <td>3</td>\n",
       "    </tr>\n",
       "    <tr>\n",
       "      <th>240</th>\n",
       "      <td>27.18</td>\n",
       "      <td>2.00</td>\n",
       "      <td>Female</td>\n",
       "      <td>Yes</td>\n",
       "      <td>Sat</td>\n",
       "      <td>Dinner</td>\n",
       "      <td>2</td>\n",
       "    </tr>\n",
       "    <tr>\n",
       "      <th>241</th>\n",
       "      <td>22.67</td>\n",
       "      <td>2.00</td>\n",
       "      <td>Male</td>\n",
       "      <td>Yes</td>\n",
       "      <td>Sat</td>\n",
       "      <td>Dinner</td>\n",
       "      <td>2</td>\n",
       "    </tr>\n",
       "    <tr>\n",
       "      <th>242</th>\n",
       "      <td>17.82</td>\n",
       "      <td>1.75</td>\n",
       "      <td>Male</td>\n",
       "      <td>No</td>\n",
       "      <td>Sat</td>\n",
       "      <td>Dinner</td>\n",
       "      <td>2</td>\n",
       "    </tr>\n",
       "    <tr>\n",
       "      <th>243</th>\n",
       "      <td>18.78</td>\n",
       "      <td>3.00</td>\n",
       "      <td>Female</td>\n",
       "      <td>No</td>\n",
       "      <td>Thur</td>\n",
       "      <td>Dinner</td>\n",
       "      <td>2</td>\n",
       "    </tr>\n",
       "  </tbody>\n",
       "</table>\n",
       "<p>244 rows × 7 columns</p>\n",
       "</div>"
      ],
      "text/plain": [
       "     total_bill   tip     sex smoker   day    time  size\n",
       "0         16.99  1.01  Female     No   Sun  Dinner     2\n",
       "1         10.34  1.66    Male     No   Sun  Dinner     3\n",
       "2         21.01  3.50    Male     No   Sun  Dinner     3\n",
       "3         23.68  3.31    Male     No   Sun  Dinner     2\n",
       "4         24.59  3.61  Female     No   Sun  Dinner     4\n",
       "..          ...   ...     ...    ...   ...     ...   ...\n",
       "239       29.03  5.92    Male     No   Sat  Dinner     3\n",
       "240       27.18  2.00  Female    Yes   Sat  Dinner     2\n",
       "241       22.67  2.00    Male    Yes   Sat  Dinner     2\n",
       "242       17.82  1.75    Male     No   Sat  Dinner     2\n",
       "243       18.78  3.00  Female     No  Thur  Dinner     2\n",
       "\n",
       "[244 rows x 7 columns]"
      ]
     },
     "execution_count": 12,
     "metadata": {},
     "output_type": "execute_result"
    }
   ],
   "source": [
    "from seaborn import load_dataset\n",
    "load_dataset(\"tips\")"
   ]
  },
  {
   "cell_type": "code",
   "execution_count": 13,
   "metadata": {},
   "outputs": [],
   "source": [
    "3.\n",
    "import seaborn as sns\n",
    "from sklearn.datasets import load_iris\n"
   ]
  },
  {
   "cell_type": "code",
   "execution_count": 14,
   "metadata": {},
   "outputs": [],
   "source": [
    "data=load_iris()"
   ]
  },
  {
   "cell_type": "code",
   "execution_count": 15,
   "metadata": {},
   "outputs": [],
   "source": [
    "x=data.data\n",
    "y=data.target"
   ]
  },
  {
   "cell_type": "code",
   "execution_count": 16,
   "metadata": {},
   "outputs": [
    {
     "data": {
      "text/plain": [
       "(array([[6. , 2.2, 4. , 1. ],\n",
       "        [6.5, 3.2, 5.1, 2. ],\n",
       "        [5.5, 2.5, 4. , 1.3],\n",
       "        [6.3, 2.3, 4.4, 1.3],\n",
       "        [5.1, 3.8, 1.9, 0.4],\n",
       "        [6.6, 3. , 4.4, 1.4],\n",
       "        [4.4, 3.2, 1.3, 0.2],\n",
       "        [6.5, 3. , 5.2, 2. ],\n",
       "        [6.4, 2.7, 5.3, 1.9],\n",
       "        [5.2, 2.7, 3.9, 1.4],\n",
       "        [4.7, 3.2, 1.6, 0.2],\n",
       "        [5.1, 2.5, 3. , 1.1],\n",
       "        [6. , 3.4, 4.5, 1.6],\n",
       "        [5.3, 3.7, 1.5, 0.2],\n",
       "        [4.9, 2.4, 3.3, 1. ],\n",
       "        [7.3, 2.9, 6.3, 1.8],\n",
       "        [6.8, 2.8, 4.8, 1.4],\n",
       "        [6.2, 3.4, 5.4, 2.3],\n",
       "        [4.8, 3.1, 1.6, 0.2],\n",
       "        [6.1, 2.6, 5.6, 1.4],\n",
       "        [5.7, 2.8, 4.5, 1.3],\n",
       "        [5.6, 2.8, 4.9, 2. ],\n",
       "        [6.3, 2.7, 4.9, 1.8],\n",
       "        [5.9, 3. , 5.1, 1.8],\n",
       "        [5.4, 3.9, 1.7, 0.4],\n",
       "        [6.1, 3. , 4.6, 1.4],\n",
       "        [5.9, 3. , 4.2, 1.5],\n",
       "        [6.2, 2.9, 4.3, 1.3],\n",
       "        [5.2, 3.5, 1.5, 0.2],\n",
       "        [5.1, 3.8, 1.6, 0.2],\n",
       "        [6.6, 2.9, 4.6, 1.3],\n",
       "        [5.4, 3.7, 1.5, 0.2],\n",
       "        [6. , 2.2, 5. , 1.5],\n",
       "        [5.9, 3.2, 4.8, 1.8],\n",
       "        [5.2, 4.1, 1.5, 0.1],\n",
       "        [6.7, 3.1, 5.6, 2.4],\n",
       "        [5. , 3.5, 1.3, 0.3],\n",
       "        [4.4, 3. , 1.3, 0.2],\n",
       "        [6.2, 2.2, 4.5, 1.5],\n",
       "        [5.6, 2.5, 3.9, 1.1],\n",
       "        [5.1, 3.8, 1.5, 0.3],\n",
       "        [6.8, 3. , 5.5, 2.1],\n",
       "        [6.1, 2.8, 4. , 1.3],\n",
       "        [5. , 3.6, 1.4, 0.2],\n",
       "        [5.7, 3. , 4.2, 1.2],\n",
       "        [4.9, 3. , 1.4, 0.2],\n",
       "        [5.4, 3. , 4.5, 1.5],\n",
       "        [4.9, 2.5, 4.5, 1.7],\n",
       "        [5. , 3.4, 1.6, 0.4],\n",
       "        [5.5, 2.4, 3.8, 1.1],\n",
       "        [4.6, 3.1, 1.5, 0.2],\n",
       "        [6.3, 2.8, 5.1, 1.5],\n",
       "        [5.1, 3.3, 1.7, 0.5],\n",
       "        [5. , 3.4, 1.5, 0.2],\n",
       "        [6.9, 3.2, 5.7, 2.3],\n",
       "        [5.8, 2.7, 3.9, 1.2],\n",
       "        [5.8, 2.8, 5.1, 2.4],\n",
       "        [6.5, 2.8, 4.6, 1.5],\n",
       "        [6.7, 2.5, 5.8, 1.8],\n",
       "        [7.7, 2.8, 6.7, 2. ],\n",
       "        [5.6, 3. , 4.5, 1.5],\n",
       "        [6.7, 3. , 5. , 1.7],\n",
       "        [7.4, 2.8, 6.1, 1.9],\n",
       "        [5.6, 2.7, 4.2, 1.3],\n",
       "        [5.4, 3.9, 1.3, 0.4],\n",
       "        [5.7, 2.6, 3.5, 1. ],\n",
       "        [5. , 3.3, 1.4, 0.2],\n",
       "        [5.1, 3.5, 1.4, 0.2],\n",
       "        [5.4, 3.4, 1.7, 0.2],\n",
       "        [4.6, 3.2, 1.4, 0.2],\n",
       "        [5.8, 2.7, 4.1, 1. ],\n",
       "        [6.4, 3.1, 5.5, 1.8],\n",
       "        [5.5, 2.6, 4.4, 1.2],\n",
       "        [5.5, 3.5, 1.3, 0.2],\n",
       "        [6.7, 3.1, 4.4, 1.4],\n",
       "        [6.4, 3.2, 5.3, 2.3],\n",
       "        [5.2, 3.4, 1.4, 0.2],\n",
       "        [6.9, 3.1, 5.4, 2.1],\n",
       "        [5.7, 3.8, 1.7, 0.3],\n",
       "        [5.7, 2.5, 5. , 2. ],\n",
       "        [4.7, 3.2, 1.3, 0.2],\n",
       "        [5.6, 3. , 4.1, 1.3],\n",
       "        [4.5, 2.3, 1.3, 0.3],\n",
       "        [6.9, 3.1, 5.1, 2.3],\n",
       "        [7.1, 3. , 5.9, 2.1],\n",
       "        [4.8, 3.4, 1.9, 0.2],\n",
       "        [7.7, 3. , 6.1, 2.3],\n",
       "        [4.9, 3.6, 1.4, 0.1],\n",
       "        [6.5, 3. , 5.8, 2.2],\n",
       "        [6.3, 3.4, 5.6, 2.4],\n",
       "        [4.6, 3.6, 1. , 0.2],\n",
       "        [6.7, 3. , 5.2, 2.3],\n",
       "        [7.2, 3.6, 6.1, 2.5],\n",
       "        [4.8, 3. , 1.4, 0.1],\n",
       "        [7.9, 3.8, 6.4, 2. ],\n",
       "        [5.8, 2.6, 4. , 1.2],\n",
       "        [6.3, 3.3, 6. , 2.5],\n",
       "        [5. , 3.2, 1.2, 0.2],\n",
       "        [6.4, 2.8, 5.6, 2.2],\n",
       "        [5. , 2.3, 3.3, 1. ],\n",
       "        [6.5, 3. , 5.5, 1.8],\n",
       "        [4.4, 2.9, 1.4, 0.2],\n",
       "        [7.7, 3.8, 6.7, 2.2],\n",
       "        [4.8, 3. , 1.4, 0.3],\n",
       "        [4.9, 3.1, 1.5, 0.1],\n",
       "        [6.3, 2.9, 5.6, 1.8],\n",
       "        [6. , 2.7, 5.1, 1.6],\n",
       "        [5.8, 2.7, 5.1, 1.9],\n",
       "        [4.3, 3. , 1.1, 0.1],\n",
       "        [4.9, 3.1, 1.5, 0.2],\n",
       "        [5.6, 2.9, 3.6, 1.3],\n",
       "        [6.3, 2.5, 4.9, 1.5]]),\n",
       " array([[6.4, 3.2, 4.5, 1.5],\n",
       "        [5.5, 4.2, 1.4, 0.2],\n",
       "        [5. , 3. , 1.6, 0.2],\n",
       "        [6.1, 2.9, 4.7, 1.4],\n",
       "        [6.8, 3.2, 5.9, 2.3],\n",
       "        [7.6, 3. , 6.6, 2.1],\n",
       "        [6.1, 3. , 4.9, 1.8],\n",
       "        [5.8, 2.7, 5.1, 1.9],\n",
       "        [7. , 3.2, 4.7, 1.4],\n",
       "        [6.2, 2.8, 4.8, 1.8],\n",
       "        [6.7, 3.3, 5.7, 2.1],\n",
       "        [5.5, 2.4, 3.7, 1. ],\n",
       "        [6.3, 3.3, 4.7, 1.6],\n",
       "        [6.7, 3.1, 4.7, 1.5],\n",
       "        [6.1, 2.8, 4.7, 1.2],\n",
       "        [5.8, 4. , 1.2, 0.2],\n",
       "        [5. , 2. , 3.5, 1. ],\n",
       "        [6.3, 2.5, 5. , 1.9],\n",
       "        [6.4, 2.9, 4.3, 1.3],\n",
       "        [5.1, 3.7, 1.5, 0.4],\n",
       "        [7.2, 3.2, 6. , 1.8],\n",
       "        [5.7, 4.4, 1.5, 0.4],\n",
       "        [6.4, 2.8, 5.6, 2.1],\n",
       "        [6.7, 3.3, 5.7, 2.5],\n",
       "        [5.4, 3.4, 1.5, 0.4],\n",
       "        [5.7, 2.8, 4.1, 1.3],\n",
       "        [4.6, 3.4, 1.4, 0.3],\n",
       "        [5.1, 3.4, 1.5, 0.2],\n",
       "        [7.7, 2.6, 6.9, 2.3],\n",
       "        [6. , 2.9, 4.5, 1.5],\n",
       "        [4.8, 3.4, 1.6, 0.2],\n",
       "        [5. , 3.5, 1.6, 0.6],\n",
       "        [5.1, 3.5, 1.4, 0.3],\n",
       "        [6.9, 3.1, 4.9, 1.5],\n",
       "        [5.7, 2.9, 4.2, 1.3],\n",
       "        [7.2, 3. , 5.8, 1.6],\n",
       "        [5.5, 2.3, 4. , 1.3],\n",
       "        [6. , 3. , 4.8, 1.8]]),\n",
       " array([1, 2, 1, 1, 0, 1, 0, 2, 2, 1, 0, 1, 1, 0, 1, 2, 1, 2, 0, 2, 1, 2,\n",
       "        2, 2, 0, 1, 1, 1, 0, 0, 1, 0, 2, 1, 0, 2, 0, 0, 1, 1, 0, 2, 1, 0,\n",
       "        1, 0, 1, 2, 0, 1, 0, 2, 0, 0, 2, 1, 2, 1, 2, 2, 1, 1, 2, 1, 0, 1,\n",
       "        0, 0, 0, 0, 1, 2, 1, 0, 1, 2, 0, 2, 0, 2, 0, 1, 0, 2, 2, 0, 2, 0,\n",
       "        2, 2, 0, 2, 2, 0, 2, 1, 2, 0, 2, 1, 2, 0, 2, 0, 0, 2, 1, 2, 0, 0,\n",
       "        1, 1]),\n",
       " array([1, 0, 0, 1, 2, 2, 2, 2, 1, 2, 2, 1, 1, 1, 1, 0, 1, 2, 1, 0, 2, 0,\n",
       "        2, 2, 0, 1, 0, 0, 2, 1, 0, 0, 0, 1, 1, 2, 1, 2]))"
      ]
     },
     "execution_count": 16,
     "metadata": {},
     "output_type": "execute_result"
    }
   ],
   "source": [
    "from sklearn.model_selection import train_test_split\n",
    "x_train, x_test,y_train, y_test=train_test_split(x,y)\n",
    "x_train, x_test,y_train, y_test\n"
   ]
  },
  {
   "cell_type": "code",
   "execution_count": null,
   "metadata": {},
   "outputs": [],
   "source": []
  },
  {
   "cell_type": "code",
   "execution_count": null,
   "metadata": {},
   "outputs": [],
   "source": []
  },
  {
   "cell_type": "code",
   "execution_count": 34,
   "metadata": {},
   "outputs": [
    {
     "name": "stdout",
     "output_type": "stream",
     "text": [
      "Fitting 5 folds for each of 20 candidates, totalling 100 fits\n"
     ]
    },
    {
     "data": {
      "text/html": [
       "<style>#sk-container-id-9 {color: black;background-color: white;}#sk-container-id-9 pre{padding: 0;}#sk-container-id-9 div.sk-toggleable {background-color: white;}#sk-container-id-9 label.sk-toggleable__label {cursor: pointer;display: block;width: 100%;margin-bottom: 0;padding: 0.3em;box-sizing: border-box;text-align: center;}#sk-container-id-9 label.sk-toggleable__label-arrow:before {content: \"▸\";float: left;margin-right: 0.25em;color: #696969;}#sk-container-id-9 label.sk-toggleable__label-arrow:hover:before {color: black;}#sk-container-id-9 div.sk-estimator:hover label.sk-toggleable__label-arrow:before {color: black;}#sk-container-id-9 div.sk-toggleable__content {max-height: 0;max-width: 0;overflow: hidden;text-align: left;background-color: #f0f8ff;}#sk-container-id-9 div.sk-toggleable__content pre {margin: 0.2em;color: black;border-radius: 0.25em;background-color: #f0f8ff;}#sk-container-id-9 input.sk-toggleable__control:checked~div.sk-toggleable__content {max-height: 200px;max-width: 100%;overflow: auto;}#sk-container-id-9 input.sk-toggleable__control:checked~label.sk-toggleable__label-arrow:before {content: \"▾\";}#sk-container-id-9 div.sk-estimator input.sk-toggleable__control:checked~label.sk-toggleable__label {background-color: #d4ebff;}#sk-container-id-9 div.sk-label input.sk-toggleable__control:checked~label.sk-toggleable__label {background-color: #d4ebff;}#sk-container-id-9 input.sk-hidden--visually {border: 0;clip: rect(1px 1px 1px 1px);clip: rect(1px, 1px, 1px, 1px);height: 1px;margin: -1px;overflow: hidden;padding: 0;position: absolute;width: 1px;}#sk-container-id-9 div.sk-estimator {font-family: monospace;background-color: #f0f8ff;border: 1px dotted black;border-radius: 0.25em;box-sizing: border-box;margin-bottom: 0.5em;}#sk-container-id-9 div.sk-estimator:hover {background-color: #d4ebff;}#sk-container-id-9 div.sk-parallel-item::after {content: \"\";width: 100%;border-bottom: 1px solid gray;flex-grow: 1;}#sk-container-id-9 div.sk-label:hover label.sk-toggleable__label {background-color: #d4ebff;}#sk-container-id-9 div.sk-serial::before {content: \"\";position: absolute;border-left: 1px solid gray;box-sizing: border-box;top: 0;bottom: 0;left: 50%;z-index: 0;}#sk-container-id-9 div.sk-serial {display: flex;flex-direction: column;align-items: center;background-color: white;padding-right: 0.2em;padding-left: 0.2em;position: relative;}#sk-container-id-9 div.sk-item {position: relative;z-index: 1;}#sk-container-id-9 div.sk-parallel {display: flex;align-items: stretch;justify-content: center;background-color: white;position: relative;}#sk-container-id-9 div.sk-item::before, #sk-container-id-9 div.sk-parallel-item::before {content: \"\";position: absolute;border-left: 1px solid gray;box-sizing: border-box;top: 0;bottom: 0;left: 50%;z-index: -1;}#sk-container-id-9 div.sk-parallel-item {display: flex;flex-direction: column;z-index: 1;position: relative;background-color: white;}#sk-container-id-9 div.sk-parallel-item:first-child::after {align-self: flex-end;width: 50%;}#sk-container-id-9 div.sk-parallel-item:last-child::after {align-self: flex-start;width: 50%;}#sk-container-id-9 div.sk-parallel-item:only-child::after {width: 0;}#sk-container-id-9 div.sk-dashed-wrapped {border: 1px dashed gray;margin: 0 0.4em 0.5em 0.4em;box-sizing: border-box;padding-bottom: 0.4em;background-color: white;}#sk-container-id-9 div.sk-label label {font-family: monospace;font-weight: bold;display: inline-block;line-height: 1.2em;}#sk-container-id-9 div.sk-label-container {text-align: center;}#sk-container-id-9 div.sk-container {/* jupyter's `normalize.less` sets `[hidden] { display: none; }` but bootstrap.min.css set `[hidden] { display: none !important; }` so we also need the `!important` here to be able to override the default hidden behavior on the sphinx rendered scikit-learn.org. See: https://github.com/scikit-learn/scikit-learn/issues/21755 */display: inline-block !important;position: relative;}#sk-container-id-9 div.sk-text-repr-fallback {display: none;}</style><div id=\"sk-container-id-9\" class=\"sk-top-container\"><div class=\"sk-text-repr-fallback\"><pre>RandomizedSearchCV(estimator=GradientBoostingClassifier(), n_iter=20,\n",
       "                   param_distributions={&#x27;learning_rate&#x27;: [0.1, 1, 10, 100],\n",
       "                                        &#x27;max_depth&#x27;: [2, 3, 4],\n",
       "                                        &#x27;min_samples_split&#x27;: [2, 3, 4],\n",
       "                                        &#x27;n_estimators&#x27;: [10, 100]},\n",
       "                   verbose=1)</pre><b>In a Jupyter environment, please rerun this cell to show the HTML representation or trust the notebook. <br />On GitHub, the HTML representation is unable to render, please try loading this page with nbviewer.org.</b></div><div class=\"sk-container\" hidden><div class=\"sk-item sk-dashed-wrapped\"><div class=\"sk-label-container\"><div class=\"sk-label sk-toggleable\"><input class=\"sk-toggleable__control sk-hidden--visually\" id=\"sk-estimator-id-25\" type=\"checkbox\" ><label for=\"sk-estimator-id-25\" class=\"sk-toggleable__label sk-toggleable__label-arrow\">RandomizedSearchCV</label><div class=\"sk-toggleable__content\"><pre>RandomizedSearchCV(estimator=GradientBoostingClassifier(), n_iter=20,\n",
       "                   param_distributions={&#x27;learning_rate&#x27;: [0.1, 1, 10, 100],\n",
       "                                        &#x27;max_depth&#x27;: [2, 3, 4],\n",
       "                                        &#x27;min_samples_split&#x27;: [2, 3, 4],\n",
       "                                        &#x27;n_estimators&#x27;: [10, 100]},\n",
       "                   verbose=1)</pre></div></div></div><div class=\"sk-parallel\"><div class=\"sk-parallel-item\"><div class=\"sk-item\"><div class=\"sk-label-container\"><div class=\"sk-label sk-toggleable\"><input class=\"sk-toggleable__control sk-hidden--visually\" id=\"sk-estimator-id-26\" type=\"checkbox\" ><label for=\"sk-estimator-id-26\" class=\"sk-toggleable__label sk-toggleable__label-arrow\">estimator: GradientBoostingClassifier</label><div class=\"sk-toggleable__content\"><pre>GradientBoostingClassifier()</pre></div></div></div><div class=\"sk-serial\"><div class=\"sk-item\"><div class=\"sk-estimator sk-toggleable\"><input class=\"sk-toggleable__control sk-hidden--visually\" id=\"sk-estimator-id-27\" type=\"checkbox\" ><label for=\"sk-estimator-id-27\" class=\"sk-toggleable__label sk-toggleable__label-arrow\">GradientBoostingClassifier</label><div class=\"sk-toggleable__content\"><pre>GradientBoostingClassifier()</pre></div></div></div></div></div></div></div></div></div></div>"
      ],
      "text/plain": [
       "RandomizedSearchCV(estimator=GradientBoostingClassifier(), n_iter=20,\n",
       "                   param_distributions={'learning_rate': [0.1, 1, 10, 100],\n",
       "                                        'max_depth': [2, 3, 4],\n",
       "                                        'min_samples_split': [2, 3, 4],\n",
       "                                        'n_estimators': [10, 100]},\n",
       "                   verbose=1)"
      ]
     },
     "execution_count": 34,
     "metadata": {},
     "output_type": "execute_result"
    }
   ],
   "source": [
    "from sklearn.ensemble import GradientBoostingClassifier\n",
    "from sklearn.model_selection import RandomizedSearchCV\n",
    "para={\"learning_rate\":[0.1,1,10,100],\"n_estimators\":[10,100],\"max_depth\":[2,3,4],\"min_samples_split\":[2,3,4]}\n",
    "gscv=RandomizedSearchCV(GradientBoostingClassifier(),para,verbose=1,n_iter=20)\n",
    "gscv.fit(x_train,y_train)"
   ]
  },
  {
   "cell_type": "code",
   "execution_count": 38,
   "metadata": {},
   "outputs": [
    {
     "data": {
      "text/plain": [
       "{'n_estimators': 10,\n",
       " 'min_samples_split': 3,\n",
       " 'max_depth': 2,\n",
       " 'learning_rate': 0.1}"
      ]
     },
     "execution_count": 38,
     "metadata": {},
     "output_type": "execute_result"
    }
   ],
   "source": [
    "gscv.best_score_\n",
    "gscv.best_params_\n"
   ]
  },
  {
   "cell_type": "code",
   "execution_count": 39,
   "metadata": {},
   "outputs": [],
   "source": [
    "y_pred=gscv.predict(x_test)\n"
   ]
  },
  {
   "cell_type": "code",
   "execution_count": null,
   "metadata": {},
   "outputs": [],
   "source": [
    "4.weaklearner are decision tree in GradientBoosting are used that output real values for splits and whose output can be added together, allowing subsequent models outputs to be added and “correct” the residuals in the predictions123.\n"
   ]
  },
  {
   "cell_type": "code",
   "execution_count": null,
   "metadata": {},
   "outputs": [],
   "source": [
    "5. in GradientBoosting , we are creating base learner with which always return avg value in reggrestion & 50% probability in classification.\n",
    "after that,r1 restencal = target-M1 model \n",
    "again we training model by indepencaae feature & r1 restencal. \n",
    "and calcaute total true error, and calcuacte performmence. \n",
    "again we train model by indepance feature with r2 .. \n",
    "\n",
    "\n"
   ]
  },
  {
   "cell_type": "code",
   "execution_count": null,
   "metadata": {},
   "outputs": [],
   "source": [
    "6. Gradient Boosting algorithm builds an ensemble of weak learners by iteratively adding weak learners to the model, where each weak learner is trained to correct the mistakes made by the previous weak learners. Decision trees are used as the weak learner in gradient boosting. "
   ]
  },
  {
   "cell_type": "code",
   "execution_count": null,
   "metadata": {},
   "outputs": [],
   "source": [
    "7.\n",
    "createing base learner \n",
    "calcucalteing residetal \n",
    "contrasnstion of DecisionTree\n",
    "repaiting steps\n",
    "\n"
   ]
  },
  {
   "cell_type": "code",
   "execution_count": null,
   "metadata": {},
   "outputs": [],
   "source": [
    "8.\n",
    "f(x)=h(x)+alpha1(h1(x)+alpha2(h2(x))+alpha3(h3(x))..+alphan(hn(x))\n",
    "h,h1,h2.. are model preciston for x value \n",
    "alpha1,alpha2,alpha3 are learning parameter"
   ]
  }
 ],
 "metadata": {
  "kernelspec": {
   "display_name": "Python 3 (ipykernel)",
   "language": "python",
   "name": "python3"
  },
  "language_info": {
   "codemirror_mode": {
    "name": "ipython",
    "version": 3
   },
   "file_extension": ".py",
   "mimetype": "text/x-python",
   "name": "python",
   "nbconvert_exporter": "python",
   "pygments_lexer": "ipython3",
   "version": "3.10.8"
  }
 },
 "nbformat": 4,
 "nbformat_minor": 4
}
