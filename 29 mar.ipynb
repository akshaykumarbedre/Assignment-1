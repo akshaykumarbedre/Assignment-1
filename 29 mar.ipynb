{
 "cells": [
  {
   "cell_type": "markdown",
   "metadata": {},
   "source": [
    "1.Lasso Regression: is Regression model in which used to feature selecttion  by addina a extra term lamda of ads of sloap of each feature\n",
    "it is differ from other by extra term in linear regression model"
   ]
  },
  {
   "cell_type": "markdown",
   "metadata": {},
   "source": [
    "2. main adv is that it decreases the the low correlated feature\n"
   ]
  },
  {
   "cell_type": "markdown",
   "metadata": {},
   "source": [
    "3.whenever increase in lamda , the global min will move towared zero that decreser the less correxted feature"
   ]
  },
  {
   "cell_type": "markdown",
   "metadata": {},
   "source": [
    "4.lamda is tuning parameters that can be adjusted in Lasso Regression,when lambda incraese we are performing increase by decreasing less correlated to output feature"
   ]
  },
  {
   "cell_type": "markdown",
   "metadata": {},
   "source": [
    "5.NO"
   ]
  },
  {
   "cell_type": "markdown",
   "metadata": {},
   "source": [
    "6.Ridge regression\n",
    "    it used to prevent over fit condtion\n",
    "    it also called l2 regression\n",
    "    extra term is sum of sqare of slope\n",
    "Lasso regression\n",
    "    it used to feature selection\n",
    "    it also called l1 regression \n",
    "    extra term is sum of abs of slope\n"
   ]
  },
  {
   "cell_type": "markdown",
   "metadata": {},
   "source": [
    "7.yes, it handle multicollinearity in input features. \n",
    "by decreasing global minima , that increse multicollinearity in input features. "
   ]
  },
  {
   "cell_type": "markdown",
   "metadata": {},
   "source": [
    "8.the goal is to strike the right balance between simplicity and training-data fit"
   ]
  },
  {
   "cell_type": "markdown",
   "metadata": {},
   "source": []
  }
 ],
 "metadata": {
  "kernelspec": {
   "display_name": "Python 3",
   "language": "python",
   "name": "python3"
  },
  "language_info": {
   "codemirror_mode": {
    "name": "ipython",
    "version": 3
   },
   "file_extension": ".py",
   "mimetype": "text/x-python",
   "name": "python",
   "nbconvert_exporter": "python",
   "pygments_lexer": "ipython3",
   "version": "3.10.0"
  },
  "orig_nbformat": 4
 },
 "nbformat": 4,
 "nbformat_minor": 2
}
