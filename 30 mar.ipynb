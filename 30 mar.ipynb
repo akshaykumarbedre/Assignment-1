{
 "cells": [
  {
   "cell_type": "markdown",
   "metadata": {},
   "source": [
    "1.Elastic Net Regression is combination of lasso & redge regression\n",
    "it add extra term of l1, l2 regression to simple regression"
   ]
  },
  {
   "cell_type": "markdown",
   "metadata": {},
   "source": [
    "2. The optimal values of the regularization parameters for Elastic Net Regression can be found by testing for the optimal value of alpha and the L1-ratio. The L1-ratio is the mixing parameter between L1 and L2 regularization. The optimal value for alpha can be found by cross-validation1"
   ]
  },
  {
   "cell_type": "markdown",
   "metadata": {},
   "source": [
    "3. adv: it help to prevent from overfiting and help for feature selection\n",
    "div: some it decrease perofrmcae of model\n"
   ]
  },
  {
   "cell_type": "markdown",
   "metadata": {},
   "source": [
    "4.the dataset which high number of independecies features\n",
    "the dataset has outlier detection\n",
    "Predicting stock prices\n",
    "Predicting crime.\n",
    "Predicting customer churn"
   ]
  },
  {
   "cell_type": "markdown",
   "metadata": {},
   "source": [
    "5.The larger the absolute value of a coefficient, the stronger the effect of the corresponding feature on the target variable."
   ]
  },
  {
   "cell_type": "markdown",
   "metadata": {},
   "source": [
    "6.by deleteing rows or columns of null values in"
   ]
  },
  {
   "cell_type": "markdown",
   "metadata": {},
   "source": [
    "7.use Elastic Net Regression for feature selection by increseing l1 regression alpha value "
   ]
  },
  {
   "cell_type": "markdown",
   "metadata": {},
   "source": [
    "8.\n",
    "import pickle\n",
    "pickle.dump(\"\"\" give model\"\"\",open(filename ,\"wb\")) ## this will save as pickle file\n",
    "a=pickle.load(open(filename,\"rb\"))\n",
    "a. ..# we can use this model to predict \n",
    "\n"
   ]
  },
  {
   "cell_type": "markdown",
   "metadata": {},
   "source": [
    "9.it used for deploying the ml model "
   ]
  }
 ],
 "metadata": {
  "language_info": {
   "name": "python"
  },
  "orig_nbformat": 4
 },
 "nbformat": 4,
 "nbformat_minor": 2
}
