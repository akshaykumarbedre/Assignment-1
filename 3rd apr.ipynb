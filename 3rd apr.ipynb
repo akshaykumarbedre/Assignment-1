{
 "cells": [
  {
   "cell_type": "code",
   "execution_count": null,
   "metadata": {},
   "outputs": [],
   "source": [
    "1.\n",
    "this are matrix which used to calacaute performance of classification model\n",
    "precision:TP/TP+FP, we use when FP is important for classification\n",
    "recal:TP/TP+FN, we use when FN is important for classification"
   ]
  },
  {
   "cell_type": "code",
   "execution_count": null,
   "metadata": {},
   "outputs": [],
   "source": [
    "2. this are matrix which used to calacaute performance of classification model , when both FN & FP importanat\n",
    "f1=beta*(precision+recall)/(precision*recall)"
   ]
  },
  {
   "cell_type": "code",
   "execution_count": null,
   "metadata": {},
   "outputs": [],
   "source": [
    "3.. ROC is a graph that shows the performance of a classification model at all classification thresholds. It plots two parameters: True Positive Rate (TPR) and False Positive Rate (FPR) at different classification thresholds.\n",
    "AUC measures the entire two-dimensional area underneath the ROC curve from (0,0) to (1,1). AUC provides an aggregate measure of performance across all possible classification thresholds. The higher the AUC, the better the model is at distinguishing between positive and negative classes"
   ]
  },
  {
   "cell_type": "code",
   "execution_count": null,
   "metadata": {},
   "outputs": [],
   "source": [
    "4. we use precision,when FP is important for classification  \n",
    "we use recal, when FN is important for classification\n",
    "\n"
   ]
  },
  {
   "cell_type": "code",
   "execution_count": null,
   "metadata": {},
   "outputs": [],
   "source": [
    "NO Q number.\n",
    "multiclass classification  model is predect that multiple class on dependeca feature\n",
    "in binary classification, output feature also only 2 classes, 0 or 1\n"
   ]
  },
  {
   "cell_type": "code",
   "execution_count": null,
   "metadata": {},
   "outputs": [],
   "source": [
    "5.\n",
    "Logistic regression can be used for multiclass classification by using one-vs-rest (OvR) scheme if the ‘multi_class’ option is set to ‘ovr’, and uses the cross-entropy loss if the ‘multi_class’ option is set to ‘multinomial’. In OvR scheme, a binary classification problem is created for each class. The logistic regression model is then trained on each binary classification problem separately."
   ]
  },
  {
   "cell_type": "code",
   "execution_count": null,
   "metadata": {},
   "outputs": [],
   "source": [
    "6.\n",
    "data collection\n",
    "data cleaning\n",
    "Feature engernering\n",
    "create ML model \n",
    "optimus the hyperparameter \n",
    "create pikel file \n",
    "connect to API \n",
    "deploy in Cluod server\n"
   ]
  },
  {
   "cell_type": "code",
   "execution_count": null,
   "metadata": {},
   "outputs": [],
   "source": [
    "7.model deployment: it is processes of running file in server mode to access from internet.\n",
    "it is very impartant beause to presert the model to public or private group or HR"
   ]
  },
  {
   "cell_type": "code",
   "execution_count": null,
   "metadata": {},
   "outputs": [],
   "source": [
    "8.Multi-cloud platforms are used for model deployment by providing a way to deploy models across multiple cloud providers. This allows organizations to take advantage of the strengths of each cloud provider and avoid vendor lock-in. Multi-cloud platforms also provide a way to manage and monitor models across multiple clouds from a single interface."
   ]
  },
  {
   "cell_type": "code",
   "execution_count": null,
   "metadata": {},
   "outputs": [],
   "source": [
    "9.\n",
    "benefits: easy to use \n",
    "    any one can use the model \n",
    "    low cost \n",
    "    no maintance of server\n",
    "challenges:\n",
    "    some error that different fix the error beginer\n",
    "    need pay money for deployment\n",
    "    \n"
   ]
  }
 ],
 "metadata": {
  "language_info": {
   "name": "python"
  },
  "orig_nbformat": 4
 },
 "nbformat": 4,
 "nbformat_minor": 2
}
