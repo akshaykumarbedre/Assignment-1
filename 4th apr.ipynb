{
 "cells": [
  {
   "cell_type": "code",
   "execution_count": null,
   "metadata": {},
   "outputs": [],
   "source": [
    "1.decision tree classifier algorithm : it is ML model which used for classifcation problem\n",
    "it make predictions by createing tree structure, it classifies the feature in branch & sub branch untill leaf nod based on this is predicted "
   ]
  },
  {
   "cell_type": "code",
   "execution_count": null,
   "metadata": {},
   "outputs": [],
   "source": [
    "2. The top node is the root node, and you start questioning from the root node then move through the tree branches according to which groups you belong to until you reach a leaf node \n",
    "Impurity is a measure of purity, and it is used to measure how much information is needed in each square to accurately identify the color of round objects 1.\n",
    "which node has higer information gain , that is better"
   ]
  },
  {
   "cell_type": "code",
   "execution_count": null,
   "metadata": {},
   "outputs": [],
   "source": [
    "3. in decision tree, firstly it select the a singel feature and crete a node for each node , by cosdiering root node & then child nod to it , by calacutet probability of that class, \n",
    "similer we create Decision tree for each class has root node the tree which has low inpurity cheak  & high  cheak . \n",
    "cheaking impurity by: *Entropy & gini index\n",
    "that will used for prediction by *information gain"
   ]
  },
  {
   "cell_type": "code",
   "execution_count": null,
   "metadata": {},
   "outputs": [],
   "source": [
    "4.gemoteric inutution\n",
    "it select a feature , add child node by unqiue classes , and calacaute the how many are yes how many are no, the class which has  pure split , that will become the child, other will continue to be the child untill they become pure split"
   ]
  },
  {
   "cell_type": "code",
   "execution_count": null,
   "metadata": {},
   "outputs": [],
   "source": [
    "5.\n",
    "The confusion matrix can be used to evaluate the performance of a classification model by calculating various metrics such as precision, recall, accuracy, and F1 score 1.\n",
    "\n",
    "precision:TP/TP+FP, we use when FP is important for classification\n",
    "recal:TP/TP+FN, we use when FN is important for classification\n",
    "f1=beta*(precision*recall)/(precision+recall)"
   ]
  },
  {
   "cell_type": "code",
   "execution_count": null,
   "metadata": {},
   "outputs": [],
   "source": [
    "6.\n",
    "ex: \n",
    "[12,4]\n",
    "[3, 9]\n",
    "precision:TP/TP+FP, =12/15=0.8\n",
    "recal:TP/TP+FN,=12/16=.75\n",
    "f1=beta*(precision*recall)/(precision+recall):f1=1*(0.8*0.75)/(0.8+0.75)=0.38 for beta=1"
   ]
  },
  {
   "cell_type": "code",
   "execution_count": null,
   "metadata": {},
   "outputs": [],
   "source": [
    "7.precision:TP/TP+FP, we use when FP is important for classification\n",
    "recal:TP/TP+FN, we use when FN is important for classification\n",
    "f1=beta*(precision*recall)/(precision+recall)\n",
    "it can done by analyzing the the problem  statement"
   ]
  },
  {
   "cell_type": "code",
   "execution_count": null,
   "metadata": {},
   "outputs": [],
   "source": [
    "8.\n",
    "we use precision,when FP is important for classification \n",
    "ex:spam prediction\n",
    "FP is important means , we need give more importance that not to classfied as spam for normal massage, because it will problem if it classifies as spam\n"
   ]
  },
  {
   "cell_type": "code",
   "execution_count": null,
   "metadata": {},
   "outputs": [],
   "source": [
    "9.\n",
    "we use recal, when FN is important for classification\n",
    "ex;Diabetes\n",
    "FN is important , because if ML said normal to Diabetes then it problem he will diabate , not takeing medical treatment"
   ]
  }
 ],
 "metadata": {
  "language_info": {
   "name": "python"
  },
  "orig_nbformat": 4
 },
 "nbformat": 4,
 "nbformat_minor": 2
}
