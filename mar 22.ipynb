{
 "cells": [
  {
   "cell_type": "code",
   "execution_count": 7,
   "id": "f5f4e481-5565-4a17-b43f-93315b8f3baa",
   "metadata": {},
   "outputs": [
    {
     "name": "stdout",
     "output_type": "stream",
     "text": [
      "PearsonRResult(statistic=0.9793712618369017, pvalue=0.0006339280307805418)\n"
     ]
    }
   ],
   "source": [
    "1.\n",
    "'''the correalation is near to +ve, beause if a studuent read well , there is high probability that that queation may in exam thus scole will high \n",
    "hence covariance is near to 1'''\n",
    "from scipy.stats import pearsonr\n",
    "study_time=[4,5,3,5,7,8]\n",
    "scole=[45,65,30,68,87,95]\n",
    "print(pearsonr(study_time,scole))"
   ]
  },
  {
   "cell_type": "code",
   "execution_count": 8,
   "id": "53f17bb4-c7a9-4441-b523-011f6858a0d1",
   "metadata": {},
   "outputs": [
    {
     "name": "stdout",
     "output_type": "stream",
     "text": [
      "SpearmanrResult(correlation=0.9999999999999999, pvalue=1.4042654220543672e-24)\n"
     ]
    }
   ],
   "source": [
    "2.\n",
    "import pandas as pd\n",
    "from scipy.stats import spearmanr\n",
    "\n",
    "data = {'sleep': [8, 7, 6, 5, 9],\n",
    "        'job_satisfaction': [9, 8, 7, 6, 10]}\n",
    "\n",
    "df = pd.DataFrame(data)\n",
    "print(spearmanr(df['sleep'],df['job_satisfaction']))"
   ]
  },
  {
   "cell_type": "code",
   "execution_count": 9,
   "id": "9c049578-9d05-48a1-aa49-ef8983310994",
   "metadata": {},
   "outputs": [
    {
     "name": "stdout",
     "output_type": "stream",
     "text": [
      "   hours_exercise  bmi\n",
      "0               2   25\n",
      "1               3   26\n",
      "2               4   27\n",
      "3               5   28\n",
      "4               6   29\n",
      "5               7   30\n",
      "6               8   31\n",
      "7               9   32\n",
      "8              10   33\n",
      "9              11   34\n",
      "SpearmanrResult(correlation=0.9999999999999999, pvalue=6.646897422032013e-64)\n"
     ]
    }
   ],
   "source": [
    "3.\n",
    "import pandas as pd\n",
    "\n",
    "# Create a DataFrame\n",
    "df = pd.DataFrame({\n",
    "    \"hours_exercise\": [2, 3, 4, 5, 6, 7, 8, 9, 10, 11],\n",
    "    \"bmi\": [25, 26, 27, 28, 29, 30, 31, 32, 33, 34]\n",
    "})\n",
    "\n",
    "# Print the DataFrame\n",
    "print(df)\n",
    "print(spearmanr(df['hours_exercise'],df['bmi']))"
   ]
  },
  {
   "cell_type": "code",
   "execution_count": 11,
   "id": "8635c694-391b-464c-9440-a75ab55af510",
   "metadata": {},
   "outputs": [
    {
     "name": "stdout",
     "output_type": "stream",
     "text": [
      "   hours_tv  physical_activity\n",
      "0         2                 10\n",
      "1         3                  9\n",
      "2         4                  8\n",
      "3         5                  7\n",
      "4         6                  6\n",
      "5         7                  5\n",
      "6         8                  4\n",
      "7         9                  3\n",
      "8        10                  2\n",
      "9        11                  1\n",
      "SpearmanrResult(correlation=-0.9999999999999999, pvalue=6.646897422032013e-64)\n"
     ]
    }
   ],
   "source": [
    "4.\n",
    "import pandas as pd\n",
    "\n",
    "# Create a DataFrame\n",
    "df = pd.DataFrame({\n",
    "    \"hours_tv\": [2, 3, 4, 5, 6, 7, 8, 9, 10, 11],\n",
    "    \"physical_activity\": [10,9,8,7,6,5,4,3,2,1]\n",
    "})\n",
    "# Print the DataFrame\n",
    "print(df)\n",
    "print(spearmanr(df['hours_tv'],df['physical_activity']))\n"
   ]
  },
  {
   "cell_type": "code",
   "execution_count": null,
   "id": "df839d4e-cf8a-46f9-970a-71afc6ad1c5d",
   "metadata": {},
   "outputs": [],
   "source": [
    "5.\n",
    "In this servey , the lower age group are prefering  coke \n",
    "higher age group prefering  pepsi"
   ]
  },
  {
   "cell_type": "code",
   "execution_count": 38,
   "id": "ea054c66-de72-4a76-ab3b-a76b8061e5f3",
   "metadata": {},
   "outputs": [
    {
     "name": "stdout",
     "output_type": "stream",
     "text": [
      "    Sales_Calls_Per_Day  Sales_Per_Week\n",
      "0                    81              13\n",
      "1                    44               7\n",
      "2                    90               9\n",
      "3                    50               7\n",
      "4                    53              11\n",
      "5                    32               9\n",
      "6                    51              13\n",
      "7                    82              11\n",
      "8                    31               6\n",
      "9                    59               8\n",
      "10                   67              13\n",
      "11                   31              16\n",
      "12                   93              18\n",
      "13                   89               6\n",
      "14                   50              14\n",
      "15                   62              13\n",
      "16                   87              14\n",
      "17                   51               9\n",
      "18                   78               6\n",
      "19                   88               8\n",
      "20                   71              16\n",
      "21                   89              19\n",
      "22                   44              16\n",
      "23                   91              11\n",
      "24                   91              16\n",
      "25                   76              17\n",
      "26                   91              12\n",
      "27                   80              19\n",
      "28                   84               7\n",
      "29                   93              18\n",
      "SpearmanrResult(correlation=0.24686939892024706, pvalue=0.18845312598750705)\n"
     ]
    }
   ],
   "source": [
    "\n",
    "6.\n",
    "import pandas as pd\n",
    "import numpy as np\n",
    "from scipy.stats import spearmanr\n",
    "\n",
    "# Generating random data for number of sales calls made per day and number of sales made per week\n",
    "np.random.seed(42)  # For reproducibility\n",
    "\n",
    "num_sales_calls_per_day = np.random.randint(30, 100, 30)  # Random integers between 30 and 100\n",
    "num_sales_per_week = np.random.randint(5, 20, 30)  # Random integers between 5 and 20\n",
    "\n",
    "# Creating a pandas DataFrame to store the data\n",
    "data = pd.DataFrame({\n",
    "    'Sales_Calls_Per_Day': num_sales_calls_per_day,\n",
    "    'Sales_Per_Week': num_sales_per_week\n",
    "})\n",
    "\n",
    "# Displaying the data\n",
    "print(data)\n",
    "print(spearmanr(data['Sales_Calls_Per_Day'],data['Sales_Per_Week']))"
   ]
  }
 ],
 "metadata": {
  "kernelspec": {
   "display_name": "Python 3 (ipykernel)",
   "language": "python",
   "name": "python3"
  },
  "language_info": {
   "codemirror_mode": {
    "name": "ipython",
    "version": 3
   },
   "file_extension": ".py",
   "mimetype": "text/x-python",
   "name": "python",
   "nbconvert_exporter": "python",
   "pygments_lexer": "ipython3",
   "version": "3.10.8"
  }
 },
 "nbformat": 4,
 "nbformat_minor": 5
}
