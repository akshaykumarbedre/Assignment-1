{
 "cells": [
  {
   "cell_type": "code",
   "execution_count": null,
   "id": "6e5c4c8f-a4be-4fbe-a6cc-e2f4ebf77fd8",
   "metadata": {},
   "outputs": [],
   "source": [
    "1.\n",
    "database is collection of relaled data \n",
    "sql : it used to store formated data like table, objest,etc\n",
    "ex mysql , mssql ,etx\n",
    "\n",
    "nosql:it is used to store unformated data such as image , file , mp3\n",
    "ex:mongoDB"
   ]
  },
  {
   "cell_type": "code",
   "execution_count": null,
   "id": "199d54bc-167c-4f54-a40e-78d7cbf4ca07",
   "metadata": {},
   "outputs": [],
   "source": [
    "2.\n",
    "ddl is data defination langugse, which is used to design the database\n",
    "\n",
    "create it is used to carete a table \n",
    "ex: create table student(name varchar(10), age int);\n",
    "\n",
    "drop : it is used to delete the table\n",
    "ex:drop table student \n",
    "\n",
    "alter: it is used to change the degin of table\n",
    "ex:ALTER TABLE STUDENT (age long)\n",
    "\n",
    "truncate:it is used to delete complete table with backup\n",
    "ec trancate table student\n",
    "\n"
   ]
  },
  {
   "cell_type": "code",
   "execution_count": null,
   "id": "0e009daa-85b7-406d-96a5-a8a30cfad7d2",
   "metadata": {},
   "outputs": [],
   "source": [
    "3.\n",
    "DML is data manuplating launage\n",
    "\n",
    "insert : it is used to insert data in to table\n",
    "eg: insert into student values('akshay',19);\n",
    "\n",
    "update : it is used to update the value in a table\n",
    "eg: update stduent set name='kumar' where name='akshay'\n",
    "\n",
    "delete : it is used to delete data in database\n",
    "eg: delete from studet where age=19\n"
   ]
  },
  {
   "cell_type": "code",
   "execution_count": null,
   "id": "af34b48c-0866-4a8d-9006-a9d7bac02493",
   "metadata": {},
   "outputs": [],
   "source": [
    "4.\n",
    "DQl is data queary langage\n",
    "select : it is used retrive that data from datebase\n",
    "eg: select * from student\n"
   ]
  },
  {
   "cell_type": "code",
   "execution_count": null,
   "id": "04da18ff-476e-46dc-b894-58a930b5f967",
   "metadata": {},
   "outputs": [],
   "source": [
    "5.\n",
    "primary key : it is key contrain which maintain that it shoud be unqiue and not null\n",
    "it define while createing table \n",
    "foregin key: it is used to refernace anther table to maintain consistance and create relationship bw two table \n"
   ]
  },
  {
   "cell_type": "code",
   "execution_count": 2,
   "id": "4f9e7bbb-31af-4166-bf66-d63d31e0a72d",
   "metadata": {},
   "outputs": [],
   "source": [
    "6.\n",
    "# import mysql.connector\n",
    "mydb=mysql.connector.connect(\n",
    "host=\"localhost\",\n",
    "user='abc',\n",
    "password='password'\n",
    ")\n",
    "mycur=mydb.curasor()\n",
    "mycursor.execute()"
   ]
  },
  {
   "cell_type": "code",
   "execution_count": null,
   "id": "251c7fed-3045-43a0-8b8a-891b8ed16bab",
   "metadata": {},
   "outputs": [],
   "source": [
    "7. from , where, groupup, having, select , order by, limit\n"
   ]
  }
 ],
 "metadata": {
  "kernelspec": {
   "display_name": "Python 3 (ipykernel)",
   "language": "python",
   "name": "python3"
  },
  "language_info": {
   "codemirror_mode": {
    "name": "ipython",
    "version": 3
   },
   "file_extension": ".py",
   "mimetype": "text/x-python",
   "name": "python",
   "nbconvert_exporter": "python",
   "pygments_lexer": "ipython3",
   "version": "3.10.8"
  }
 },
 "nbformat": 4,
 "nbformat_minor": 5
}
