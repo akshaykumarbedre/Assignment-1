{
 "cells": [
  {
   "cell_type": "markdown",
   "id": "8bfb6c53-718e-401d-b205-1edd98e95e76",
   "metadata": {},
   "source": [
    "1.\n",
    "mean , medain , mode"
   ]
  },
  {
   "cell_type": "raw",
   "id": "e6d8e584-64e3-424f-a3f7-ff7c6d692112",
   "metadata": {},
   "source": [
    "2.\n",
    "mean = avg number of given data ,mean=(sum of data)/(no of data)\n",
    "median = is middle number in given data\n",
    "s1:order the data\n",
    "s2:if no of data=odd :the middle data is medain\n",
    "s2:if no of data=even then avg of 2 middle data is medaian\n",
    "mode is most repested value"
   ]
  },
  {
   "cell_type": "code",
   "execution_count": 1,
   "id": "b3a922cc-45a5-454a-b16c-61ca8a979d73",
   "metadata": {},
   "outputs": [],
   "source": [
    "# 3.\n",
    "d=[178,177,176,177,178.2,178,175,179,180,175,178.9,176.2,177,172.5,178,176.5]"
   ]
  },
  {
   "cell_type": "code",
   "execution_count": 4,
   "id": "4edc2fe8-d69f-41cd-992a-1ed365381e1d",
   "metadata": {},
   "outputs": [
    {
     "name": "stdout",
     "output_type": "stream",
     "text": [
      "177.01875\n",
      "177.0\n",
      "178\n"
     ]
    }
   ],
   "source": [
    "import numpy as np\n",
    "print(np.mean(d))\n",
    "print(np.median(d))\n",
    "import statistics as st\n",
    "print(st.mode(d))\n"
   ]
  },
  {
   "cell_type": "code",
   "execution_count": 7,
   "id": "0fad2a40-53df-40ad-9951-f00c5e3c21a7",
   "metadata": {},
   "outputs": [
    {
     "data": {
      "text/plain": [
       "1.7885814036548633"
      ]
     },
     "execution_count": 7,
     "metadata": {},
     "output_type": "execute_result"
    }
   ],
   "source": [
    "4.\n",
    "np.std(d)"
   ]
  },
  {
   "cell_type": "code",
   "execution_count": 16,
   "id": "93ce561c-65ed-4203-a035-78258ad66f8c",
   "metadata": {},
   "outputs": [
    {
     "name": "stdout",
     "output_type": "stream",
     "text": [
      "165.34556406373758\n",
      "1.6918103387266028\n"
     ]
    }
   ],
   "source": [
    "# 5\n",
    "# if range is larger then high spread of data\n",
    "# if range is lower then low spread of data \n",
    "\n",
    "# variance is low mean ,from mean postion less spread of data \n",
    "# variance is high mean ,from mean postion high spread of data \n",
    "\n",
    "# standard deviation if standard dev is 'n' , then data is spread from mean is avg 'n'\n",
    "\n",
    "d1=[11,234,657,34,8,3,8,98,5,34,65,8,9,174,12]\n",
    "d2=[7,6,8,5,9,6,7,8,9,9,9,7,6,4,4]\n",
    "print(np.std(d1))\n",
    "print(np.std(d2))"
   ]
  },
  {
   "cell_type": "code",
   "execution_count": 12,
   "id": "72413903-c05b-4181-bb24-559a5072fd73",
   "metadata": {},
   "outputs": [],
   "source": [
    "# 6.venn diagram is graphical representation of set operations"
   ]
  },
  {
   "cell_type": "code",
   "execution_count": null,
   "id": "3a857392-bd49-4668-afca-a3336721f44a",
   "metadata": {},
   "outputs": [],
   "source": [
    "7.i.{2,6}\n",
    "ii.{2,3,4,5,6,7,0,8,10}\n"
   ]
  },
  {
   "cell_type": "code",
   "execution_count": null,
   "id": "047ddbf7-2b65-4aca-982d-d83714d9998b",
   "metadata": {},
   "outputs": [],
   "source": [
    "# 8.\n",
    "skewness is histgram data of specific number of group\n"
   ]
  },
  {
   "cell_type": "code",
   "execution_count": null,
   "id": "09571a61-d024-4204-b2b6-96b5508f7634",
   "metadata": {},
   "outputs": [],
   "source": [
    "# 9.\n",
    "mode<=medain<=mean\n"
   ]
  },
  {
   "cell_type": "code",
   "execution_count": 29,
   "id": "f3b61cfc-0a39-47bf-9f67-d54ef38e481b",
   "metadata": {},
   "outputs": [
    {
     "name": "stdout",
     "output_type": "stream",
     "text": [
      "          set1      set2\n",
      "set1  4.666667  3.500000\n",
      "set2  3.500000  2.952381\n",
      "          set1      set2\n",
      "set1  1.000000  0.942928\n",
      "set2  0.942928  1.000000\n"
     ]
    }
   ],
   "source": [
    "# # 10.\n",
    "# covariance is meansure the to trend of two data set\n",
    "# range(-infinity to +infifity)\n",
    "# corelasation is measure relastionship bw two data set\n",
    "# range(-0 to +1)\n",
    "import pandas as pd\n",
    "d1=[1,2,3,4,5,6,7]\n",
    "d2=[4,5,6,7,8,7,9]\n",
    "d={\"set1\":d1,'set2':d2}\n",
    "d=pd.DataFrame(d)\n",
    "print(d.cov())\n",
    "# cov near to +ve , diretly proporsanal\n",
    "# cov near to -ve , inversly proposanal\n",
    "# cov ==0 , then no change\n",
    "print(d.corr())\n",
    "# corr near to 1 , diretly proporsanal\n",
    "# corr near to -1 , inversly proposanal\n",
    "# corr ==0 , then no change"
   ]
  },
  {
   "cell_type": "code",
   "execution_count": 31,
   "id": "0d47421c-5445-445b-b58c-f501da0f8800",
   "metadata": {},
   "outputs": [
    {
     "data": {
      "text/plain": [
       "4.0"
      ]
     },
     "execution_count": 31,
     "metadata": {},
     "output_type": "execute_result"
    }
   ],
   "source": [
    "# 11\n",
    "# sample mean = sum of sample mean data/no of data of sample mean \n",
    "import pandas as pd\n",
    "d1=[1,2,3,4,5,6,7]\n",
    "np.mean(d1)\n"
   ]
  },
  {
   "cell_type": "code",
   "execution_count": null,
   "id": "ecb0007e-e85c-4657-83ea-93745e7d949c",
   "metadata": {},
   "outputs": [],
   "source": [
    "# 12\n",
    "mode=medain=mean\n",
    "\n"
   ]
  },
  {
   "cell_type": "code",
   "execution_count": null,
   "id": "73626a5d-77f5-4e56-a79d-c67d745ba18a",
   "metadata": {},
   "outputs": [],
   "source": [
    "# 13\n",
    "# covariance is meansure the to trend of two data set\n",
    "# range(-infinity to +infifity)\n",
    "\n",
    "# corelasation is measure relastionship bw two data set\n",
    "# range(-0 to +1)\n"
   ]
  },
  {
   "cell_type": "code",
   "execution_count": 37,
   "id": "b34c7e98-d3ff-426b-8bfa-28d53d130c79",
   "metadata": {},
   "outputs": [
    {
     "name": "stdout",
     "output_type": "stream",
     "text": [
      "mean=4.0,median=4.0\n",
      "mean=9.125,median=4.5\n"
     ]
    }
   ],
   "source": [
    "# 14\n",
    "# outliners , \n",
    "# *high change in mean \n",
    "# *less chnage in medain\n",
    "# *no change in mode\n",
    "d1=[1,2,3,4,5,6,7]\n",
    "d2=[1,2,3,4,5,6,7,45]\n",
    "print(f\"mean={np.mean(d1)},median={np.median(d1)}\")\n",
    "\n",
    "print(f\"mean={np.mean(d2)},median={np.median(d2)}\")\n"
   ]
  }
 ],
 "metadata": {
  "kernelspec": {
   "display_name": "Python 3 (ipykernel)",
   "language": "python",
   "name": "python3"
  },
  "language_info": {
   "codemirror_mode": {
    "name": "ipython",
    "version": 3
   },
   "file_extension": ".py",
   "mimetype": "text/x-python",
   "name": "python",
   "nbconvert_exporter": "python",
   "pygments_lexer": "ipython3",
   "version": "3.10.8"
  }
 },
 "nbformat": 4,
 "nbformat_minor": 5
}
