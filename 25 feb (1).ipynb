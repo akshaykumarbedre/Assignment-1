{
 "cells": [
  {
   "cell_type": "code",
   "execution_count": 12,
   "id": "5218a0e2-29e6-49a5-8fd8-42283ddac5ec",
   "metadata": {},
   "outputs": [],
   "source": [
    "import pandas as pd\n",
    "course_name = ['Data Science', 'Machine Learning', 'Big Data', 'Data Engineer']\n",
    "duration = [2,3,6,4]\n",
    "df = pd.DataFrame(data = {'course_name' : course_name, 'duration' : duration})"
   ]
  },
  {
   "cell_type": "code",
   "execution_count": 97,
   "id": "2c06df37-d901-4851-8073-7f8f3e617ad3",
   "metadata": {},
   "outputs": [
    {
     "data": {
      "text/html": [
       "<div>\n",
       "<style scoped>\n",
       "    .dataframe tbody tr th:only-of-type {\n",
       "        vertical-align: middle;\n",
       "    }\n",
       "\n",
       "    .dataframe tbody tr th {\n",
       "        vertical-align: top;\n",
       "    }\n",
       "\n",
       "    .dataframe thead th {\n",
       "        text-align: right;\n",
       "    }\n",
       "</style>\n",
       "<table border=\"1\" class=\"dataframe\">\n",
       "  <thead>\n",
       "    <tr style=\"text-align: right;\">\n",
       "      <th></th>\n",
       "      <th>course_name</th>\n",
       "      <th>duration</th>\n",
       "    </tr>\n",
       "  </thead>\n",
       "  <tbody>\n",
       "    <tr>\n",
       "      <th>1</th>\n",
       "      <td>Machine Learning</td>\n",
       "      <td>3</td>\n",
       "    </tr>\n",
       "  </tbody>\n",
       "</table>\n",
       "</div>"
      ],
      "text/plain": [
       "        course_name  duration\n",
       "1  Machine Learning         3"
      ]
     },
     "execution_count": 97,
     "metadata": {},
     "output_type": "execute_result"
    }
   ],
   "source": [
    "# 1.\n",
    "df[1:2]"
   ]
  },
  {
   "cell_type": "code",
   "execution_count": 98,
   "id": "25331e66-d5a4-439a-ba27-1b99ab0aef01",
   "metadata": {},
   "outputs": [
    {
     "name": "stdout",
     "output_type": "stream",
     "text": [
      "course_name    Machine Learning\n",
      "duration                      3\n",
      "Name: 1, dtype: object\n",
      "1    Machine Learning\n",
      "2            Big Data\n",
      "Name: course_name, dtype: object\n"
     ]
    }
   ],
   "source": [
    "# 2.\n",
    "# loc vs iloc \n",
    " # iloc is  gets rows based on interger values\n",
    "print(df.iloc[1])\n",
    "# loc is get row data based on label on index\n",
    "print(df.loc[1:2,'course_name'])"
   ]
  },
  {
   "cell_type": "code",
   "execution_count": 99,
   "id": "b3a8e60e-179c-4108-af43-61bf13eff8f8",
   "metadata": {},
   "outputs": [],
   "source": [
    "# 3.\n",
    "new_df=df.reindex([3,0,1,2])"
   ]
  },
  {
   "cell_type": "code",
   "execution_count": 100,
   "id": "f6de186b-0c50-47aa-9bc3-c671ff6bda37",
   "metadata": {},
   "outputs": [
    {
     "data": {
      "text/html": [
       "<div>\n",
       "<style scoped>\n",
       "    .dataframe tbody tr th:only-of-type {\n",
       "        vertical-align: middle;\n",
       "    }\n",
       "\n",
       "    .dataframe tbody tr th {\n",
       "        vertical-align: top;\n",
       "    }\n",
       "\n",
       "    .dataframe thead th {\n",
       "        text-align: right;\n",
       "    }\n",
       "</style>\n",
       "<table border=\"1\" class=\"dataframe\">\n",
       "  <thead>\n",
       "    <tr style=\"text-align: right;\">\n",
       "      <th></th>\n",
       "      <th>course_name</th>\n",
       "      <th>duration</th>\n",
       "    </tr>\n",
       "  </thead>\n",
       "  <tbody>\n",
       "    <tr>\n",
       "      <th>3</th>\n",
       "      <td>Data Engineer</td>\n",
       "      <td>4</td>\n",
       "    </tr>\n",
       "    <tr>\n",
       "      <th>0</th>\n",
       "      <td>Data Science</td>\n",
       "      <td>2</td>\n",
       "    </tr>\n",
       "    <tr>\n",
       "      <th>1</th>\n",
       "      <td>Machine Learning</td>\n",
       "      <td>3</td>\n",
       "    </tr>\n",
       "    <tr>\n",
       "      <th>2</th>\n",
       "      <td>Big Data</td>\n",
       "      <td>6</td>\n",
       "    </tr>\n",
       "  </tbody>\n",
       "</table>\n",
       "</div>"
      ],
      "text/plain": [
       "        course_name  duration\n",
       "3     Data Engineer         4\n",
       "0      Data Science         2\n",
       "1  Machine Learning         3\n",
       "2          Big Data         6"
      ]
     },
     "execution_count": 100,
     "metadata": {},
     "output_type": "execute_result"
    }
   ],
   "source": [
    "new_df"
   ]
  },
  {
   "cell_type": "code",
   "execution_count": 101,
   "id": "23f66bfe-8a27-4a43-af08-8bd1ecd25bd2",
   "metadata": {},
   "outputs": [
    {
     "data": {
      "text/plain": [
       "course_name    Machine Learning\n",
       "duration                      3\n",
       "Name: 1, dtype: object"
      ]
     },
     "execution_count": 101,
     "metadata": {},
     "output_type": "execute_result"
    }
   ],
   "source": [
    "new_df.iloc[2]"
   ]
  },
  {
   "cell_type": "code",
   "execution_count": 102,
   "id": "c736c832-01dd-4032-a0bd-590163fa9eeb",
   "metadata": {},
   "outputs": [
    {
     "data": {
      "text/plain": [
       "course_name    Big Data\n",
       "duration              6\n",
       "Name: 2, dtype: object"
      ]
     },
     "execution_count": 102,
     "metadata": {},
     "output_type": "execute_result"
    }
   ],
   "source": [
    "new_df.loc[2]"
   ]
  },
  {
   "cell_type": "code",
   "execution_count": 103,
   "id": "08fa04ea-8d47-450b-b792-3bf7e023caaa",
   "metadata": {},
   "outputs": [
    {
     "ename": "SyntaxError",
     "evalue": "invalid syntax (3109050691.py, line 1)",
     "output_type": "error",
     "traceback": [
      "\u001b[0;36m  Cell \u001b[0;32mIn[103], line 1\u001b[0;36m\u001b[0m\n\u001b[0;31m    iloc is used defalut index value . it didnt depend on reindexing\u001b[0m\n\u001b[0m                 ^\u001b[0m\n\u001b[0;31mSyntaxError\u001b[0m\u001b[0;31m:\u001b[0m invalid syntax\n"
     ]
    }
   ],
   "source": [
    "iloc is used defalut index value . it didnt depend on reindexing\n",
    "loc is used update index value "
   ]
  },
  {
   "cell_type": "code",
   "execution_count": 104,
   "id": "a68cc2a1-f416-418c-89c6-c17f8b8f61ad",
   "metadata": {},
   "outputs": [],
   "source": [
    "import pandas as pd\n",
    "import numpy as np\n",
    "columns = ['column_1', 'column_2', 'column_3', 'column_4', 'column_5', 'column_6']\n",
    "indices = [1,2,3,4,5,6]\n",
    "#Creating a dataframe:\n",
    "df1 = pd.DataFrame(np.random.rand(6,6), columns = columns, index = indices)"
   ]
  },
  {
   "cell_type": "code",
   "execution_count": 105,
   "id": "48cfb9e8-9e98-4765-9046-a044bf67940c",
   "metadata": {},
   "outputs": [
    {
     "data": {
      "text/html": [
       "<div>\n",
       "<style scoped>\n",
       "    .dataframe tbody tr th:only-of-type {\n",
       "        vertical-align: middle;\n",
       "    }\n",
       "\n",
       "    .dataframe tbody tr th {\n",
       "        vertical-align: top;\n",
       "    }\n",
       "\n",
       "    .dataframe thead th {\n",
       "        text-align: right;\n",
       "    }\n",
       "</style>\n",
       "<table border=\"1\" class=\"dataframe\">\n",
       "  <thead>\n",
       "    <tr style=\"text-align: right;\">\n",
       "      <th></th>\n",
       "      <th>column_1</th>\n",
       "      <th>column_2</th>\n",
       "      <th>column_3</th>\n",
       "      <th>column_4</th>\n",
       "      <th>column_5</th>\n",
       "      <th>column_6</th>\n",
       "    </tr>\n",
       "  </thead>\n",
       "  <tbody>\n",
       "    <tr>\n",
       "      <th>1</th>\n",
       "      <td>0.065071</td>\n",
       "      <td>0.454978</td>\n",
       "      <td>0.115978</td>\n",
       "      <td>0.061961</td>\n",
       "      <td>0.692401</td>\n",
       "      <td>0.463987</td>\n",
       "    </tr>\n",
       "    <tr>\n",
       "      <th>2</th>\n",
       "      <td>0.422806</td>\n",
       "      <td>0.150710</td>\n",
       "      <td>0.852299</td>\n",
       "      <td>0.092405</td>\n",
       "      <td>0.436290</td>\n",
       "      <td>0.377838</td>\n",
       "    </tr>\n",
       "    <tr>\n",
       "      <th>3</th>\n",
       "      <td>0.376758</td>\n",
       "      <td>0.010486</td>\n",
       "      <td>0.562512</td>\n",
       "      <td>0.621641</td>\n",
       "      <td>0.981236</td>\n",
       "      <td>0.484261</td>\n",
       "    </tr>\n",
       "    <tr>\n",
       "      <th>4</th>\n",
       "      <td>0.893181</td>\n",
       "      <td>0.078276</td>\n",
       "      <td>0.195963</td>\n",
       "      <td>0.159065</td>\n",
       "      <td>0.759171</td>\n",
       "      <td>0.679072</td>\n",
       "    </tr>\n",
       "    <tr>\n",
       "      <th>5</th>\n",
       "      <td>0.901984</td>\n",
       "      <td>0.780385</td>\n",
       "      <td>0.496304</td>\n",
       "      <td>0.315962</td>\n",
       "      <td>0.124611</td>\n",
       "      <td>0.137832</td>\n",
       "    </tr>\n",
       "    <tr>\n",
       "      <th>6</th>\n",
       "      <td>0.848049</td>\n",
       "      <td>0.776829</td>\n",
       "      <td>0.237138</td>\n",
       "      <td>0.162870</td>\n",
       "      <td>0.711486</td>\n",
       "      <td>0.485369</td>\n",
       "    </tr>\n",
       "  </tbody>\n",
       "</table>\n",
       "</div>"
      ],
      "text/plain": [
       "   column_1  column_2  column_3  column_4  column_5  column_6\n",
       "1  0.065071  0.454978  0.115978  0.061961  0.692401  0.463987\n",
       "2  0.422806  0.150710  0.852299  0.092405  0.436290  0.377838\n",
       "3  0.376758  0.010486  0.562512  0.621641  0.981236  0.484261\n",
       "4  0.893181  0.078276  0.195963  0.159065  0.759171  0.679072\n",
       "5  0.901984  0.780385  0.496304  0.315962  0.124611  0.137832\n",
       "6  0.848049  0.776829  0.237138  0.162870  0.711486  0.485369"
      ]
     },
     "execution_count": 105,
     "metadata": {},
     "output_type": "execute_result"
    }
   ],
   "source": [
    "df1"
   ]
  },
  {
   "cell_type": "code",
   "execution_count": 106,
   "id": "97fe4b07-2434-4233-9751-35f46f1d41a5",
   "metadata": {},
   "outputs": [
    {
     "data": {
      "text/plain": [
       "column_1    0.584642\n",
       "column_2    0.375278\n",
       "column_3    0.410032\n",
       "column_4    0.235651\n",
       "column_5    0.617533\n",
       "column_6    0.438060\n",
       "dtype: float64"
      ]
     },
     "execution_count": 106,
     "metadata": {},
     "output_type": "execute_result"
    }
   ],
   "source": [
    "# 4.\n",
    "# i.\n",
    "df1.mean()"
   ]
  },
  {
   "cell_type": "code",
   "execution_count": 107,
   "id": "d0e1fc17-ddcc-49f4-84fd-93f6e9429147",
   "metadata": {},
   "outputs": [
    {
     "data": {
      "text/plain": [
       "0.347396399838607"
      ]
     },
     "execution_count": 107,
     "metadata": {},
     "output_type": "execute_result"
    }
   ],
   "source": [
    "# ii.\n",
    "df1['column_2'].std()"
   ]
  },
  {
   "cell_type": "code",
   "execution_count": 108,
   "id": "69b683f0-b286-4716-91a1-6aebabe8e17a",
   "metadata": {},
   "outputs": [
    {
     "data": {
      "text/html": [
       "<div>\n",
       "<style scoped>\n",
       "    .dataframe tbody tr th:only-of-type {\n",
       "        vertical-align: middle;\n",
       "    }\n",
       "\n",
       "    .dataframe tbody tr th {\n",
       "        vertical-align: top;\n",
       "    }\n",
       "\n",
       "    .dataframe thead th {\n",
       "        text-align: right;\n",
       "    }\n",
       "</style>\n",
       "<table border=\"1\" class=\"dataframe\">\n",
       "  <thead>\n",
       "    <tr style=\"text-align: right;\">\n",
       "      <th></th>\n",
       "      <th>column_1</th>\n",
       "      <th>column_2</th>\n",
       "      <th>column_3</th>\n",
       "      <th>column_4</th>\n",
       "      <th>column_5</th>\n",
       "      <th>column_6</th>\n",
       "    </tr>\n",
       "  </thead>\n",
       "  <tbody>\n",
       "    <tr>\n",
       "      <th>1</th>\n",
       "      <td>0.065071</td>\n",
       "      <td>0.454978</td>\n",
       "      <td>0.115978</td>\n",
       "      <td>0.061961</td>\n",
       "      <td>0.692401</td>\n",
       "      <td>0.463987</td>\n",
       "    </tr>\n",
       "    <tr>\n",
       "      <th>2</th>\n",
       "      <td>0.422806</td>\n",
       "      <td>0.150710</td>\n",
       "      <td>0.852299</td>\n",
       "      <td>0.092405</td>\n",
       "      <td>0.436290</td>\n",
       "      <td>0.377838</td>\n",
       "    </tr>\n",
       "    <tr>\n",
       "      <th>3</th>\n",
       "      <td>0.376758</td>\n",
       "      <td>0.010486</td>\n",
       "      <td>0.562512</td>\n",
       "      <td>0.621641</td>\n",
       "      <td>0.981236</td>\n",
       "      <td>0.484261</td>\n",
       "    </tr>\n",
       "    <tr>\n",
       "      <th>4</th>\n",
       "      <td>0.893181</td>\n",
       "      <td>0.078276</td>\n",
       "      <td>0.195963</td>\n",
       "      <td>0.159065</td>\n",
       "      <td>0.759171</td>\n",
       "      <td>0.679072</td>\n",
       "    </tr>\n",
       "    <tr>\n",
       "      <th>5</th>\n",
       "      <td>0.901984</td>\n",
       "      <td>0.780385</td>\n",
       "      <td>0.496304</td>\n",
       "      <td>0.315962</td>\n",
       "      <td>0.124611</td>\n",
       "      <td>0.137832</td>\n",
       "    </tr>\n",
       "    <tr>\n",
       "      <th>6</th>\n",
       "      <td>0.848049</td>\n",
       "      <td>0.776829</td>\n",
       "      <td>0.237138</td>\n",
       "      <td>0.162870</td>\n",
       "      <td>0.711486</td>\n",
       "      <td>0.485369</td>\n",
       "    </tr>\n",
       "  </tbody>\n",
       "</table>\n",
       "</div>"
      ],
      "text/plain": [
       "   column_1  column_2  column_3  column_4  column_5  column_6\n",
       "1  0.065071  0.454978  0.115978  0.061961  0.692401  0.463987\n",
       "2  0.422806  0.150710  0.852299  0.092405  0.436290  0.377838\n",
       "3  0.376758  0.010486  0.562512  0.621641  0.981236  0.484261\n",
       "4  0.893181  0.078276  0.195963  0.159065  0.759171  0.679072\n",
       "5  0.901984  0.780385  0.496304  0.315962  0.124611  0.137832\n",
       "6  0.848049  0.776829  0.237138  0.162870  0.711486  0.485369"
      ]
     },
     "execution_count": 108,
     "metadata": {},
     "output_type": "execute_result"
    }
   ],
   "source": [
    "df1"
   ]
  },
  {
   "cell_type": "code",
   "execution_count": 109,
   "id": "5fa4362a-0258-4f95-9db1-534b0a3a3316",
   "metadata": {},
   "outputs": [],
   "source": [
    "# 5.\n",
    "df1.loc[2,'column_2']=str(df1.loc[2,'column_2'])"
   ]
  },
  {
   "cell_type": "code",
   "execution_count": 1,
   "id": "7a085d9d-816a-4986-b774-69d16d991d56",
   "metadata": {},
   "outputs": [],
   "source": [
    "\n",
    "df1['column_2'].std()#this error due to we change value to string , as we know we dont do math opation with string"
   ]
  },
  {
   "cell_type": "code",
   "execution_count": 113,
   "id": "16325ad7-e767-4193-886f-374864c6eb91",
   "metadata": {},
   "outputs": [],
   "source": [
    "# # 6.\n",
    "# window funtion is specal fusntion which used perform some oparation on moveing set of values\n",
    "# *rolling: we can perform opartion on resulting value like mean , sum , std.... \n",
    "# *cumsum\n",
    "# *cumprod"
   ]
  },
  {
   "cell_type": "code",
   "execution_count": 344,
   "id": "e5afe328-d1d1-4169-be69-f114bc411e63",
   "metadata": {},
   "outputs": [],
   "source": [
    "# 7\n",
    "data=pd.to_datetime('today')"
   ]
  },
  {
   "cell_type": "code",
   "execution_count": 347,
   "id": "e6a6f967-e2e4-4176-9181-5b0755ce6c1a",
   "metadata": {},
   "outputs": [
    {
     "data": {
      "text/plain": [
       "'March 2023'"
      ]
     },
     "execution_count": 347,
     "metadata": {},
     "output_type": "execute_result"
    }
   ],
   "source": [
    "data.strftime((\"%B %Y\"))"
   ]
  },
  {
   "cell_type": "code",
   "execution_count": 354,
   "id": "1f4937df-b001-452f-a734-b9c3a61d6896",
   "metadata": {},
   "outputs": [
    {
     "name": "stdin",
     "output_type": "stream",
     "text": [
      "Enter data 1 2020-01-01\n",
      "Enter data 2 2021-01-01\n"
     ]
    },
    {
     "data": {
      "text/plain": [
       "Timedelta('366 days 00:00:00')"
      ]
     },
     "execution_count": 354,
     "metadata": {},
     "output_type": "execute_result"
    }
   ],
   "source": [
    "#8\n",
    "d1=input(\"Enter data 1\")\n",
    "d2=input(\"Enter data 2\")\n",
    "d1=pd.to_datetime(d1)\n",
    "d2=pd.to_datetime(d2)\n",
    "print(d2-d1)"
   ]
  },
  {
   "cell_type": "code",
   "execution_count": 46,
   "id": "cf54ba1e-76b9-4bd7-b095-fcf6c08b2e56",
   "metadata": {},
   "outputs": [],
   "source": [
    "#9\n",
    "import pandas as pd\n",
    "import logging \n",
    "logging.basicConfig(filename=\"file.log\")\n",
    "path=input(\"Enter path\")\n",
    "col=input(\"Enter col\")\n",
    "try:\n",
    "    order=bool(input(\"Enter order 1 for ase 0 for desc\"))\n",
    "    df=pd.read_csv(path)\n",
    "    df=pd.Categorical(df[col])\n",
    "    df.sort_values(ascending=order)    \n",
    "except Exception as e:\n",
    "    print(e)\n",
    "    logging.error(e)\n",
    "\n",
    "\n"
   ]
  },
  {
   "cell_type": "code",
   "execution_count": 85,
   "id": "e32cd8b6-1c38-47a9-8d71-8cf4fe90f59d",
   "metadata": {},
   "outputs": [
    {
     "name": "stderr",
     "output_type": "stream",
     "text": [
      "/tmp/ipykernel_77/1702916175.py:19: FutureWarning: The default value of numeric_only in DataFrameGroupBy.sum is deprecated. In a future version, numeric_only will default to False. Either specify numeric_only or select only columns which should be valid for the function.\n",
      "  td=(df[df['Item']==i]).groupby(\"month\").sum()\n",
      "/tmp/ipykernel_77/1702916175.py:19: FutureWarning: The default value of numeric_only in DataFrameGroupBy.sum is deprecated. In a future version, numeric_only will default to False. Either specify numeric_only or select only columns which should be valid for the function.\n",
      "  td=(df[df['Item']==i]).groupby(\"month\").sum()\n",
      "/tmp/ipykernel_77/1702916175.py:19: FutureWarning: The default value of numeric_only in DataFrameGroupBy.sum is deprecated. In a future version, numeric_only will default to False. Either specify numeric_only or select only columns which should be valid for the function.\n",
      "  td=(df[df['Item']==i]).groupby(\"month\").sum()\n",
      "/tmp/ipykernel_77/1702916175.py:19: FutureWarning: The default value of numeric_only in DataFrameGroupBy.sum is deprecated. In a future version, numeric_only will default to False. Either specify numeric_only or select only columns which should be valid for the function.\n",
      "  td=(df[df['Item']==i]).groupby(\"month\").sum()\n",
      "/tmp/ipykernel_77/1702916175.py:19: FutureWarning: The default value of numeric_only in DataFrameGroupBy.sum is deprecated. In a future version, numeric_only will default to False. Either specify numeric_only or select only columns which should be valid for the function.\n",
      "  td=(df[df['Item']==i]).groupby(\"month\").sum()\n",
      "/tmp/ipykernel_77/1702916175.py:23: FutureWarning: The default value of numeric_only in DataFrameGroupBy.sum is deprecated. In a future version, numeric_only will default to False. Either specify numeric_only or select only columns which should be valid for the function.\n",
      "  print(df.groupby('Item').sum())\n"
     ]
    },
    {
     "name": "stdout",
     "output_type": "stream",
     "text": [
      "         Units  Unit Cost  month\n",
      "Item                            \n",
      "Binder     722     172.86     93\n",
      "Desk        10     525.00     23\n",
      "Pen        278      55.95     36\n",
      "Pen Set    395      83.39     57\n",
      "Pencil     716      36.07     74\n"
     ]
    },
    {
     "data": {
      "image/png": "[encoded data removed]",
      "text/plain": [
       "<Figure size 640x480 with 1 Axes>"
      ]
     },
     "metadata": {},
     "output_type": "display_data"
    },
    {
     "data": {
      "image/png": "[encoded data removed]",
      "text/plain": [
       "<Figure size 640x480 with 1 Axes>"
      ]
     },
     "metadata": {},
     "output_type": "display_data"
    },
    {
     "data": {
      "image/png": "[encoded data removed]",
      "text/plain": [
       "<Figure size 640x480 with 1 Axes>"
      ]
     },
     "metadata": {},
     "output_type": "display_data"
    },
    {
     "data": {
      "image/png": "[encoded data removed]",
      "text/plain": [
       "<Figure size 640x480 with 1 Axes>"
      ]
     },
     "metadata": {},
     "output_type": "display_data"
    },
    {
     "data": {
      "image/png": "[encoded data removed]",
      "text/plain": [
       "<Figure size 640x480 with 1 Axes>"
      ]
     },
     "metadata": {},
     "output_type": "display_data"
    }
   ],
   "source": [
    "# 10\n",
    "import pandas as pd\n",
    "# import logging \n",
    "# logging.basicConfig(filename=\"file.log\")\n",
    "# # path=input(\"Enter path\")\n",
    "# try:\n",
    "#     pass  \n",
    "# except Exception as e:\n",
    "#     print(e)\n",
    "#     logging.error(e)\n",
    "df=pd.read_csv(\"sale_data.csv\")\n",
    "df['OrderDate']=pd.to_datetime(df['OrderDate'])\n",
    "df['month']=df['OrderDate'].dt.month\n",
    "# print(df)\n",
    "ndf=pd.DataFrame({\"month\":[1,2,3,4,5,6,7,8,9,10,11,12]})\n",
    "ndf.set_index(\"month\", inplace=True)\n",
    "li=df['Item'].unique()\n",
    "for i in li:\n",
    "    td=(df[df['Item']==i]).groupby(\"month\").sum()\n",
    "    td.plot.bar()\n",
    "\n",
    "    \n",
    "print(df.groupby('Item').sum())\n",
    "\n",
    "\n"
   ]
  },
  {
   "cell_type": "code",
   "execution_count": 13,
   "id": "03529b73-b589-49ee-b4df-d141b5e656c9",
   "metadata": {},
   "outputs": [
    {
     "name": "stdin",
     "output_type": "stream",
     "text": [
      "Enter path std.csv\n"
     ]
    },
    {
     "name": "stdout",
     "output_type": "stream",
     "text": [
      "  Statistic                                   Value\n",
      "0      mean                                    83.5\n",
      "1    Medain                                    85.0\n",
      "2      Mode  0    85\n",
      "Name: Test Score, dtype: int64\n"
     ]
    }
   ],
   "source": [
    "# 11\n",
    "import pandas as pd\n",
    "import logging \n",
    "logging.basicConfig(filename=\"file.log\")\n",
    "path=input(\"Enter path\")\n",
    "try:\n",
    "    df=pd.read_csv(path)\n",
    "    data=df[\"Test Score\"]\n",
    "    df1=pd.DataFrame({\"Statistic\":[\"mean\",\"Medain\",\"Mode\"], \"Value\":[data.mean(),data.median(),(data.mode())]})\n",
    "    print(df1)    \n",
    "except Exception as e:\n",
    "    print(e)\n",
    "    logging.error(e)\n"
   ]
  }
 ],
 "metadata": {
  "kernelspec": {
   "display_name": "Python 3 (ipykernel)",
   "language": "python",
   "name": "python3"
  },
  "language_info": {
   "codemirror_mode": {
    "name": "ipython",
    "version": 3
   },
   "file_extension": ".py",
   "mimetype": "text/x-python",
   "name": "python",
   "nbconvert_exporter": "python",
   "pygments_lexer": "ipython3",
   "version": "3.10.8"
  }
 },
 "nbformat": 4,
 "nbformat_minor": 5
}
