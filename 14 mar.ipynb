{
 "cells": [
  {
   "cell_type": "code",
   "execution_count": 54,
   "id": "a36e5f47-ab80-46f9-ba9c-7f930f1bd4d4",
   "metadata": {},
   "outputs": [],
   "source": [
    "1.\n",
    "import numpy as np\n",
    "import scipy.stats as stat\n",
    "\n",
    "def ftext(d1,d2):\n",
    "    f=np.var(d1)/np.var(d2)\n",
    "    df1=len(d1)-1\n",
    "    df2=len(d2)-1\n",
    "    p=stat.f.ppf(q=.95,dfn=df1,dfd=df2)\n",
    "    return f,p\n"
   ]
  },
  {
   "cell_type": "code",
   "execution_count": 19,
   "id": "08a6801b-1dbc-497d-a9da-ac6abd478f11",
   "metadata": {},
   "outputs": [
    {
     "data": {
      "text/plain": [
       "(3.28125, 19.164292127511278)"
      ]
     },
     "execution_count": 19,
     "metadata": {},
     "output_type": "execute_result"
    }
   ],
   "source": [
    "ftext([1,2,3,5],[1,2,3])"
   ]
  },
  {
   "cell_type": "code",
   "execution_count": 20,
   "id": "f69d8a9f-9e7f-41d9-8165-162f458b5247",
   "metadata": {},
   "outputs": [
    {
     "data": {
      "text/plain": [
       "9.01345516752258"
      ]
     },
     "execution_count": 20,
     "metadata": {},
     "output_type": "execute_result"
    }
   ],
   "source": [
    "2.\n",
    "alph=0.05\n",
    "df1=5\n",
    "df2=3\n",
    "def fcvalue(alpha,df1,df2):\n",
    "    return stat.f.ppf(q=1-alpha,dfn=df1,dfd=df2)\n",
    "fcvalue(alph,df1,df2)"
   ]
  },
  {
   "cell_type": "code",
   "execution_count": 29,
   "id": "1b9f13d8-fdcf-46fd-aa71-29e388fa7573",
   "metadata": {},
   "outputs": [
    {
     "name": "stdout",
     "output_type": "stream",
     "text": [
      "f text value=0.8614957520641379,\n",
      "degree of 1st & 2nd is 19 ,11,\n",
      "p value =2.658080103304694\n"
     ]
    }
   ],
   "source": [
    "3.\n",
    "import numpy as np\n",
    "d1=np.random.randint(1,100,20)\n",
    "d2=np.random.randint(1,100,12)\n",
    "\n",
    "f=np.var(d1)/np.var(d2)\n",
    "df1=len(d1)-1\n",
    "df2=len(d2)-1\n",
    "p=stat.f.ppf(q=.95,dfn=df1,dfd=df2)\n",
    "print(f\"f text value={f},\\ndegree of 1st & 2nd is {df1} ,{df2},\\np value ={p}\")\n"
   ]
  },
  {
   "cell_type": "code",
   "execution_count": 52,
   "id": "b90f1cf6-1805-426f-a106-8104bbedb406",
   "metadata": {},
   "outputs": [],
   "source": [
    "4.\n",
    "def ftext(d1,d2,l):\n",
    "    f=(d1)/(d2)\n",
    "    df1=l\n",
    "    df2=l\n",
    "    p=stat.f.ppf(q=.95,dfn=df1,dfd=df2)\n",
    "    return f,p"
   ]
  },
  {
   "cell_type": "code",
   "execution_count": 53,
   "id": "f292cf17-bd5d-4966-8089-ae7e3be66bc3",
   "metadata": {},
   "outputs": [
    {
     "data": {
      "text/plain": [
       "(0.6666666666666666, 2.686637112495684)"
      ]
     },
     "execution_count": 53,
     "metadata": {},
     "output_type": "execute_result"
    }
   ],
   "source": [
    "ftext(10,15,12)\n",
    "# there is no signifieate differct"
   ]
  },
  {
   "cell_type": "code",
   "execution_count": 50,
   "id": "2a8c7d16-b4ca-4ce2-8846-bcaecaa277db",
   "metadata": {},
   "outputs": [
    {
     "data": {
      "text/plain": [
       "(0.8333333333333334, 2.604113368416922)"
      ]
     },
     "execution_count": 50,
     "metadata": {},
     "output_type": "execute_result"
    }
   ],
   "source": [
    "5.\n",
    "def ftext(d1,d2,l,a):\n",
    "    f=(d1)/(d2)\n",
    "    df1=l\n",
    "    df2=l\n",
    "    p=stat.f.ppf(q=1-a,dfn=df1,dfd=df2)\n",
    "    return f,p\n",
    "ftext(0.005,0.006,25,.01)\n",
    "#there is no signiaficatent differnsts"
   ]
  },
  {
   "cell_type": "code",
   "execution_count": 49,
   "id": "d493d8be-8e81-4259-bb50-4823e439c869",
   "metadata": {},
   "outputs": [],
   "source": [
    "6.\n",
    "import scipy.stats as stats\n",
    "\n",
    "def f_distribution_mean_variance(numerator_df, denominator_df):\n",
    "    mean = denominator_df / (denominator_df - 2)\n",
    "    variance = (2 * denominator_df ** 2 * (numerator_df + denominator_df - 2)) / (numerator_df * (denominator_df - 2) ** 2 * (denominator_df - 4))\n",
    "    return mean, variance\n",
    "    "
   ]
  },
  {
   "cell_type": "code",
   "execution_count": 48,
   "id": "a7711b2e-6777-4e87-8aec-fa48d9eb3e2f",
   "metadata": {},
   "outputs": [
    {
     "name": "stdout",
     "output_type": "stream",
     "text": [
      "1.25 1.8657819359164252\n"
     ]
    }
   ],
   "source": [
    "7.\n",
    "\n",
    "f=25/20\n",
    "df1=10\n",
    "df2=25\n",
    "p=stat.f.ppf(q=.9,dfn=df1,dfd=df2)\n",
    "print(f,p)\n",
    "# there is no significent diffrenst in two events"
   ]
  },
  {
   "cell_type": "code",
   "execution_count": 47,
   "id": "2007f9b2-cc03-4fea-b00e-1883c5851edb",
   "metadata": {},
   "outputs": [
    {
     "data": {
      "text/plain": [
       "(1.496767651159843, 4.950288068694318)"
      ]
     },
     "execution_count": 47,
     "metadata": {},
     "output_type": "execute_result"
    }
   ],
   "source": [
    "8.\n",
    "def ftext(d1,d2):\n",
    "    f=np.var(d1)/np.var(d2)\n",
    "    df1=len(d1)-1\n",
    "    df2=len(d2)-1\n",
    "    p=stat.f.ppf(q=.95,dfn=df1,dfd=df2)\n",
    "    return f,p\n",
    "d1=[24, 25, 28, 23, 22, 20, 27]\n",
    "d2=[31, 33, 35, 30, 32, 36]\n",
    "ftext(d1,d2)\n",
    "# there is no significent in differnst of two events"
   ]
  },
  {
   "cell_type": "code",
   "execution_count": 45,
   "id": "0f8144f6-6105-47f9-b8ac-86d7ddb09f85",
   "metadata": {},
   "outputs": [
    {
     "data": {
      "text/plain": [
       "(1.9442622950819677, 0.0911824671285913)"
      ]
     },
     "execution_count": 45,
     "metadata": {},
     "output_type": "execute_result"
    }
   ],
   "source": [
    "9.\n",
    "A=[ 80, 85, 90, 92, 87, 83]\n",
    "B=[ 75, 78, 82, 79, 81, 84]\n",
    "def ftext(d1,d2):\n",
    "    f=np.var(d1)/np.var(d2)\n",
    "    df1=len(d1)-1\n",
    "    df2=len(d2)-1\n",
    "    p=stat.f.ppf(q=.01,dfn=df1,dfd=df2)\n",
    "    return f,p\n",
    "ftext(A,B)\n",
    "# here we fail null hypoythisis"
   ]
  },
  {
   "cell_type": "code",
   "execution_count": null,
   "id": "4d2c43ca-e5ba-4c5c-99a2-5024c8772189",
   "metadata": {},
   "outputs": [],
   "source": []
  },
  {
   "cell_type": "code",
   "execution_count": null,
   "id": "d1990be4-1b2c-447c-8c2a-e84173098794",
   "metadata": {},
   "outputs": [],
   "source": []
  },
  {
   "cell_type": "code",
   "execution_count": null,
   "id": "4414dfb7-a67d-424e-8f55-ef87e74482f4",
   "metadata": {},
   "outputs": [],
   "source": []
  },
  {
   "cell_type": "code",
   "execution_count": null,
   "id": "469173c4-f13b-40e1-8598-5d530f638155",
   "metadata": {},
   "outputs": [],
   "source": []
  }
 ],
 "metadata": {
  "kernelspec": {
   "display_name": "Python 3 (ipykernel)",
   "language": "python",
   "name": "python3"
  },
  "language_info": {
   "codemirror_mode": {
    "name": "ipython",
    "version": 3
   },
   "file_extension": ".py",
   "mimetype": "text/x-python",
   "name": "python",
   "nbconvert_exporter": "python",
   "pygments_lexer": "ipython3",
   "version": "3.10.8"
  }
 },
 "nbformat": 4,
 "nbformat_minor": 5
}
