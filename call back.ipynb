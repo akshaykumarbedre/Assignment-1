{
  "nbformat": 4,
  "nbformat_minor": 0,
  "metadata": {
    "colab": {
      "provenance": [],
      "gpuType": "T4"
    },
    "kernelspec": {
      "name": "python3",
      "display_name": "Python 3"
    },
    "language_info": {
      "name": "python"
    },
    "accelerator": "GPU"
  },
  "cells": [
    {
      "cell_type": "code",
      "source": [
        "import pandas as pd\n",
        "import tensorflow as tf\n",
        "\n",
        "\n",
        "print(tf.__version__)\n",
        "\n",
        "\n",
        "\n",
        "df=pd.read_csv(\"wine.csv\")\n",
        "df.head()\n",
        "\n",
        "df.isnull().sum()\n",
        "\n",
        "df.dtypes\n",
        "\n",
        "df['quality']=df['quality'].replace({\"good\":1,\"bad\":0})\n",
        "\n",
        "\n",
        "x=df.drop(\"quality\" ,axis=1)\n",
        "x.head()\n",
        "\n",
        "from sklearn.preprocessing import StandardScaler\n",
        "ss=StandardScaler()\n",
        "x=pd.DataFrame(ss.fit_transform(x),columns=ss.get_feature_names_out())\n",
        "x.head()"
      ],
      "metadata": {
        "colab": {
          "base_uri": "https://localhost:8080/",
          "height": 258
        },
        "id": "m_AwbZnhym6q",
        "outputId": "77487572-2dfb-499f-d12c-f392284b5da1"
      },
      "execution_count": 3,
      "outputs": [
        {
          "output_type": "stream",
          "name": "stdout",
          "text": [
            "2.13.0\n"
          ]
        },
        {
          "output_type": "execute_result",
          "data": {
            "text/plain": [
              "   fixed acidity  volatile acidity  citric acid  residual sugar  chlorides  \\\n",
              "0      -0.528360          0.961877    -1.391472       -0.453218  -0.243707   \n",
              "1      -0.298547          1.967442    -1.391472        0.043416   0.223875   \n",
              "2      -0.298547          1.297065    -1.186070       -0.169427   0.096353   \n",
              "3       1.654856         -1.384443     1.484154       -0.453218  -0.264960   \n",
              "4      -0.528360          0.961877    -1.391472       -0.453218  -0.243707   \n",
              "\n",
              "   free sulfur dioxide  total sulfur dioxide   density        pH  sulphates  \\\n",
              "0            -0.466193             -0.379133  0.558274  1.288643  -0.579207   \n",
              "1             0.872638              0.624363  0.028261 -0.719933   0.128950   \n",
              "2            -0.083669              0.229047  0.134264 -0.331177  -0.048089   \n",
              "3             0.107592              0.411500  0.664277 -0.979104  -0.461180   \n",
              "4            -0.466193             -0.379133  0.558274  1.288643  -0.579207   \n",
              "\n",
              "    alcohol  \n",
              "0 -0.960246  \n",
              "1 -0.584777  \n",
              "2 -0.584777  \n",
              "3 -0.584777  \n",
              "4 -0.960246  "
            ],
            "text/html": [
              "\n",
              "  <div id=\"df-9cfc2226-f46c-4e8d-b525-d9b79a143c14\" class=\"colab-df-container\">\n",
              "    <div>\n",
              "<style scoped>\n",
              "    .dataframe tbody tr th:only-of-type {\n",
              "        vertical-align: middle;\n",
              "    }\n",
              "\n",
              "    .dataframe tbody tr th {\n",
              "        vertical-align: top;\n",
              "    }\n",
              "\n",
              "    .dataframe thead th {\n",
              "        text-align: right;\n",
              "    }\n",
              "</style>\n",
              "<table border=\"1\" class=\"dataframe\">\n",
              "  <thead>\n",
              "    <tr style=\"text-align: right;\">\n",
              "      <th></th>\n",
              "      <th>fixed acidity</th>\n",
              "      <th>volatile acidity</th>\n",
              "      <th>citric acid</th>\n",
              "      <th>residual sugar</th>\n",
              "      <th>chlorides</th>\n",
              "      <th>free sulfur dioxide</th>\n",
              "      <th>total sulfur dioxide</th>\n",
              "      <th>density</th>\n",
              "      <th>pH</th>\n",
              "      <th>sulphates</th>\n",
              "      <th>alcohol</th>\n",
              "    </tr>\n",
              "  </thead>\n",
              "  <tbody>\n",
              "    <tr>\n",
              "      <th>0</th>\n",
              "      <td>-0.528360</td>\n",
              "      <td>0.961877</td>\n",
              "      <td>-1.391472</td>\n",
              "      <td>-0.453218</td>\n",
              "      <td>-0.243707</td>\n",
              "      <td>-0.466193</td>\n",
              "      <td>-0.379133</td>\n",
              "      <td>0.558274</td>\n",
              "      <td>1.288643</td>\n",
              "      <td>-0.579207</td>\n",
              "      <td>-0.960246</td>\n",
              "    </tr>\n",
              "    <tr>\n",
              "      <th>1</th>\n",
              "      <td>-0.298547</td>\n",
              "      <td>1.967442</td>\n",
              "      <td>-1.391472</td>\n",
              "      <td>0.043416</td>\n",
              "      <td>0.223875</td>\n",
              "      <td>0.872638</td>\n",
              "      <td>0.624363</td>\n",
              "      <td>0.028261</td>\n",
              "      <td>-0.719933</td>\n",
              "      <td>0.128950</td>\n",
              "      <td>-0.584777</td>\n",
              "    </tr>\n",
              "    <tr>\n",
              "      <th>2</th>\n",
              "      <td>-0.298547</td>\n",
              "      <td>1.297065</td>\n",
              "      <td>-1.186070</td>\n",
              "      <td>-0.169427</td>\n",
              "      <td>0.096353</td>\n",
              "      <td>-0.083669</td>\n",
              "      <td>0.229047</td>\n",
              "      <td>0.134264</td>\n",
              "      <td>-0.331177</td>\n",
              "      <td>-0.048089</td>\n",
              "      <td>-0.584777</td>\n",
              "    </tr>\n",
              "    <tr>\n",
              "      <th>3</th>\n",
              "      <td>1.654856</td>\n",
              "      <td>-1.384443</td>\n",
              "      <td>1.484154</td>\n",
              "      <td>-0.453218</td>\n",
              "      <td>-0.264960</td>\n",
              "      <td>0.107592</td>\n",
              "      <td>0.411500</td>\n",
              "      <td>0.664277</td>\n",
              "      <td>-0.979104</td>\n",
              "      <td>-0.461180</td>\n",
              "      <td>-0.584777</td>\n",
              "    </tr>\n",
              "    <tr>\n",
              "      <th>4</th>\n",
              "      <td>-0.528360</td>\n",
              "      <td>0.961877</td>\n",
              "      <td>-1.391472</td>\n",
              "      <td>-0.453218</td>\n",
              "      <td>-0.243707</td>\n",
              "      <td>-0.466193</td>\n",
              "      <td>-0.379133</td>\n",
              "      <td>0.558274</td>\n",
              "      <td>1.288643</td>\n",
              "      <td>-0.579207</td>\n",
              "      <td>-0.960246</td>\n",
              "    </tr>\n",
              "  </tbody>\n",
              "</table>\n",
              "</div>\n",
              "    <div class=\"colab-df-buttons\">\n",
              "\n",
              "  <div class=\"colab-df-container\">\n",
              "    <button class=\"colab-df-convert\" onclick=\"convertToInteractive('df-9cfc2226-f46c-4e8d-b525-d9b79a143c14')\"\n",
              "            title=\"Convert this dataframe to an interactive table.\"\n",
              "            style=\"display:none;\">\n",
              "\n",
              "  <svg xmlns=\"http://www.w3.org/2000/svg\" height=\"24px\" viewBox=\"0 -960 960 960\">\n",
              "    <path d=\"M120-120v-720h720v720H120Zm60-500h600v-160H180v160Zm220 220h160v-160H400v160Zm0 220h160v-160H400v160ZM180-400h160v-160H180v160Zm440 0h160v-160H620v160ZM180-180h160v-160H180v160Zm440 0h160v-160H620v160Z\"/>\n",
              "  </svg>\n",
              "    </button>\n",
              "\n",
              "  <style>\n",
              "    .colab-df-container {\n",
              "      display:flex;\n",
              "      gap: 12px;\n",
              "    }\n",
              "\n",
              "    .colab-df-convert {\n",
              "      background-color: #E8F0FE;\n",
              "      border: none;\n",
              "      border-radius: 50%;\n",
              "      cursor: pointer;\n",
              "      display: none;\n",
              "      fill: #1967D2;\n",
              "      height: 32px;\n",
              "      padding: 0 0 0 0;\n",
              "      width: 32px;\n",
              "    }\n",
              "\n",
              "    .colab-df-convert:hover {\n",
              "      background-color: #E2EBFA;\n",
              "      box-shadow: 0px 1px 2px rgba(60, 64, 67, 0.3), 0px 1px 3px 1px rgba(60, 64, 67, 0.15);\n",
              "      fill: #174EA6;\n",
              "    }\n",
              "\n",
              "    .colab-df-buttons div {\n",
              "      margin-bottom: 4px;\n",
              "    }\n",
              "\n",
              "    [theme=dark] .colab-df-convert {\n",
              "      background-color: #3B4455;\n",
              "      fill: #D2E3FC;\n",
              "    }\n",
              "\n",
              "    [theme=dark] .colab-df-convert:hover {\n",
              "      background-color: #434B5C;\n",
              "      box-shadow: 0px 1px 3px 1px rgba(0, 0, 0, 0.15);\n",
              "      filter: drop-shadow(0px 1px 2px rgba(0, 0, 0, 0.3));\n",
              "      fill: #FFFFFF;\n",
              "    }\n",
              "  </style>\n",
              "\n",
              "    <script>\n",
              "      const buttonEl =\n",
              "        document.querySelector('#df-9cfc2226-f46c-4e8d-b525-d9b79a143c14 button.colab-df-convert');\n",
              "      buttonEl.style.display =\n",
              "        google.colab.kernel.accessAllowed ? 'block' : 'none';\n",
              "\n",
              "      async function convertToInteractive(key) {\n",
              "        const element = document.querySelector('#df-9cfc2226-f46c-4e8d-b525-d9b79a143c14');\n",
              "        const dataTable =\n",
              "          await google.colab.kernel.invokeFunction('convertToInteractive',\n",
              "                                                    [key], {});\n",
              "        if (!dataTable) return;\n",
              "\n",
              "        const docLinkHtml = 'Like what you see? Visit the ' +\n",
              "          '<a target=\"_blank\" href=https://colab.research.google.com/notebooks/data_table.ipynb>data table notebook</a>'\n",
              "          + ' to learn more about interactive tables.';\n",
              "        element.innerHTML = '';\n",
              "        dataTable['output_type'] = 'display_data';\n",
              "        await google.colab.output.renderOutput(dataTable, element);\n",
              "        const docLink = document.createElement('div');\n",
              "        docLink.innerHTML = docLinkHtml;\n",
              "        element.appendChild(docLink);\n",
              "      }\n",
              "    </script>\n",
              "  </div>\n",
              "\n",
              "\n",
              "<div id=\"df-090c1f55-fb28-4c7a-a7b6-a744d39439fe\">\n",
              "  <button class=\"colab-df-quickchart\" onclick=\"quickchart('df-090c1f55-fb28-4c7a-a7b6-a744d39439fe')\"\n",
              "            title=\"Suggest charts.\"\n",
              "            style=\"display:none;\">\n",
              "\n",
              "<svg xmlns=\"http://www.w3.org/2000/svg\" height=\"24px\"viewBox=\"0 0 24 24\"\n",
              "     width=\"24px\">\n",
              "    <g>\n",
              "        <path d=\"M19 3H5c-1.1 0-2 .9-2 2v14c0 1.1.9 2 2 2h14c1.1 0 2-.9 2-2V5c0-1.1-.9-2-2-2zM9 17H7v-7h2v7zm4 0h-2V7h2v10zm4 0h-2v-4h2v4z\"/>\n",
              "    </g>\n",
              "</svg>\n",
              "  </button>\n",
              "\n",
              "<style>\n",
              "  .colab-df-quickchart {\n",
              "      --bg-color: #E8F0FE;\n",
              "      --fill-color: #1967D2;\n",
              "      --hover-bg-color: #E2EBFA;\n",
              "      --hover-fill-color: #174EA6;\n",
              "      --disabled-fill-color: #AAA;\n",
              "      --disabled-bg-color: #DDD;\n",
              "  }\n",
              "\n",
              "  [theme=dark] .colab-df-quickchart {\n",
              "      --bg-color: #3B4455;\n",
              "      --fill-color: #D2E3FC;\n",
              "      --hover-bg-color: #434B5C;\n",
              "      --hover-fill-color: #FFFFFF;\n",
              "      --disabled-bg-color: #3B4455;\n",
              "      --disabled-fill-color: #666;\n",
              "  }\n",
              "\n",
              "  .colab-df-quickchart {\n",
              "    background-color: var(--bg-color);\n",
              "    border: none;\n",
              "    border-radius: 50%;\n",
              "    cursor: pointer;\n",
              "    display: none;\n",
              "    fill: var(--fill-color);\n",
              "    height: 32px;\n",
              "    padding: 0;\n",
              "    width: 32px;\n",
              "  }\n",
              "\n",
              "  .colab-df-quickchart:hover {\n",
              "    background-color: var(--hover-bg-color);\n",
              "    box-shadow: 0 1px 2px rgba(60, 64, 67, 0.3), 0 1px 3px 1px rgba(60, 64, 67, 0.15);\n",
              "    fill: var(--button-hover-fill-color);\n",
              "  }\n",
              "\n",
              "  .colab-df-quickchart-complete:disabled,\n",
              "  .colab-df-quickchart-complete:disabled:hover {\n",
              "    background-color: var(--disabled-bg-color);\n",
              "    fill: var(--disabled-fill-color);\n",
              "    box-shadow: none;\n",
              "  }\n",
              "\n",
              "  .colab-df-spinner {\n",
              "    border: 2px solid var(--fill-color);\n",
              "    border-color: transparent;\n",
              "    border-bottom-color: var(--fill-color);\n",
              "    animation:\n",
              "      spin 1s steps(1) infinite;\n",
              "  }\n",
              "\n",
              "  @keyframes spin {\n",
              "    0% {\n",
              "      border-color: transparent;\n",
              "      border-bottom-color: var(--fill-color);\n",
              "      border-left-color: var(--fill-color);\n",
              "    }\n",
              "    20% {\n",
              "      border-color: transparent;\n",
              "      border-left-color: var(--fill-color);\n",
              "      border-top-color: var(--fill-color);\n",
              "    }\n",
              "    30% {\n",
              "      border-color: transparent;\n",
              "      border-left-color: var(--fill-color);\n",
              "      border-top-color: var(--fill-color);\n",
              "      border-right-color: var(--fill-color);\n",
              "    }\n",
              "    40% {\n",
              "      border-color: transparent;\n",
              "      border-right-color: var(--fill-color);\n",
              "      border-top-color: var(--fill-color);\n",
              "    }\n",
              "    60% {\n",
              "      border-color: transparent;\n",
              "      border-right-color: var(--fill-color);\n",
              "    }\n",
              "    80% {\n",
              "      border-color: transparent;\n",
              "      border-right-color: var(--fill-color);\n",
              "      border-bottom-color: var(--fill-color);\n",
              "    }\n",
              "    90% {\n",
              "      border-color: transparent;\n",
              "      border-bottom-color: var(--fill-color);\n",
              "    }\n",
              "  }\n",
              "</style>\n",
              "\n",
              "  <script>\n",
              "    async function quickchart(key) {\n",
              "      const quickchartButtonEl =\n",
              "        document.querySelector('#' + key + ' button');\n",
              "      quickchartButtonEl.disabled = true;  // To prevent multiple clicks.\n",
              "      quickchartButtonEl.classList.add('colab-df-spinner');\n",
              "      try {\n",
              "        const charts = await google.colab.kernel.invokeFunction(\n",
              "            'suggestCharts', [key], {});\n",
              "      } catch (error) {\n",
              "        console.error('Error during call to suggestCharts:', error);\n",
              "      }\n",
              "      quickchartButtonEl.classList.remove('colab-df-spinner');\n",
              "      quickchartButtonEl.classList.add('colab-df-quickchart-complete');\n",
              "    }\n",
              "    (() => {\n",
              "      let quickchartButtonEl =\n",
              "        document.querySelector('#df-090c1f55-fb28-4c7a-a7b6-a744d39439fe button');\n",
              "      quickchartButtonEl.style.display =\n",
              "        google.colab.kernel.accessAllowed ? 'block' : 'none';\n",
              "    })();\n",
              "  </script>\n",
              "</div>\n",
              "    </div>\n",
              "  </div>\n"
            ]
          },
          "metadata": {},
          "execution_count": 3
        }
      ]
    },
    {
      "cell_type": "code",
      "execution_count": 4,
      "metadata": {
        "id": "fxhINzbDx-N9",
        "colab": {
          "base_uri": "https://localhost:8080/"
        },
        "outputId": "86792643-3baf-4684-b61a-81e79eb9f443"
      },
      "outputs": [
        {
          "output_type": "execute_result",
          "data": {
            "text/plain": [
              "((717, 11), (354, 11))"
            ]
          },
          "metadata": {},
          "execution_count": 4
        }
      ],
      "source": [
        "y=df['quality']\n",
        "y.head()\n",
        "\n",
        "from sklearn.model_selection import train_test_split\n",
        "x_train, x_test, y_train, y_test = train_test_split(x, y, test_size=0.33, random_state=42)\n",
        "\n",
        "\n",
        "x_train.shape,x_test.shape\n",
        "\n",
        "x_train, x_val, y_train, y_val = train_test_split(x_train, y_train, test_size=0.33, random_state=42)\n",
        "\n",
        "\n",
        "x_train.shape, x_val.shape\n"
      ]
    },
    {
      "cell_type": "code",
      "source": [
        "layer=[\n",
        "    tf.keras.layers.Input(shape=(11,),name='inputLayer'),\n",
        "    tf.keras.layers.Dense(64,activation=\"relu\", name=\"hiddenLayer1\"),\n",
        "    tf.keras.layers.Dense(8,activation=\"relu\", name=\"hiddenLayer2\"),\n",
        "    tf.keras.layers.Dense(2,activation=\"sigmoid\", name=\"outputLayer\"),\n",
        "    ]"
      ],
      "metadata": {
        "id": "PeGFb-Nny1L4"
      },
      "execution_count": 5,
      "outputs": []
    },
    {
      "cell_type": "code",
      "source": [
        "model_clf = tf.keras.models.Sequential(layer)"
      ],
      "metadata": {
        "id": "NRkRTCG6y1Or"
      },
      "execution_count": 6,
      "outputs": []
    },
    {
      "cell_type": "code",
      "source": [
        "model_clf.summary()"
      ],
      "metadata": {
        "id": "_A4bhjcxy1RY",
        "colab": {
          "base_uri": "https://localhost:8080/"
        },
        "outputId": "c1ce3f7a-e741-4054-95e1-ae266bd061ae"
      },
      "execution_count": 7,
      "outputs": [
        {
          "output_type": "stream",
          "name": "stdout",
          "text": [
            "Model: \"sequential\"\n",
            "_________________________________________________________________\n",
            " Layer (type)                Output Shape              Param #   \n",
            "=================================================================\n",
            " hiddenLayer1 (Dense)        (None, 64)                768       \n",
            "                                                                 \n",
            " hiddenLayer2 (Dense)        (None, 8)                 520       \n",
            "                                                                 \n",
            " outputLayer (Dense)         (None, 2)                 18        \n",
            "                                                                 \n",
            "=================================================================\n",
            "Total params: 1306 (5.10 KB)\n",
            "Trainable params: 1306 (5.10 KB)\n",
            "Non-trainable params: 0 (0.00 Byte)\n",
            "_________________________________________________________________\n"
          ]
        }
      ]
    },
    {
      "cell_type": "code",
      "source": [
        "LOSS_FUNCTION = \"sparse_categorical_crossentropy\"#function(‘binary_crossentropy’),\n",
        "OPTIMIZER = \"SGD\" # or use with custom learning rate=> tf.keras.optimizers.SGD(0.02)\n",
        "METRICS = [\"accuracy\"]\n",
        "\n",
        "model_clf.compile(loss=LOSS_FUNCTION,\n",
        "              optimizer=OPTIMIZER,\n",
        "              metrics=METRICS)"
      ],
      "metadata": {
        "id": "wMrcNI0uy1UL"
      },
      "execution_count": 13,
      "outputs": []
    },
    {
      "cell_type": "code",
      "source": [
        "import time\n",
        "import os\n",
        "def get_log_path(log_dir=\"logs/fit\"):\n",
        "  fileName = time.strftime(\"log_%Y_%m_%d_%H_%M_%S\")\n",
        "  logs_path = os.path.join(log_dir, fileName)\n",
        "  print(f\"Saving logs at {logs_path}\")\n",
        "  return logs_path\n",
        "\n",
        "log_dir = get_log_path()\n",
        "tb_cb = tf.keras.callbacks.TensorBoard(log_dir=log_dir)"
      ],
      "metadata": {
        "colab": {
          "base_uri": "https://localhost:8080/"
        },
        "id": "wv_B-3slDmvV",
        "outputId": "0620ec74-7f4b-4951-b168-dcf182cbd5d3"
      },
      "execution_count": 14,
      "outputs": [
        {
          "output_type": "stream",
          "name": "stdout",
          "text": [
            "Saving logs at logs/fit/log_2023_10_12_13_26_55\n"
          ]
        }
      ]
    },
    {
      "cell_type": "code",
      "source": [
        "early_stopping_cb = tf.keras.callbacks.EarlyStopping(patience=5, restore_best_weights=True)"
      ],
      "metadata": {
        "id": "o9ch_sVVDmyT"
      },
      "execution_count": 10,
      "outputs": []
    },
    {
      "cell_type": "code",
      "source": [],
      "metadata": {
        "id": "ktfZYJS2EaEy"
      },
      "execution_count": 14,
      "outputs": []
    },
    {
      "cell_type": "code",
      "source": [
        "\n",
        "checkpointing_cb = tf.keras.callbacks.ModelCheckpoint(\"Model_ckpt.h5\", save_best_only=True)"
      ],
      "metadata": {
        "id": "ARDlbbz7Dm1L"
      },
      "execution_count": 15,
      "outputs": []
    },
    {
      "cell_type": "code",
      "source": [],
      "metadata": {
        "id": "QR8X18KXDm5G"
      },
      "execution_count": 11,
      "outputs": []
    },
    {
      "cell_type": "code",
      "source": [
        "his=model_clf.fit(x_train, y_train,epochs=50,batch_size=5,validation_data=(x_val,y_val),callbacks=[tb_cb, early_stopping_cb,checkpointing_cb])"
      ],
      "metadata": {
        "id": "Iy2kiY-my1W2",
        "colab": {
          "base_uri": "https://localhost:8080/"
        },
        "outputId": "8eb142e2-8db6-4ccc-9d74-8f1600bf0e24"
      },
      "execution_count": 16,
      "outputs": [
        {
          "output_type": "stream",
          "name": "stdout",
          "text": [
            "Epoch 1/50\n",
            "144/144 [==============================] - 6s 6ms/step - loss: 0.6617 - accuracy: 0.6276 - val_loss: 0.6202 - val_accuracy: 0.7147\n",
            "Epoch 2/50\n",
            " 55/144 [==========>...................] - ETA: 0s - loss: 0.6254 - accuracy: 0.6836"
          ]
        },
        {
          "output_type": "stream",
          "name": "stderr",
          "text": [
            "/usr/local/lib/python3.10/dist-packages/keras/src/engine/training.py:3000: UserWarning: You are saving your model as an HDF5 file via `model.save()`. This file format is considered legacy. We recommend using instead the native Keras format, e.g. `model.save('my_model.keras')`.\n",
            "  saving_api.save_model(\n"
          ]
        },
        {
          "output_type": "stream",
          "name": "stdout",
          "text": [
            "144/144 [==============================] - 1s 4ms/step - loss: 0.6183 - accuracy: 0.6876 - val_loss: 0.5820 - val_accuracy: 0.7119\n",
            "Epoch 3/50\n",
            "144/144 [==============================] - 1s 4ms/step - loss: 0.5860 - accuracy: 0.7113 - val_loss: 0.5589 - val_accuracy: 0.7373\n",
            "Epoch 4/50\n",
            "144/144 [==============================] - 1s 4ms/step - loss: 0.5647 - accuracy: 0.7127 - val_loss: 0.5361 - val_accuracy: 0.7486\n",
            "Epoch 5/50\n",
            "144/144 [==============================] - 1s 4ms/step - loss: 0.5451 - accuracy: 0.7266 - val_loss: 0.5179 - val_accuracy: 0.7542\n",
            "Epoch 6/50\n",
            "144/144 [==============================] - 1s 4ms/step - loss: 0.5295 - accuracy: 0.7378 - val_loss: 0.5121 - val_accuracy: 0.7571\n",
            "Epoch 7/50\n",
            "144/144 [==============================] - 1s 4ms/step - loss: 0.5193 - accuracy: 0.7392 - val_loss: 0.5062 - val_accuracy: 0.7571\n",
            "Epoch 8/50\n",
            "144/144 [==============================] - 1s 4ms/step - loss: 0.5123 - accuracy: 0.7434 - val_loss: 0.5062 - val_accuracy: 0.7627\n",
            "Epoch 9/50\n",
            "144/144 [==============================] - 1s 4ms/step - loss: 0.5056 - accuracy: 0.7406 - val_loss: 0.5050 - val_accuracy: 0.7655\n",
            "Epoch 10/50\n",
            "144/144 [==============================] - 1s 4ms/step - loss: 0.4994 - accuracy: 0.7531 - val_loss: 0.4966 - val_accuracy: 0.7712\n",
            "Epoch 11/50\n",
            "144/144 [==============================] - 1s 4ms/step - loss: 0.4975 - accuracy: 0.7559 - val_loss: 0.4942 - val_accuracy: 0.7599\n",
            "Epoch 12/50\n",
            "144/144 [==============================] - 1s 4ms/step - loss: 0.4900 - accuracy: 0.7643 - val_loss: 0.4927 - val_accuracy: 0.7768\n",
            "Epoch 13/50\n",
            "144/144 [==============================] - 1s 4ms/step - loss: 0.4871 - accuracy: 0.7517 - val_loss: 0.4863 - val_accuracy: 0.7684\n",
            "Epoch 14/50\n",
            "144/144 [==============================] - 1s 4ms/step - loss: 0.4863 - accuracy: 0.7559 - val_loss: 0.4847 - val_accuracy: 0.7712\n",
            "Epoch 15/50\n",
            "144/144 [==============================] - 1s 4ms/step - loss: 0.4812 - accuracy: 0.7573 - val_loss: 0.4888 - val_accuracy: 0.7797\n",
            "Epoch 16/50\n",
            "144/144 [==============================] - 1s 4ms/step - loss: 0.4791 - accuracy: 0.7629 - val_loss: 0.4861 - val_accuracy: 0.7740\n",
            "Epoch 17/50\n",
            "144/144 [==============================] - 1s 5ms/step - loss: 0.4757 - accuracy: 0.7615 - val_loss: 0.4864 - val_accuracy: 0.7768\n",
            "Epoch 18/50\n",
            "144/144 [==============================] - 1s 6ms/step - loss: 0.4737 - accuracy: 0.7671 - val_loss: 0.4824 - val_accuracy: 0.7740\n",
            "Epoch 19/50\n",
            "144/144 [==============================] - 1s 6ms/step - loss: 0.4705 - accuracy: 0.7699 - val_loss: 0.4848 - val_accuracy: 0.7712\n",
            "Epoch 20/50\n",
            "144/144 [==============================] - 1s 4ms/step - loss: 0.4665 - accuracy: 0.7713 - val_loss: 0.4931 - val_accuracy: 0.7740\n",
            "Epoch 21/50\n",
            "144/144 [==============================] - 1s 4ms/step - loss: 0.4658 - accuracy: 0.7699 - val_loss: 0.4845 - val_accuracy: 0.7712\n",
            "Epoch 22/50\n",
            "144/144 [==============================] - 1s 4ms/step - loss: 0.4619 - accuracy: 0.7685 - val_loss: 0.4808 - val_accuracy: 0.7712\n",
            "Epoch 23/50\n",
            "144/144 [==============================] - 1s 4ms/step - loss: 0.4603 - accuracy: 0.7727 - val_loss: 0.4802 - val_accuracy: 0.7797\n",
            "Epoch 24/50\n",
            "144/144 [==============================] - 1s 4ms/step - loss: 0.4553 - accuracy: 0.7782 - val_loss: 0.4760 - val_accuracy: 0.7797\n",
            "Epoch 25/50\n",
            "144/144 [==============================] - 1s 4ms/step - loss: 0.4550 - accuracy: 0.7755 - val_loss: 0.4716 - val_accuracy: 0.7825\n",
            "Epoch 26/50\n",
            "144/144 [==============================] - 1s 4ms/step - loss: 0.4516 - accuracy: 0.7741 - val_loss: 0.4755 - val_accuracy: 0.7684\n",
            "Epoch 27/50\n",
            "144/144 [==============================] - 1s 4ms/step - loss: 0.4495 - accuracy: 0.7755 - val_loss: 0.4757 - val_accuracy: 0.7684\n",
            "Epoch 28/50\n",
            "144/144 [==============================] - 1s 4ms/step - loss: 0.4466 - accuracy: 0.7796 - val_loss: 0.4851 - val_accuracy: 0.7655\n",
            "Epoch 29/50\n",
            "144/144 [==============================] - 1s 4ms/step - loss: 0.4448 - accuracy: 0.7866 - val_loss: 0.4759 - val_accuracy: 0.7825\n",
            "Epoch 30/50\n",
            "144/144 [==============================] - 1s 4ms/step - loss: 0.4416 - accuracy: 0.7852 - val_loss: 0.4711 - val_accuracy: 0.7571\n",
            "Epoch 31/50\n",
            "144/144 [==============================] - 1s 4ms/step - loss: 0.4373 - accuracy: 0.7880 - val_loss: 0.4828 - val_accuracy: 0.7881\n",
            "Epoch 32/50\n",
            "144/144 [==============================] - 1s 4ms/step - loss: 0.4371 - accuracy: 0.7838 - val_loss: 0.4688 - val_accuracy: 0.7797\n",
            "Epoch 33/50\n",
            "144/144 [==============================] - 1s 4ms/step - loss: 0.4344 - accuracy: 0.7810 - val_loss: 0.4755 - val_accuracy: 0.7797\n",
            "Epoch 34/50\n",
            "144/144 [==============================] - 1s 4ms/step - loss: 0.4324 - accuracy: 0.7838 - val_loss: 0.4847 - val_accuracy: 0.7712\n",
            "Epoch 35/50\n",
            "144/144 [==============================] - 1s 4ms/step - loss: 0.4307 - accuracy: 0.8020 - val_loss: 0.4755 - val_accuracy: 0.7797\n",
            "Epoch 36/50\n",
            "144/144 [==============================] - 1s 5ms/step - loss: 0.4263 - accuracy: 0.7810 - val_loss: 0.4776 - val_accuracy: 0.7853\n",
            "Epoch 37/50\n",
            "144/144 [==============================] - 1s 7ms/step - loss: 0.4232 - accuracy: 0.7992 - val_loss: 0.4667 - val_accuracy: 0.7825\n",
            "Epoch 38/50\n",
            "144/144 [==============================] - 1s 6ms/step - loss: 0.4213 - accuracy: 0.7922 - val_loss: 0.4720 - val_accuracy: 0.7853\n",
            "Epoch 39/50\n",
            "144/144 [==============================] - 1s 4ms/step - loss: 0.4210 - accuracy: 0.7950 - val_loss: 0.4724 - val_accuracy: 0.7825\n",
            "Epoch 40/50\n",
            "144/144 [==============================] - 1s 4ms/step - loss: 0.4179 - accuracy: 0.8006 - val_loss: 0.4660 - val_accuracy: 0.7797\n",
            "Epoch 41/50\n",
            "144/144 [==============================] - 1s 4ms/step - loss: 0.4150 - accuracy: 0.7964 - val_loss: 0.4662 - val_accuracy: 0.7881\n",
            "Epoch 42/50\n",
            "144/144 [==============================] - 1s 4ms/step - loss: 0.4135 - accuracy: 0.7838 - val_loss: 0.4661 - val_accuracy: 0.7938\n",
            "Epoch 43/50\n",
            "144/144 [==============================] - 1s 4ms/step - loss: 0.4111 - accuracy: 0.8103 - val_loss: 0.4798 - val_accuracy: 0.7994\n",
            "Epoch 44/50\n",
            "144/144 [==============================] - 1s 4ms/step - loss: 0.4079 - accuracy: 0.8020 - val_loss: 0.4735 - val_accuracy: 0.7825\n",
            "Epoch 45/50\n",
            "144/144 [==============================] - 1s 4ms/step - loss: 0.4080 - accuracy: 0.8033 - val_loss: 0.4713 - val_accuracy: 0.7966\n"
          ]
        }
      ]
    },
    {
      "cell_type": "code",
      "source": [
        "pd.DataFrame(his.history).plot()"
      ],
      "metadata": {
        "colab": {
          "base_uri": "https://localhost:8080/",
          "height": 447
        },
        "id": "eeoQqVxq_aeS",
        "outputId": "77a00e60-86e9-4c74-f719-a7f0127756c4"
      },
      "execution_count": 17,
      "outputs": [
        {
          "output_type": "execute_result",
          "data": {
            "text/plain": [
              "<Axes: >"
            ]
          },
          "metadata": {},
          "execution_count": 17
        },
        {
          "output_type": "display_data",
          "data": {
            "text/plain": [
              "<Figure size 640x480 with 1 Axes>"
            ],
            "image/png": "[encoded data removed]"
          },
          "metadata": {}
        }
      ]
    },
    {
      "cell_type": "code",
      "source": [
        "model_clf.evaluate(x_test,y_test)"
      ],
      "metadata": {
        "colab": {
          "base_uri": "https://localhost:8080/"
        },
        "id": "MsYGNr-g_viz",
        "outputId": "31a8cd08-abac-47b7-dbdd-88b3679b5766"
      },
      "execution_count": 18,
      "outputs": [
        {
          "output_type": "stream",
          "name": "stdout",
          "text": [
            "17/17 [==============================] - 0s 2ms/step - loss: 0.5178 - accuracy: 0.7538\n"
          ]
        },
        {
          "output_type": "execute_result",
          "data": {
            "text/plain": [
              "[0.5177578330039978, 0.7537878751754761]"
            ]
          },
          "metadata": {},
          "execution_count": 18
        }
      ]
    },
    {
      "cell_type": "code",
      "source": [
        "y_pred=model_clf.predict(x_test)"
      ],
      "metadata": {
        "colab": {
          "base_uri": "https://localhost:8080/"
        },
        "id": "iWlvkc13ALny",
        "outputId": "7be90333-5dfe-443f-834c-425e3dd408b8"
      },
      "execution_count": 19,
      "outputs": [
        {
          "output_type": "stream",
          "name": "stdout",
          "text": [
            "17/17 [==============================] - 0s 2ms/step\n"
          ]
        }
      ]
    },
    {
      "cell_type": "code",
      "source": [
        "y_pred"
      ],
      "metadata": {
        "colab": {
          "base_uri": "https://localhost:8080/"
        },
        "id": "uQBu36Q9ATGi",
        "outputId": "adc186fe-ed95-4a9d-c321-bacde92547e9"
      },
      "execution_count": 20,
      "outputs": [
        {
          "output_type": "execute_result",
          "data": {
            "text/plain": [
              "array([[0.5375431 , 0.6738599 ],\n",
              "       [0.7833918 , 0.52847373],\n",
              "       [0.5159312 , 0.77807724],\n",
              "       ...,\n",
              "       [0.2612933 , 0.9598907 ],\n",
              "       [0.9111305 , 0.30917707],\n",
              "       [0.6251159 , 0.5503651 ]], dtype=float32)"
            ]
          },
          "metadata": {},
          "execution_count": 20
        }
      ]
    },
    {
      "cell_type": "code",
      "source": [],
      "metadata": {
        "id": "yGflW9M5Atkj"
      },
      "execution_count": null,
      "outputs": []
    }
  ]
}