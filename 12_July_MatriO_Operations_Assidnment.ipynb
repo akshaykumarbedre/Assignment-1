{
  "nbformat": 4,
  "nbformat_minor": 0,
  "metadata": {
    "colab": {
      "provenance": []
    },
    "kernelspec": {
      "name": "python3",
      "display_name": "Python 3"
    },
    "language_info": {
      "name": "python"
    }
  },
  "cells": [
    {
      "cell_type": "code",
      "execution_count": 6,
      "metadata": {
        "colab": {
          "base_uri": "https://localhost:8080/"
        },
        "id": "M5OZJ3wwWbtN",
        "outputId": "088a8f17-9959-4176-f698-921d59c6a8cd"
      },
      "outputs": [
        {
          "output_type": "stream",
          "name": "stdout",
          "text": [
            "<tf.Variable 'Variable:0' shape=() dtype=int32, numpy=12>\n",
            "<tf.Variable 'Variable:0' shape=(1,) dtype=int32, numpy=array([12], dtype=int32)>\n",
            "<tf.Variable 'Variable:0' shape=(2, 1) dtype=int32, numpy=\n",
            "array([[12],\n",
            "       [20]], dtype=int32)>\n",
            "<tf.RaggedTensor [[1], [1, 2, 3], [2, 3, 3, 3]]>\n"
          ]
        }
      ],
      "source": [
        "# part 1\n",
        "# 1.constant or variable\n",
        "# array\n",
        "# matrix\n",
        "# ragger\n",
        "import tensorflow as tf\n",
        "print(tf.Variable(12))\n",
        "print(tf.Variable([12]))\n",
        "print(tf.Variable([[12],[20]]))\n",
        "print(tf.ragged.constant([[1],[1,2,3],[2,3,3,3]]))\n"
      ]
    },
    {
      "cell_type": "code",
      "source": [
        "2\n",
        "# constant:we cant change the value of constant\n",
        "# variable:we can change value of varible\n",
        "a=tf.Variable([4.0, 5.0, 6.0])\n",
        "b=tf.constant([4.0, 5.0, 6.0])\n",
        "print(\"varible \",a.numpy())\n",
        "print(\"constant \",b.numpy())\n",
        "a.assign([1,2,3])\n",
        "# b.assign([1,2,3]) this show error\n",
        "print(\"after update\",a.numpy())\n"
      ],
      "metadata": {
        "colab": {
          "base_uri": "https://localhost:8080/"
        },
        "id": "WxGw6tRYX3Ad",
        "outputId": "ab5ff68f-8137-42c9-9a51-e549e3530e22"
      },
      "execution_count": 26,
      "outputs": [
        {
          "output_type": "stream",
          "name": "stdout",
          "text": [
            "varible  [4. 5. 6.]\n",
            "constant  [4. 5. 6.]\n",
            "after update [1. 2. 3.]\n"
          ]
        }
      ]
    },
    {
      "cell_type": "code",
      "source": [
        "3\n",
        "a=tf.Variable([[4.0, 5.0, 6.0],[1.0,2.0,3.0],[5.0,6.0,7.0]])\n",
        "b=tf.Variable([[4.0, 5.0, 6.0],[1.0,2.0,3.0],[5.0,6.0,7.0]])\n",
        "print(\"adding\")\n",
        "print((a+b).numpy())\n",
        "print(\"mulitply\")\n",
        "print((a*b).numpy())\n",
        "print(\"adding element wise value\")\n",
        "print((a+100).numpy())"
      ],
      "metadata": {
        "colab": {
          "base_uri": "https://localhost:8080/"
        },
        "id": "OO7nHfQAYEWL",
        "outputId": "42c3ea66-8075-42db-d31e-8592e73e8a87"
      },
      "execution_count": 35,
      "outputs": [
        {
          "output_type": "stream",
          "name": "stdout",
          "text": [
            "adding\n",
            "[[ 8. 10. 12.]\n",
            " [ 2.  4.  6.]\n",
            " [10. 12. 14.]]\n",
            "mulitply\n",
            "[[16. 25. 36.]\n",
            " [ 1.  4.  9.]\n",
            " [25. 36. 49.]]\n",
            "adding element wise value\n",
            "[[104. 105. 106.]\n",
            " [101. 102. 103.]\n",
            " [105. 106. 107.]]\n"
          ]
        }
      ]
    },
    {
      "cell_type": "code",
      "source": [
        "# part 2\n",
        "# task 1\n",
        "\n",
        "# 1.\n",
        "m1=tf.random.normal(shape=(3,3))\n",
        "print(m1.numpy())"
      ],
      "metadata": {
        "colab": {
          "base_uri": "https://localhost:8080/"
        },
        "id": "jwHBYR8bdnGU",
        "outputId": "712463ea-0c56-4076-ee0c-43bf79d6f462"
      },
      "execution_count": 39,
      "outputs": [
        {
          "output_type": "stream",
          "name": "stdout",
          "text": [
            "[[-0.24737406  0.50383997  0.6653851 ]\n",
            " [-1.3557824   0.39961785 -1.0892054 ]\n",
            " [-2.7510517   2.65965     1.2224432 ]]\n"
          ]
        }
      ]
    },
    {
      "cell_type": "code",
      "source": [
        "2\n",
        "m2=tf.random.normal(shape=(4,4),mean=0,stddev=1)\n",
        "print(m2.numpy())"
      ],
      "metadata": {
        "colab": {
          "base_uri": "https://localhost:8080/"
        },
        "id": "GUzJ9W9peWIM",
        "outputId": "8e2aabfe-f96f-43d1-a3d1-46fa19c71cb2"
      },
      "execution_count": 43,
      "outputs": [
        {
          "output_type": "stream",
          "name": "stdout",
          "text": [
            "[[ 0.70483273  0.05082822 -0.80806255  2.0111516 ]\n",
            " [-2.0087128   0.8411125  -1.2360187   0.9469998 ]\n",
            " [-0.67002165  0.36468452  0.10030359 -1.9304497 ]\n",
            " [-0.9316629  -0.18576412  0.34941763  0.49249023]]\n"
          ]
        }
      ]
    },
    {
      "cell_type": "code",
      "source": [
        "3.\n",
        "m2=tf.random.normal(shape=(2,2),mean=3,stddev=.5)\n",
        "print(m2.numpy())"
      ],
      "metadata": {
        "colab": {
          "base_uri": "https://localhost:8080/"
        },
        "id": "QZpdiu-SeWLL",
        "outputId": "f817b991-be86-466d-9809-4b98cabf4279"
      },
      "execution_count": 44,
      "outputs": [
        {
          "output_type": "stream",
          "name": "stdout",
          "text": [
            "[[3.4144738 2.0279326]\n",
            " [2.0838516 3.4357235]]\n"
          ]
        }
      ]
    },
    {
      "cell_type": "code",
      "source": [
        "4.\n",
        "a=tf.random.normal(shape=(4,4),mean=0,stddev=1)\n",
        "b=tf.random.normal(shape=(4,4),mean=0,stddev=1)\n",
        "d=a+b#matrix addition between matrix A and matrix B, and store the result in matrix Dc\n",
        "print(d.numpy())\n"
      ],
      "metadata": {
        "colab": {
          "base_uri": "https://localhost:8080/"
        },
        "id": "SgTjHCxaeWNt",
        "outputId": "8f65e8ee-511c-4bbf-eff4-8a2ada4be8b5"
      },
      "execution_count": 47,
      "outputs": [
        {
          "output_type": "stream",
          "name": "stdout",
          "text": [
            "[[ 2.6366725   0.6313688  -0.48125064  1.5999981 ]\n",
            " [-0.11899608  0.37571248 -0.9261093   1.3834589 ]\n",
            " [-0.30220884 -0.9920263   1.7494477   2.3230615 ]\n",
            " [-0.81636244 -1.747408    1.0999268  -1.4295267 ]]\n"
          ]
        }
      ]
    },
    {
      "cell_type": "code",
      "source": [
        "5.\n",
        "c=tf.random.normal(shape=(4,4),mean=200,stddev=1)\n",
        "d=tf.random.normal(shape=(4,4),mean=200,stddev=1)\n",
        "e=c*d #matrix multiplication between matrix C and matrix D, and store the result in matrix E.\n",
        "print(e.numpy())"
      ],
      "metadata": {
        "colab": {
          "base_uri": "https://localhost:8080/"
        },
        "id": "8zsFyWeIeWQV",
        "outputId": "d750399d-ad2a-42d0-feab-043d3b1d116e"
      },
      "execution_count": 50,
      "outputs": [
        {
          "output_type": "stream",
          "name": "stdout",
          "text": [
            "[[40057.96  40698.85  39572.93  40331.29 ]\n",
            " [40341.582 39869.78  39602.76  40329.24 ]\n",
            " [40018.477 40015.64  39567.27  40320.973]\n",
            " [40029.195 40125.004 40393.203 40476.55 ]]\n"
          ]
        }
      ]
    },
    {
      "cell_type": "code",
      "source": [
        "# tast2\n",
        "1.\n",
        "f=tf.random.uniform(shape=(3,3))#matrix F with dimensions 2x2,\n",
        "print(f)"
      ],
      "metadata": {
        "colab": {
          "base_uri": "https://localhost:8080/"
        },
        "id": "Ne27TIU_eWSs",
        "outputId": "e7547e0d-e344-47ed-b74a-71a656fb0052"
      },
      "execution_count": 53,
      "outputs": [
        {
          "output_type": "stream",
          "name": "stdout",
          "text": [
            "tf.Tensor(\n",
            "[[0.65176606 0.8646059  0.9758409 ]\n",
            " [0.9345944  0.46657205 0.6658598 ]\n",
            " [0.21483779 0.27941287 0.08563685]], shape=(3, 3), dtype=float32)\n"
          ]
        }
      ]
    },
    {
      "cell_type": "code",
      "source": [
        "2.\n",
        "g=tf.transpose(f)#the transpose of matrix F and store the result in matrix Gc\n",
        "print(g)"
      ],
      "metadata": {
        "colab": {
          "base_uri": "https://localhost:8080/"
        },
        "id": "z96cY_8AeWVL",
        "outputId": "da88c54f-cc78-412c-f182-9c5b4a66c2b6"
      },
      "execution_count": 54,
      "outputs": [
        {
          "output_type": "stream",
          "name": "stdout",
          "text": [
            "tf.Tensor(\n",
            "[[0.65176606 0.9345944  0.21483779]\n",
            " [0.8646059  0.46657205 0.27941287]\n",
            " [0.9758409  0.6658598  0.08563685]], shape=(3, 3), dtype=float32)\n"
          ]
        }
      ]
    },
    {
      "cell_type": "code",
      "source": [
        "3.\n",
        "h=tf.exp(f)#the elementDwise exponential of matrix F and store the result in matrix Hc\n",
        "print(h)"
      ],
      "metadata": {
        "colab": {
          "base_uri": "https://localhost:8080/"
        },
        "id": "1liPPJppg4aU",
        "outputId": "5ba19513-86d9-4821-8de3-9d3a33e21f6b"
      },
      "execution_count": 56,
      "outputs": [
        {
          "output_type": "stream",
          "name": "stdout",
          "text": [
            "tf.Tensor(\n",
            "[[1.9189268 2.3740702 2.6533976]\n",
            " [2.5461805 1.5945189 1.9461632]\n",
            " [1.2396607 1.3223532 1.0894107]], shape=(3, 3), dtype=float32)\n"
          ]
        }
      ]
    },
    {
      "cell_type": "code",
      "source": [
        "4.\n",
        "i=tf.concat([f,g],axis=1)#I by concatenating matrix F and matrix G horizontallyc\n",
        "print(i)"
      ],
      "metadata": {
        "colab": {
          "base_uri": "https://localhost:8080/"
        },
        "id": "uEq3syirhBjd",
        "outputId": "e79c0f3a-a1cf-4a01-cb70-81cb82c89b8c"
      },
      "execution_count": 61,
      "outputs": [
        {
          "output_type": "execute_result",
          "data": {
            "text/plain": [
              "<tf.Tensor: shape=(6, 3), dtype=float32, numpy=\n",
              "array([[0.65176606, 0.8646059 , 0.9758409 ],\n",
              "       [0.9345944 , 0.46657205, 0.6658598 ],\n",
              "       [0.21483779, 0.27941287, 0.08563685],\n",
              "       [0.65176606, 0.9345944 , 0.21483779],\n",
              "       [0.8646059 , 0.46657205, 0.27941287],\n",
              "       [0.9758409 , 0.6658598 , 0.08563685]], dtype=float32)>"
            ]
          },
          "metadata": {},
          "execution_count": 61
        }
      ]
    },
    {
      "cell_type": "code",
      "source": [
        "5.\n",
        "j=tf.concat([f,g],axis=0)#J by concatenating matrix F and matrix H vertically.\n",
        "print(j)"
      ],
      "metadata": {
        "colab": {
          "base_uri": "https://localhost:8080/"
        },
        "id": "IoqDqRNGhBmL",
        "outputId": "b9da7c72-d163-4e9b-d7f9-ef4ae43906d8"
      },
      "execution_count": 63,
      "outputs": [
        {
          "output_type": "stream",
          "name": "stdout",
          "text": [
            "tf.Tensor(\n",
            "[[0.65176606 0.8646059  0.9758409 ]\n",
            " [0.9345944  0.46657205 0.6658598 ]\n",
            " [0.21483779 0.27941287 0.08563685]\n",
            " [0.65176606 0.9345944  0.21483779]\n",
            " [0.8646059  0.46657205 0.27941287]\n",
            " [0.9758409  0.6658598  0.08563685]], shape=(6, 3), dtype=float32)\n"
          ]
        }
      ]
    },
    {
      "cell_type": "code",
      "source": [],
      "metadata": {
        "id": "dtq9czGphBoz"
      },
      "execution_count": null,
      "outputs": []
    },
    {
      "cell_type": "code",
      "source": [],
      "metadata": {
        "id": "1pLFzH7JhBrq"
      },
      "execution_count": null,
      "outputs": []
    }
  ]
}