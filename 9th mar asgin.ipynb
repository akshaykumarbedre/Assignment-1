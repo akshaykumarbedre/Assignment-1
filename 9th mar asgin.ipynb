{
 "cells": [
  {
   "cell_type": "code",
   "execution_count": null,
   "id": "a8a2c387-9302-44e1-8c0e-1840a2efa7d5",
   "metadata": {},
   "outputs": [],
   "source": [
    "# 1.\n",
    "Probability Mass Function (PMF) is describe discrete probability distributions.\n",
    "gropu by value of probolility\n",
    "\n",
    "Probability density function (PDF) is applied to describe continuous probability distributions\n",
    "all value in an imterval number\n"
   ]
  },
  {
   "cell_type": "code",
   "execution_count": null,
   "id": "39736975-42a3-44fd-91b6-aa52654002d1",
   "metadata": {},
   "outputs": [],
   "source": [
    "# 2 \n",
    "CDF is integation of pmf or pdf funstion\n",
    "cdf is used to caluecate area of specific regin of pdf or pmf funstion\n"
   ]
  },
  {
   "cell_type": "code",
   "execution_count": null,
   "id": "02e6dd13-3897-4c5c-ac91-850b998e2698",
   "metadata": {},
   "outputs": [],
   "source": [
    "# 3\n",
    "heigth of studnt in class, \n",
    "wigth of studnet \n",
    "Technical Stock Market\n",
    "\n",
    "depend on mean , standard devasation\n"
   ]
  },
  {
   "cell_type": "code",
   "execution_count": null,
   "id": "5f58a898-0cb7-4724-bfdc-f4be6da049ca",
   "metadata": {},
   "outputs": [],
   "source": [
    "# 4\n",
    "Normal distubtion had 4 standent decsation\n",
    "1st dev cover =68%\n",
    "2nd dev cover = 97%\n",
    "3rd dev cover 99.9%\n",
    "4th dev cover 100%\n",
    "\n",
    "heigth of studnt in class, \n",
    "wigth of studnet \n",
    "Technical Stock Market"
   ]
  },
  {
   "cell_type": "code",
   "execution_count": null,
   "id": "ce8c0ad7-59ba-4662-a59a-aaffb75c2e81",
   "metadata": {},
   "outputs": [],
   "source": [
    "# 5\n",
    "Bernaulli Distribution is funstion proprballity winning is p ,and 1-q is lossing probality\n",
    "ex: tossing coin 10 time \n",
    "rolling die\n",
    "performing more then one bernaulli is binominal distubtion\n"
   ]
  },
  {
   "cell_type": "code",
   "execution_count": null,
   "id": "3672ead2-4026-4d3f-882d-58953aa21e3e",
   "metadata": {},
   "outputs": [],
   "source": [
    "# 6\n",
    "mean=50\n",
    "std=10\n",
    "z_point=x-mean/std\n",
    "=60-50/10\n",
    "=10/10\n",
    "=1\n",
    "z value = 0.84134\n",
    "we need greather then 60 so \n",
    "1-.84134\n",
    "=0.15866\n",
    "will be greater than 60=15.86%"
   ]
  },
  {
   "cell_type": "code",
   "execution_count": null,
   "id": "75c305b3-2909-4760-9733-e5af3f77de36",
   "metadata": {},
   "outputs": [],
   "source": [
    "# 7\n",
    "uniform Distribution is type of probablity when every event has same outcome\n",
    "is is a funstion where a , b when [a,b]=x-a/a-b else 0\n",
    "eg:\n",
    "rolling a die \n",
    "a=1\n",
    "b=6\n",
    "each has prob=1/6\n"
   ]
  },
  {
   "cell_type": "code",
   "execution_count": null,
   "id": "44ed3961-a9b8-4cc8-9c47-6b144458de2b",
   "metadata": {},
   "outputs": [],
   "source": [
    "# 8\n",
    "z score is funstion which convert normal distubtion to standand normal distutin\n",
    "with mean =0 and std devation=1\n",
    "it help to analysis , given number is in which std devation"
   ]
  },
  {
   "cell_type": "code",
   "execution_count": null,
   "id": "ac309dff-e814-4956-b1cc-413a6945bd50",
   "metadata": {},
   "outputs": [],
   "source": [
    "# 9\n",
    "when u chose  sampe data from papulation data mean of sample and popution  data were equal ,whereas for high number of n for non normal devstiob it is true\n",
    "it give relationship bw sampe data and papulation data \n",
    "like equal mean ,\n",
    "std=std devaion of sample/sqrt(n)"
   ]
  },
  {
   "cell_type": "code",
   "execution_count": null,
   "id": "14f5e4bb-616d-4c2d-84c8-57931767a470",
   "metadata": {},
   "outputs": [],
   "source": [
    "# 10\n",
    "State the assumptions of the Central Limit Theorem.\n",
    "it should we randomztion condtion"
   ]
  }
 ],
 "metadata": {
  "kernelspec": {
   "display_name": "Python 3 (ipykernel)",
   "language": "python",
   "name": "python3"
  },
  "language_info": {
   "codemirror_mode": {
    "name": "ipython",
    "version": 3
   },
   "file_extension": ".py",
   "mimetype": "text/x-python",
   "name": "python",
   "nbconvert_exporter": "python",
   "pygments_lexer": "ipython3",
   "version": "3.10.8"
  }
 },
 "nbformat": 4,
 "nbformat_minor": 5
}
