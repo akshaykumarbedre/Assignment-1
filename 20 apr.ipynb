{
 "cells": [
  {
   "cell_type": "code",
   "execution_count": null,
   "metadata": {},
   "outputs": [],
   "source": [
    "1. \n",
    "it ml algorithm in which it predict by get k nearest point perform prediction"
   ]
  },
  {
   "cell_type": "code",
   "execution_count": null,
   "metadata": {},
   "outputs": [],
   "source": [
    "2.by using hyperparameter, we chose k value"
   ]
  },
  {
   "cell_type": "code",
   "execution_count": null,
   "metadata": {},
   "outputs": [],
   "source": [
    "3.\n",
    "KNN classifier: it used to solve classification problem\n",
    "while prediction , we select a output which has high probability\n",
    "KNN reggrestion: it used to solve regression problem\n",
    "while prediction , we select a output which avg of k FloatingPointError"
   ]
  },
  {
   "cell_type": "code",
   "execution_count": null,
   "metadata": {},
   "outputs": [],
   "source": [
    "4.\n",
    "for classification, we use accaray , classifactin report, confiustion matrix\n",
    "for regression, we use r2 score, mean sqare error,"
   ]
  },
  {
   "cell_type": "code",
   "execution_count": null,
   "metadata": {},
   "outputs": [],
   "source": [
    "5. various phenomena that arise when analyzing and organizing data in high-dimensional spaces that do not occur in low-dimensional settings such as the three-dimensional physical space of everyday experience."
   ]
  },
  {
   "cell_type": "code",
   "execution_count": null,
   "metadata": {},
   "outputs": [],
   "source": [
    "6.by using KNNimputer() , we can handle missiing values"
   ]
  },
  {
   "cell_type": "code",
   "execution_count": null,
   "metadata": {},
   "outputs": [],
   "source": [
    "7.\n",
    "for classification problem we use knn classifier\n",
    "for regression, we use knn reggrestion"
   ]
  },
  {
   "cell_type": "code",
   "execution_count": null,
   "metadata": {},
   "outputs": [],
   "source": [
    "8.\n",
    "strengths:simple to create model\n",
    "        *it may best to predict the simple well classification\n",
    "        *it is best for high number of data\n",
    "weakness:high time complexity to predict\n",
    "        *for classification,there is no polymical line like struture\n",
    "        *it is not useable to low number of data "
   ]
  },
  {
   "cell_type": "code",
   "execution_count": null,
   "metadata": {},
   "outputs": [],
   "source": [
    "9.\n",
    "Euclidean distance: it is shortest distance between 2 point\n",
    "formule=sqrt(x2-x1)\n",
    "Manhattan distance:it is distance between 2 point in  N dimensional vector space\n",
    "formula =abs(x2-x1)"
   ]
  },
  {
   "cell_type": "code",
   "execution_count": null,
   "metadata": {},
   "outputs": [],
   "source": [
    "10.it is very important to do feature scaling , to decrese of use of resoues , due to calcautetion of distance between them"
   ]
  }
 ],
 "metadata": {
  "language_info": {
   "name": "python"
  },
  "orig_nbformat": 4
 },
 "nbformat": 4,
 "nbformat_minor": 2
}
