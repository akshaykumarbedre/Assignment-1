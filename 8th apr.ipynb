{
 "cells": [
  {
   "cell_type": "code",
   "execution_count": 1,
   "id": "54b504a3-bc9c-46f9-889d-4e5337671aa2",
   "metadata": {},
   "outputs": [],
   "source": [
    "import pandas as pd\n",
    "df=pd.read_excel(\"clean_data.xlsx\")\n",
    "from sklearn.preprocessing import OrdinalEncoder\n",
    "enc = OrdinalEncoder(categories=[['Super built-up  Area', 'Plot  Area', 'Built-up  Area', 'Carpet  Area']])\n",
    "df['area_type']=enc.fit_transform(df[['area_type']])\n",
    "df.drop('location',axis=1, inplace=True)"
   ]
  },
  {
   "cell_type": "code",
   "execution_count": 2,
   "id": "0f3585ca-8c0f-48d1-b6cf-6746b7eddde4",
   "metadata": {},
   "outputs": [],
   "source": [
    "x=df.iloc[:,:-1]\n"
   ]
  },
  {
   "cell_type": "code",
   "execution_count": 3,
   "id": "028bd0cd-7530-439e-8b6e-dd8f4c09abf8",
   "metadata": {},
   "outputs": [],
   "source": [
    "y=df['price']"
   ]
  },
  {
   "cell_type": "code",
   "execution_count": 4,
   "id": "a89fcdc2-f218-463c-8e3d-2e31ed9baf10",
   "metadata": {},
   "outputs": [],
   "source": [
    "from sklearn.model_selection import  train_test_split\n",
    "x_train, x_test, y_train, y_test = train_test_split(x,y)"
   ]
  },
  {
   "cell_type": "code",
   "execution_count": 5,
   "id": "bdf16acc-7173-49ad-82ea-5a93b5a3bd54",
   "metadata": {},
   "outputs": [],
   "source": [
    "from sklearn.preprocessing import StandardScaler\n",
    "ss = StandardScaler()\n",
    "x_train=ss.fit_transform(x_train)\n",
    "x_test=ss.transform(x_test)"
   ]
  },
  {
   "cell_type": "code",
   "execution_count": 6,
   "id": "8da26c16-1885-4a3b-b71b-1bc45e07e8ae",
   "metadata": {},
   "outputs": [
    {
     "name": "stdout",
     "output_type": "stream",
     "text": [
      "Fitting 5 folds for each of 14 candidates, totalling 70 fits\n",
      "{'C': 1, 'kernel': 'linear'}\n"
     ]
    }
   ],
   "source": [
    "from sklearn.model_selection import  GridSearchCV\n",
    "from sklearn.svm import SVR\n",
    "para={\"kernel\":[\"linear\",\"poly\"],\n",
    "      \"C\":[1,2,4,5,6,8,10],\n",
    "\n",
    "      }\n",
    "\n",
    "svr=SVR()\n",
    "rscv=GridSearchCV(SVR(),para,verbose=1,n_jobs=10,cv=5)\n",
    "rscv.fit(x_train, y_train)\n",
    "print(rscv.best_params_)\n",
    "y_pred=rscv.predict(x_test)"
   ]
  },
  {
   "cell_type": "code",
   "execution_count": 7,
   "id": "a04abcee-14f3-4701-990a-10b63d112149",
   "metadata": {},
   "outputs": [
    {
     "data": {
      "text/plain": [
       "12040.372831709095"
      ]
     },
     "execution_count": 7,
     "metadata": {},
     "output_type": "execute_result"
    }
   ],
   "source": [
    "1. #mean sqare error is best matrix\n",
    "from sklearn.metrics import mean_squared_error\n",
    "mean_squared_error(y_test,y_pred)"
   ]
  },
  {
   "cell_type": "code",
   "execution_count": 8,
   "id": "9b13371e-715f-42fa-a294-0f4d4dc54f88",
   "metadata": {},
   "outputs": [
    {
     "data": {
      "text/plain": [
       "40.00428188100665"
      ]
     },
     "execution_count": 8,
     "metadata": {},
     "output_type": "execute_result"
    }
   ],
   "source": [
    "2.\n",
    "#MAE is best to more outlier present in dataset\n",
    "from sklearn.metrics import mean_absolute_error\n",
    "mean_absolute_error(y_test,y_pred)\n"
   ]
  },
  {
   "cell_type": "code",
   "execution_count": null,
   "id": "d9114a70-49e5-465e-acb2-858427ba9bf6",
   "metadata": {},
   "outputs": [],
   "source": [
    "3.\n",
    "we use MAE beause to it has same unit"
   ]
  },
  {
   "cell_type": "code",
   "execution_count": null,
   "id": "3410c3c9-52df-41bb-a028-23b2b4bac4f2",
   "metadata": {},
   "outputs": [],
   "source": [
    "4.\n",
    "we prefer RMSE , beause the performace is in same unit"
   ]
  },
  {
   "cell_type": "code",
   "execution_count": null,
   "id": "2b7c4b5d-bda0-4af8-be10-c9bb3bf87af2",
   "metadata": {},
   "outputs": [],
   "source": [
    "5.\n",
    "R adjueted-squared is best matrix"
   ]
  },
  {
   "cell_type": "code",
   "execution_count": null,
   "id": "81884f7d-179c-40ac-b361-d3e6aedd2764",
   "metadata": {},
   "outputs": [],
   "source": []
  }
 ],
 "metadata": {
  "kernelspec": {
   "display_name": "Python 3 (ipykernel)",
   "language": "python",
   "name": "python3"
  },
  "language_info": {
   "codemirror_mode": {
    "name": "ipython",
    "version": 3
   },
   "file_extension": ".py",
   "mimetype": "text/x-python",
   "name": "python",
   "nbconvert_exporter": "python",
   "pygments_lexer": "ipython3",
   "version": "3.10.8"
  }
 },
 "nbformat": 4,
 "nbformat_minor": 5
}
