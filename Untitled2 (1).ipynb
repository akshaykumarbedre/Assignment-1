{
 "cells": [
  {
   "cell_type": "code",
   "execution_count": null,
   "id": "0ef6513c-74f8-4174-8b59-92bd95b90216",
   "metadata": {},
   "outputs": [],
   "source": [
    "class is user define datatype which contain  method,value of the class\n",
    "objest is blueprint of class\n",
    "\n",
    "\n"
   ]
  },
  {
   "cell_type": "code",
   "execution_count": 6,
   "id": "d1057731-87bf-46cd-b8d6-48b9abbc5c0f",
   "metadata": {},
   "outputs": [],
   "source": [
    "class demo():\n",
    "    def wel(self):\n",
    "        print(\"welcome\")"
   ]
  },
  {
   "cell_type": "code",
   "execution_count": 7,
   "id": "d2129bdb-a744-4c02-a707-223776a21927",
   "metadata": {},
   "outputs": [
    {
     "name": "stdout",
     "output_type": "stream",
     "text": [
      "welcome\n"
     ]
    }
   ],
   "source": [
    "o=demo()\n",
    "o.wel()"
   ]
  },
  {
   "cell_type": "code",
   "execution_count": null,
   "id": "ebd3600a-69ba-400b-8d1f-8b5bc2029f7d",
   "metadata": {},
   "outputs": [],
   "source": [
    "2)\n",
    "Inheritance, Polymorphism, Encapsulation and Abstraction"
   ]
  },
  {
   "cell_type": "code",
   "execution_count": null,
   "id": "42abef9e-aa5b-4fe4-80f2-661c8abcbc6c",
   "metadata": {},
   "outputs": [],
   "source": [
    "3)\n",
    "__init__() is construater funstion which used to initialion of class variable"
   ]
  },
  {
   "cell_type": "code",
   "execution_count": 14,
   "id": "887360ca-8838-4f5f-bfd5-95622ddffd1a",
   "metadata": {},
   "outputs": [],
   "source": [
    "class demo1():\n",
    "    def __init__(self):\n",
    "        print('wel')\n",
    "    "
   ]
  },
  {
   "cell_type": "code",
   "execution_count": 15,
   "id": "eb991dd3-6918-426e-92d6-adce9a1d8404",
   "metadata": {},
   "outputs": [
    {
     "name": "stdout",
     "output_type": "stream",
     "text": [
      "wel\n"
     ]
    }
   ],
   "source": [
    "o=demo1()"
   ]
  },
  {
   "cell_type": "code",
   "execution_count": null,
   "id": "277f666f-655c-4f95-ac5e-642dad7a9b19",
   "metadata": {},
   "outputs": [],
   "source": [
    "4)The self variable is used to represent the instance of the class"
   ]
  },
  {
   "cell_type": "code",
   "execution_count": 3,
   "id": "b95b7be2-abc2-4fff-a0ad-e3fb0099ea0e",
   "metadata": {},
   "outputs": [],
   "source": [
    "# 5)Inheritance allows us to define a class that inherits all the methods and properties from another class\n"
   ]
  },
  {
   "cell_type": "code",
   "execution_count": 6,
   "id": "dafacae8-33a9-47f2-a149-0a4aa17a6f21",
   "metadata": {},
   "outputs": [
    {
     "name": "stdout",
     "output_type": "stream",
     "text": [
      "This function is in parent class.\n",
      "This function is in child class.\n"
     ]
    }
   ],
   "source": [
    "# single inheritance\n",
    "\n",
    "# Base class\n",
    "class Parent:\n",
    "\tdef func1(self):\n",
    "\t\tprint(\"This function is in parent class.\")\n",
    "\n",
    "class Child(Parent):\n",
    "\tdef func2(self):\n",
    "\t\tprint(\"This function is in child class.\")\n",
    "\n",
    "object = Child()\n",
    "object.func1()\n",
    "object.func2()\n"
   ]
  },
  {
   "cell_type": "code",
   "execution_count": 5,
   "id": "1aaeaa0e-4e0c-4c7f-bba9-9d20e57b2837",
   "metadata": {},
   "outputs": [
    {
     "name": "stdout",
     "output_type": "stream",
     "text": [
      "Father : RAM\n",
      "Mother : SITA\n"
     ]
    }
   ],
   "source": [
    "# Python program to demonstrate\n",
    "# multiple inheritance\n",
    "\n",
    "class Mother:\n",
    "\tmothername = \"\"\n",
    "\n",
    "\tdef mother(self):\n",
    "\t\tprint(self.mothername)\n",
    "\n",
    "class Father:\n",
    "\tfathername = \"\"\n",
    "\n",
    "\tdef father(self):\n",
    "\t\tprint(self.fathername)\n",
    "\n",
    "class Son(Mother, Father):\n",
    "\tdef parents(self):\n",
    "\t\tprint(\"Father :\", self.fathername)\n",
    "\t\tprint(\"Mother :\", self.mothername)\n",
    "\n",
    "\n",
    "s1 = Son()\n",
    "s1.fathername = \"RAM\"\n",
    "s1.mothername = \"SITA\"\n",
    "s1.parents()\n"
   ]
  },
  {
   "cell_type": "code",
   "execution_count": 7,
   "id": "a171f0e8-53b6-4980-93bb-8b69330b9b30",
   "metadata": {},
   "outputs": [
    {
     "name": "stdout",
     "output_type": "stream",
     "text": [
      "Lal mani\n",
      "Grandfather name : Lal mani\n",
      "Father name : Rampal\n",
      "Son name : Prince\n"
     ]
    }
   ],
   "source": [
    "# Python program to demonstrate\n",
    "# multilevel inheritance\n",
    "\n",
    "# Base class\n",
    "\n",
    "\n",
    "class Grandfather:\n",
    "\n",
    "\tdef __init__(self, grandfathername):\n",
    "\t\tself.grandfathername = grandfathername\n",
    "\n",
    "# Intermediate class\n",
    "\n",
    "\n",
    "class Father(Grandfather):\n",
    "\tdef __init__(self, fathername, grandfathername):\n",
    "\t\tself.fathername = fathername\n",
    "\n",
    "\n",
    "\t\tGrandfather.__init__(self, grandfathername)\n",
    "\n",
    "\n",
    "class Son(Father):\n",
    "\tdef __init__(self, sonname, fathername, grandfathername):\n",
    "\t\tself.sonname = sonname\n",
    "\n",
    "\t\tFather.__init__(self, fathername, grandfathername)\n",
    "\n",
    "\tdef print_name(self):\n",
    "\t\tprint('Grandfather name :', self.grandfathername)\n",
    "\t\tprint(\"Father name :\", self.fathername)\n",
    "\t\tprint(\"Son name :\", self.sonname)\n",
    "\n",
    "\n",
    "# Driver code\n",
    "s1 = Son('Prince', 'Rampal', 'Lal mani')\n",
    "print(s1.grandfathername)\n",
    "s1.print_name()\n"
   ]
  }
 ],
 "metadata": {
  "kernelspec": {
   "display_name": "Python 3 (ipykernel)",
   "language": "python",
   "name": "python3"
  },
  "language_info": {
   "codemirror_mode": {
    "name": "ipython",
    "version": 3
   },
   "file_extension": ".py",
   "mimetype": "text/x-python",
   "name": "python",
   "nbconvert_exporter": "python",
   "pygments_lexer": "ipython3",
   "version": "3.10.8"
  }
 },
 "nbformat": 4,
 "nbformat_minor": 5
}
