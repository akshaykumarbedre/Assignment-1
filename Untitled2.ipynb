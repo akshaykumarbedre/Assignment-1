{
 "cells": [
  {
   "cell_type": "code",
   "execution_count": null,
   "id": "0ef6513c-74f8-4174-8b59-92bd95b90216",
   "metadata": {},
   "outputs": [],
   "source": [
    "class is user define datatype which contain  method,value of the class\n",
    "objest is blueprint of class\n",
    "\n",
    "\n"
   ]
  },
  {
   "cell_type": "code",
   "execution_count": 6,
   "id": "d1057731-87bf-46cd-b8d6-48b9abbc5c0f",
   "metadata": {},
   "outputs": [],
   "source": [
    "class demo():\n",
    "    def wel(self):\n",
    "        print(\"welcome\")"
   ]
  },
  {
   "cell_type": "code",
   "execution_count": 7,
   "id": "d2129bdb-a744-4c02-a707-223776a21927",
   "metadata": {},
   "outputs": [
    {
     "name": "stdout",
     "output_type": "stream",
     "text": [
      "welcome\n"
     ]
    }
   ],
   "source": [
    "o=demo()\n",
    "o.wel()"
   ]
  },
  {
   "cell_type": "code",
   "execution_count": null,
   "id": "ebd3600a-69ba-400b-8d1f-8b5bc2029f7d",
   "metadata": {},
   "outputs": [],
   "source": [
    "2)\n",
    "Inheritance, Polymorphism, Encapsulation and Abstraction"
   ]
  },
  {
   "cell_type": "code",
   "execution_count": null,
   "id": "42abef9e-aa5b-4fe4-80f2-661c8abcbc6c",
   "metadata": {},
   "outputs": [],
   "source": [
    "3)\n",
    "__init__() is construater funstion which used to initialion of class variable"
   ]
  },
  {
   "cell_type": "code",
   "execution_count": 14,
   "id": "887360ca-8838-4f5f-bfd5-95622ddffd1a",
   "metadata": {},
   "outputs": [],
   "source": [
    "class demo1():\n",
    "    def __init__(self):\n",
    "        print('wel')\n",
    "    "
   ]
  },
  {
   "cell_type": "code",
   "execution_count": 15,
   "id": "eb991dd3-6918-426e-92d6-adce9a1d8404",
   "metadata": {},
   "outputs": [
    {
     "name": "stdout",
     "output_type": "stream",
     "text": [
      "wel\n"
     ]
    }
   ],
   "source": [
    "o=demo1()"
   ]
  },
  {
   "cell_type": "code",
   "execution_count": null,
   "id": "277f666f-655c-4f95-ac5e-642dad7a9b19",
   "metadata": {},
   "outputs": [],
   "source": [
    "4)self is used to denote objest in class"
   ]
  },
  {
   "cell_type": "code",
   "execution_count": null,
   "id": "b95b7be2-abc2-4fff-a0ad-e3fb0099ea0e",
   "metadata": {},
   "outputs": [],
   "source": [
    "5)it is proccess of \n"
   ]
  },
  {
   "cell_type": "code",
   "execution_count": 20,
   "id": "dafacae8-33a9-47f2-a149-0a4aa17a6f21",
   "metadata": {},
   "outputs": [],
   "source": []
  },
  {
   "cell_type": "code",
   "execution_count": null,
   "id": "1aaeaa0e-4e0c-4c7f-bba9-9d20e57b2837",
   "metadata": {},
   "outputs": [],
   "source": []
  },
  {
   "cell_type": "code",
   "execution_count": null,
   "id": "a171f0e8-53b6-4980-93bb-8b69330b9b30",
   "metadata": {},
   "outputs": [],
   "source": []
  }
 ],
 "metadata": {
  "kernelspec": {
   "display_name": "Python 3 (ipykernel)",
   "language": "python",
   "name": "python3"
  },
  "language_info": {
   "codemirror_mode": {
    "name": "ipython",
    "version": 3
   },
   "file_extension": ".py",
   "mimetype": "text/x-python",
   "name": "python",
   "nbconvert_exporter": "python",
   "pygments_lexer": "ipython3",
   "version": "3.10.8"
  }
 },
 "nbformat": 4,
 "nbformat_minor": 5
}
