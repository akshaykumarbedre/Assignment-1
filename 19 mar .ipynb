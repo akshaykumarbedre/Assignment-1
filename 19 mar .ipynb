{
 "cells": [
  {
   "cell_type": "raw",
   "id": "785d822f-9458-433c-ac26-e6001398cc44",
   "metadata": {},
   "source": [
    "1.\n",
    "it is process of scaling numarical data to specific range of value \n",
    "in preprocessing: we redue the numarical data to 0 to 1 which improve the speed of trailng ML model\n",
    "ex:\n",
    "    if weight of person is 60,40,40,90 when we use min max scaling our speed will be incrase\n",
    "    "
   ]
  },
  {
   "cell_type": "raw",
   "id": "3a8a16c6-c41d-495d-85ba-1a2a3a35854b",
   "metadata": {},
   "source": [
    "2.\n",
    "Unit vecter scaling is scaling value of specific feature magnification is 1\n",
    "in min max we range is [0 ,1] or specific range of value but in unit vecter we are making magnifiaction os 1 & feature are depended on each other\n",
    "ex: hight & wigth -> Healthness \n",
    "when we use unit vecter magnifiaction of two feature is 1\n"
   ]
  },
  {
   "cell_type": "code",
   "execution_count": null,
   "id": "b05b5082-228c-4611-bfd6-cf9383d53f19",
   "metadata": {},
   "outputs": [],
   "source": [
    "3.PCA, is a dimensionality reduction method that is often used to reduce the dimensionality of large data sets\n",
    "by createing pc1,pc2,... & this reduse to lower dimesntion\n",
    "ex: data of indiacter RSI,EMA: we can redue to one 1D"
   ]
  },
  {
   "cell_type": "code",
   "execution_count": null,
   "id": "6a4d4eba-3f67-4f6a-92c8-0e170c808d96",
   "metadata": {},
   "outputs": [],
   "source": [
    "4.\n",
    "PCA is used for redusing feature  Feature Extraction is used for Selecting the impontant feature\n",
    "PCA redue dimistion of data which help to give more importanat feature to select\n",
    "ex: data of indiacter RSI,EMA: we can redue to one 1D which pc1 is easy to select important feature\n"
   ]
  },
  {
   "cell_type": "code",
   "execution_count": null,
   "id": "921dd38f-ca1e-43fb-9ff3-50e735360cca",
   "metadata": {},
   "outputs": [],
   "source": [
    "5.\n",
    "price, rating, and delivery time.\n",
    "here we can use rating, price to scale down using min max scaler\n",
    "we will reduse the data [0,1] which help to run the model"
   ]
  },
  {
   "cell_type": "code",
   "execution_count": null,
   "id": "945204fd-022a-43ae-9187-cfc254a879c6",
   "metadata": {},
   "outputs": [],
   "source": [
    "6.\n",
    "we are using the finail data such as profit , revenue, market trend using pca we redue to dimistion when create pc1,pc2... \n",
    "by this way we redue the data "
   ]
  },
  {
   "cell_type": "code",
   "execution_count": 30,
   "id": "75b992b6-a460-434f-9862-244d60484fc1",
   "metadata": {},
   "outputs": [
    {
     "data": {
      "text/plain": [
       "array([[0.        ],\n",
       "       [0.21052632],\n",
       "       [0.47368421],\n",
       "       [0.73684211],\n",
       "       [1.        ]])"
      ]
     },
     "execution_count": 30,
     "metadata": {},
     "output_type": "execute_result"
    }
   ],
   "source": [
    "7.\n",
    "from sklearn.preprocessing import MinMaxScaler\n",
    "import numpy as np\n",
    "import pandas as pd\n",
    "li=[1, 5, 10, 15, 20]\n",
    "li=pd.DataFrame(li,columns=[\"data\"])\n",
    "\n",
    "a=MinMaxScaler()\n",
    "a.fit_transform(li[['data']])\n"
   ]
  },
  {
   "cell_type": "code",
   "execution_count": null,
   "id": "f35d7711-3c32-4f94-bc9c-403fadf80135",
   "metadata": {},
   "outputs": [],
   "source": [
    "8.\n",
    "[height, weight, age, gender, blood pressure]\n",
    "if we apply pca we get 4 componets. beause we performing  5d to 4d "
   ]
  }
 ],
 "metadata": {
  "kernelspec": {
   "display_name": "Python 3 (ipykernel)",
   "language": "python",
   "name": "python3"
  },
  "language_info": {
   "codemirror_mode": {
    "name": "ipython",
    "version": 3
   },
   "file_extension": ".py",
   "mimetype": "text/x-python",
   "name": "python",
   "nbconvert_exporter": "python",
   "pygments_lexer": "ipython3",
   "version": "3.10.8"
  }
 },
 "nbformat": 4,
 "nbformat_minor": 5
}
