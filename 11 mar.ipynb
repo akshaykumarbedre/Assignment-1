{
 "cells": [
  {
   "cell_type": "code",
   "execution_count": null,
   "id": "e5f93d39-6824-4aee-8194-c35b711bd655",
   "metadata": {},
   "outputs": [],
   "source": [
    "1.\n",
    "t-test : it used when we have sample std dev\n",
    "z-test :it used when we have popultion std dev\n",
    "\n",
    "t-test : it used when n<=30\n",
    "z-test :it used when n>30\n"
   ]
  },
  {
   "cell_type": "code",
   "execution_count": null,
   "id": "6dc71ff7-cbca-4c61-a2b1-293388b2c3c5",
   "metadata": {},
   "outputs": [],
   "source": [
    "2.\n",
    "one tailed tests:\n",
    "    one side area in distubtion\n",
    "    need to cal to area of 1 side\n",
    "    \n",
    "two-tailed tests:\n",
    "    two side area in distubtion\n",
    "    need to cal to area of 2 side"
   ]
  },
  {
   "cell_type": "code",
   "execution_count": null,
   "id": "4f36f134-0d7a-430b-b5d8-e27c8830dc4b",
   "metadata": {},
   "outputs": [],
   "source": [
    "3.\n",
    "type error are error in reality and conclution\n",
    "relaty concludtion\n",
    "1        1             good\n",
    "1        0             type ₁\n",
    "0        1             type 2\n",
    "0        0             good\n"
   ]
  },
  {
   "cell_type": "code",
   "execution_count": null,
   "id": "a042c09d-6a29-43d2-a267-0c6da568cc4c",
   "metadata": {},
   "outputs": [],
   "source": [
    "4.\n",
    "Bayes theorem describes the probability of occurrence of an event related to any condition\n",
    "eg:A bag I contains 4 white and 6 black balls while another Bag II contains 4 white and 3 black balls. One ball is drawn at random from one of the bags"
   ]
  },
  {
   "cell_type": "code",
   "execution_count": null,
   "id": "c240d3aa-2d4c-4834-8de7-4f7eee45265a",
   "metadata": {},
   "outputs": [],
   "source": [
    "5.\n",
    "confidence interval is interval of 95% of uniform distubtion with + or - marge error\n",
    "add and subtract the margin of error from the sample mean\n",
    "confidence interval=mean + or - margin of error"
   ]
  },
  {
   "cell_type": "code",
   "execution_count": null,
   "id": "755c9dce-1d26-43ec-9cf7-a3c29af578d3",
   "metadata": {},
   "outputs": [],
   "source": [
    "6.\n",
    "s={r1,r2,b1,b2,b3}\n",
    "probality of r1 over b1 occer=3/5*2/4=30%\n"
   ]
  },
  {
   "cell_type": "code",
   "execution_count": null,
   "id": "ea0f70f1-1f17-49dd-b049-fd3042e32abb",
   "metadata": {},
   "outputs": [],
   "source": [
    "7.\n",
    "50-98/sqrt(n) to 50+98/sqrt(n)"
   ]
  },
  {
   "cell_type": "code",
   "execution_count": null,
   "id": "1b3a59f9-7705-4d77-8e50-50251eee55b3",
   "metadata": {},
   "outputs": [],
   "source": [
    "8.\n",
    "margin of error are error z*std/sqrt(n)\n",
    "it effect inverly of sqrt(n)\n",
    "m=50\n",
    "z=1.96\n",
    "std=5\n",
    "\n",
    "50-98/sqrt(n) to 50+98/sqrt(n)\n",
    "\n",
    "if n=1\n",
    "ci=[-48 to 148]\n",
    "\n",
    "if n=10\n",
    "ci=[47 to 53]\n"
   ]
  },
  {
   "cell_type": "code",
   "execution_count": null,
   "id": "705aae65-3924-4d91-8b12-39772470f59f",
   "metadata": {},
   "outputs": [],
   "source": [
    "9.\n",
    "z=-1\n",
    "hence it locate in -1st dev\n",
    "of persentage \n",
    "34 to 84"
   ]
  },
  {
   "cell_type": "code",
   "execution_count": null,
   "id": "6f4b77c4-64d9-4490-b96d-7392a19c60ce",
   "metadata": {},
   "outputs": [],
   "source": [
    "10.\n",
    "a hypothesis test to determine if the drug is significantly effective at a 95% confidence level using a t-test is ci=[7,19]"
   ]
  },
  {
   "cell_type": "code",
   "execution_count": null,
   "id": "b43051eb-b4b1-466f-b664-90359085bb79",
   "metadata": {},
   "outputs": [],
   "source": [
    "11.\n",
    "Confidence Interval = p +/- z*√p (1-p) / n\n",
    "\n",
    "where:\n",
    "\n",
    "p: sample proportion\n",
    "z: the chosen z-value\n",
    "n: sample size\n",
    "In this case, we have a sample size of 500 and a sample proportion of 0.65. We can use a z-value of 1.96 for a 95% confidence level1.\n",
    "\n",
    "Substituting these values into the formula, we get:\n",
    "\n",
    "Confidence Interval = 0.65 +/- 1.96*√(0.65)(1-0.65)/500\n",
    "\n",
    "Confidence Interval = (0.60, 0.70)"
   ]
  },
  {
   "cell_type": "code",
   "execution_count": null,
   "id": "f1744998-2f4b-4ae1-a313-3a872eeb8568",
   "metadata": {},
   "outputs": [],
   "source": [
    "12\n",
    "are equal (H0: μ1 = μ2), while the alternative hypothesis can be either two-tailed, left-tailed, or right-tailed (H1: μ1 ≠ μ2).\n",
    "\n",
    "Sample A has a mean score of 85 with a standard deviation of 6, while sample B has a mean score of 82 with a standard deviation of 5. We can use these values to calculate the t-value and compare it to the critical value at a significance level of 0.011.\n",
    "\n",
    "If the calculated t-value is greater than the critical value, we reject the null hypothesis and conclude that there is a significant difference between the two teaching methods2."
   ]
  },
  {
   "cell_type": "code",
   "execution_count": null,
   "id": "203f71c3-efed-473f-a55e-8ce0df7dd140",
   "metadata": {},
   "outputs": [],
   "source": [
    "13\n",
    "CI = 65 ± 1.645 * (8 / √50) = [63.02, 66.98]"
   ]
  },
  {
   "cell_type": "code",
   "execution_count": null,
   "id": "18e66a4f-793d-421a-b04c-72292889937b",
   "metadata": {},
   "outputs": [],
   "source": [
    "14\n",
    "State the null hypothesis and alternative hypothesis:\n",
    "\n",
    "Null hypothesis (H0): Caffeine has no significant effect on reaction time.\n",
    "Alternative hypothesis (Ha): Caffeine has a significant effect on reaction time.\n",
    "Determine the level of significance (α) = 1 - confidence level = 1 - 0.90 = 0.10.\n",
    "\n",
    "Calculate the test statistic:\n",
    "\n",
    "t = (x̄ - μ) / (s / √n), where x̄ is the sample mean, μ is the population mean under the null hypothesis, s is the sample standard deviation, and n is the sample size.\n",
    "Determine the critical value(s) from the t-distribution table with n - 1 degrees of freedom and α/2 significance level.\n",
    "\n",
    "Compare the test statistic with the critical value(s) to determine whether to reject or fail to reject the null hypothesis.\n",
    "\n",
    "Using the given information, we can calculate the test statistic as follows:\n",
    "\n",
    "x̄ = 0.25 seconds\n",
    "μ = ?\n",
    "s = 0.05 seconds\n",
    "n = 30\n",
    "t = (0.25 - μ) / (0.05 / √30)"
   ]
  }
 ],
 "metadata": {
  "kernelspec": {
   "display_name": "Python 3 (ipykernel)",
   "language": "python",
   "name": "python3"
  },
  "language_info": {
   "codemirror_mode": {
    "name": "ipython",
    "version": 3
   },
   "file_extension": ".py",
   "mimetype": "text/x-python",
   "name": "python",
   "nbconvert_exporter": "python",
   "pygments_lexer": "ipython3",
   "version": "3.10.8"
  }
 },
 "nbformat": 4,
 "nbformat_minor": 5
}
