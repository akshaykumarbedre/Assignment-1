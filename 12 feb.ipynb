{
 "cells": [
  {
   "cell_type": "code",
   "execution_count": null,
   "id": "d42f789c-f108-4479-827e-2137cb305801",
   "metadata": {
    "jp-MarkdownHeadingCollapsed": true,
    "tags": []
   },
   "outputs": [],
   "source": [
    "## 1. Exception is a run time error genarated by user\n",
    "\n",
    "*syntex error is mistake in sytax of program \n",
    "*Exception is a run time error genarated by user\n",
    "\n"
   ]
  },
  {
   "cell_type": "code",
   "execution_count": 2,
   "id": "0e5f41b0-852f-4758-8f7e-824e6588b443",
   "metadata": {},
   "outputs": [
    {
     "ename": "ZeroDivisionError",
     "evalue": "division by zero",
     "output_type": "error",
     "traceback": [
      "\u001b[0;31m---------------------------------------------------------------------------\u001b[0m",
      "\u001b[0;31mZeroDivisionError\u001b[0m                         Traceback (most recent call last)",
      "Cell \u001b[0;32mIn[2], line 6\u001b[0m\n\u001b[1;32m      4\u001b[0m a\u001b[38;5;241m=\u001b[39m\u001b[38;5;241m34\u001b[39m\n\u001b[1;32m      5\u001b[0m logging\u001b[38;5;241m.\u001b[39minfo(\u001b[38;5;124m\"\u001b[39m\u001b[38;5;124mBEFORE ERROE \u001b[39m\u001b[38;5;124m\"\u001b[39m)\n\u001b[0;32m----> 6\u001b[0m b\u001b[38;5;241m=\u001b[39m\u001b[43ma\u001b[49m\u001b[38;5;241;43m/\u001b[39;49m\u001b[38;5;241;43m0\u001b[39;49m\n\u001b[1;32m      7\u001b[0m logging\u001b[38;5;241m.\u001b[39mERROR(\u001b[38;5;124m\"\u001b[39m\u001b[38;5;124mAFTER ERROE \u001b[39m\u001b[38;5;124m\"\u001b[39m)\n",
      "\u001b[0;31mZeroDivisionError\u001b[0m: division by zero"
     ]
    }
   ],
   "source": [
    "# when an exception is not handled then progarm excution will stop and discontiue of program\n",
    "import logging \n",
    "logging.basicConfig(filename=\"output.log\", level=logging.INFO)\n",
    "a=34\n",
    "logging.info(\"BEFORE ERROE \")\n",
    "b=a/0\n",
    "logging.ERROR(\"AFTER ERROE \")"
   ]
  },
  {
   "cell_type": "code",
   "execution_count": 3,
   "id": "be4fbafe-ee55-4d2a-92f9-60d45e5faf7a",
   "metadata": {},
   "outputs": [
    {
     "name": "stdout",
     "output_type": "stream",
     "text": [
      "division by zero\n"
     ]
    }
   ],
   "source": [
    "# except statements are used to catch and handle exceptions\n",
    "try:\n",
    "    a=10/0\n",
    "except Exception as e:\n",
    "    print(e)"
   ]
  },
  {
   "cell_type": "code",
   "execution_count": 12,
   "id": "83360489-ad30-4fb2-a26f-5807f39ea324",
   "metadata": {},
   "outputs": [
    {
     "name": "stdin",
     "output_type": "stream",
     "text": [
      " 10\n"
     ]
    },
    {
     "name": "stdout",
     "output_type": "stream",
     "text": [
      "i am excetipn\n",
      "i am in finally\n"
     ]
    }
   ],
   "source": [
    "logging.shutdown()\n",
    "import logging \n",
    "logging.basicConfig(filename=\"output.log\", level=logging.INFO)\n",
    "a=input()\n",
    "try:\n",
    "    raise er(\"i am excetipn\")\n",
    "    b=1+a    \n",
    "except Exception as e:\n",
    "    logging.error(e)\n",
    "    print(e)\n",
    "else:\n",
    "    logging.info(\"if no error in try\")\n",
    "    print(\"if no error in try\")\n",
    "finally:\n",
    "    logging.info(\"i am in finally\")\n",
    "    print(\"i am in finally\")\n",
    "class er(Exception):\n",
    "    def __init__(self, mas):\n",
    "        self.mas=mas"
   ]
  },
  {
   "cell_type": "code",
   "execution_count": null,
   "id": "06125c73-c031-4864-a2e1-7be3b5da5678",
   "metadata": {},
   "outputs": [],
   "source": [
    "5.\n",
    "Custom Exceptions in python: the procces of creating oun exception \n",
    "to create user define exception\n",
    "class er(Exception):\n",
    "    def __init__(self, mas):\n",
    "        self.mas=mas"
   ]
  },
  {
   "cell_type": "code",
   "execution_count": 13,
   "id": "c305da19-a9e8-471e-aef2-ea5456edb0df",
   "metadata": {},
   "outputs": [
    {
     "name": "stdout",
     "output_type": "stream",
     "text": [
      "length con't negartive\n"
     ]
    }
   ],
   "source": [
    "6.\n",
    "class er(Exception):\n",
    "    def __init__(self, mas):\n",
    "        self.mas=mas\n",
    "length=-54\n",
    "try:\n",
    "    if(length<0):\n",
    "        raise er(\"length con't negartive\")\n",
    "except Exception as e :\n",
    "    print(e)"
   ]
  }
 ],
 "metadata": {
  "kernelspec": {
   "display_name": "Python 3 (ipykernel)",
   "language": "python",
   "name": "python3"
  },
  "language_info": {
   "codemirror_mode": {
    "name": "ipython",
    "version": 3
   },
   "file_extension": ".py",
   "mimetype": "text/x-python",
   "name": "python",
   "nbconvert_exporter": "python",
   "pygments_lexer": "ipython3",
   "version": "3.10.8"
  }
 },
 "nbformat": 4,
 "nbformat_minor": 5
}
