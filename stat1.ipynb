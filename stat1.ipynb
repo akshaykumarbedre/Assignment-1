{
 "cells": [
  {
   "cell_type": "code",
   "execution_count": null,
   "id": "6b35d9bb-e31f-41b2-81b1-da0a0d636131",
   "metadata": {},
   "outputs": [],
   "source": [
    "1) Statistics is process of collecting, organizing , analyzing the data persuasive conclusion"
   ]
  },
  {
   "cell_type": "code",
   "execution_count": null,
   "id": "fe016ef8-9416-4672-a212-f321a8960fb2",
   "metadata": {},
   "outputs": [],
   "source": [
    "2)type of statistics \n",
    "*discriptive statistics \n",
    "it contain organizing and summarizing the data \n",
    "eg : age of studnet in a perticular city \n",
    "\n",
    "*inferrative statistics \n",
    "it analyzing data and find out the concusation from data\n",
    "eg:marks of student\n",
    "if we cheak marks of few randoum studnet data we can find out the performance of whole college\n",
    "\n"
   ]
  },
  {
   "cell_type": "code",
   "execution_count": null,
   "id": "09e441ef-08cd-48ea-94ed-1590bb2f9fec",
   "metadata": {},
   "outputs": [],
   "source": [
    "3)What are the different types of data and how do they differ from each other? Provide an example of\n",
    "each type of data.\n",
    "data classfied as 2 two type\n",
    "quentative and qualitative \n",
    "dicreate & continuos in quentative (value )\n",
    "nominal and ordinary in qualitaive (in word)\n",
    "\n",
    "dicreate:it is was in whole number \n",
    "eg : no of studnet passed in 2021\n",
    "\n",
    "continous : it may any value \n",
    "eg: set of heigth of student \n",
    "\n",
    "nominal : there is no rank \n",
    "eg: section of a class\n",
    "\n",
    "ordinary : this data should has rank\n",
    "eg : result in grade\n",
    "\n"
   ]
  },
  {
   "cell_type": "code",
   "execution_count": null,
   "id": "06e77a0d-5af2-484d-a2f5-bab7b1955ef5",
   "metadata": {},
   "outputs": [],
   "source": [
    "Q4. Categorise the following datasets with respect to quantitative and qualitative data types:\n",
    "(i) Grading in exam: A+, A, B+, B, C+, C, D, E\n",
    "(ii) Colour of mangoes: yellow, green, orange, red\n",
    "(iii) Height data of a class: [178.9, 179, 179.5, 176, 177.2, 178.3, 175.8,...]\n",
    "(iv) Number of mangoes exported by a farm: [500, 600, 478, 672, ...]"
   ]
  },
  {
   "cell_type": "code",
   "execution_count": null,
   "id": "26972edf-5ea6-476b-99bd-db138177e77f",
   "metadata": {},
   "outputs": [],
   "source": [
    "4.\n",
    "i)ordinary\n",
    "ii) nomial \n",
    "iii)continues\n",
    "iv) discrite "
   ]
  },
  {
   "cell_type": "code",
   "execution_count": null,
   "id": "879ba301-007f-4ced-9c51-b7cf0e6b94ed",
   "metadata": {},
   "outputs": [],
   "source": [
    "Explain the concept of levels of measurement and give an example of a variable for each level."
   ]
  },
  {
   "cell_type": "code",
   "execution_count": null,
   "id": "93f73904-2f40-40b6-8a19-75d08acc5bbc",
   "metadata": {},
   "outputs": [],
   "source": [
    "5.level of measurement is classiftion of data based on propity of data\n",
    "nominal scale data :blood group of person \n",
    "ordinary scale of data : Grading in exam \n",
    "interval scale of data : speed of vehicle\n",
    "ratio scale of data: marks of student"
   ]
  },
  {
   "cell_type": "code",
   "execution_count": null,
   "id": "500055e0-6828-4c13-97dc-2ebca306f80f",
   "metadata": {},
   "outputs": [],
   "source": [
    "Why is it important to understand the level of measurement when analyzing data? Provide an\n",
    "example to illustrate your answer.\n",
    "\n",
    "6.It is important to understand the level of measurement of variables in research, because the level of measurement determines the type of statistical analysis that can be conducted, and, therefore, the type of conclusions that can be drawn from the research.\n",
    "eg: if ration scale data we can find out ratio and get concution \n"
   ]
  },
  {
   "cell_type": "code",
   "execution_count": null,
   "id": "00b88c72-c2d8-4e81-9de4-088d240759f2",
   "metadata": {},
   "outputs": [],
   "source": [
    "Q7. How nominal data type is different from ordinal data type.\n",
    "7)\n",
    "nominal is main differt from ordinary is that about rank of data "
   ]
  },
  {
   "cell_type": "code",
   "execution_count": null,
   "id": "005f3362-77cf-4801-9ec2-1301dd0163ff",
   "metadata": {},
   "outputs": [],
   "source": [
    "Which type of plot can be used to display data in terms of range?\n",
    "8)\n",
    "area plot"
   ]
  },
  {
   "cell_type": "code",
   "execution_count": null,
   "id": "f3d2bcae-6a33-4200-9925-0bd86a21ebfb",
   "metadata": {},
   "outputs": [],
   "source": [
    "Describe the difference between descriptive and inferential statistics. Give an example of each\n",
    "type of statistics and explain how they are used."
   ]
  },
  {
   "cell_type": "code",
   "execution_count": null,
   "id": "a3987e44-2e33-417d-932e-92b703fe15e6",
   "metadata": {},
   "outputs": [],
   "source": [
    "9)\n",
    "*discriptive statistics \n",
    "it contain organizing and summarizing the data \n",
    "eg : age of studnet in a perticular city \n",
    "\n",
    "*inferrative statistics \n",
    "it analyzing data and find out the concusation from data\n",
    "eg:marks of student\n",
    "if we cheak marks of few randoum studnet data we can find out the performance of whole college\n",
    "\n"
   ]
  },
  {
   "cell_type": "code",
   "execution_count": null,
   "id": "8d2e1d25-a0a0-443c-ad23-05fdf8773e4b",
   "metadata": {},
   "outputs": [],
   "source": [
    "What are some common measures of central tendency and variability used in statistics? Explain\n",
    "how each measure can be used to describe a dataset."
   ]
  },
  {
   "cell_type": "code",
   "execution_count": null,
   "id": "23b4cc43-c26a-4d5c-a94f-ef158deb2baa",
   "metadata": {},
   "outputs": [],
   "source": [
    "\n",
    "10)mean , median , mode is  central tendency\n",
    "Variance, Standard Deviation are variability\n",
    "central tendecy is used to summarize as avg, most repetative , common items\n",
    "variability is used to get deva"
   ]
  }
 ],
 "metadata": {
  "kernelspec": {
   "display_name": "Python 3 (ipykernel)",
   "language": "python",
   "name": "python3"
  },
  "language_info": {
   "codemirror_mode": {
    "name": "ipython",
    "version": 3
   },
   "file_extension": ".py",
   "mimetype": "text/x-python",
   "name": "python",
   "nbconvert_exporter": "python",
   "pygments_lexer": "ipython3",
   "version": "3.10.8"
  }
 },
 "nbformat": 4,
 "nbformat_minor": 5
}
