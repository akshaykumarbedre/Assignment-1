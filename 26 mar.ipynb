{
 "cells": [
  {
   "cell_type": "markdown",
   "metadata": {},
   "source": [
    "1.\n",
    "linear regression is a optimual strigth line such as that it has low error of original data & the strightline\n",
    "it is single independent on feature \n",
    "ex:heigth -> wigth (by BMI)\n",
    "multiple linear regression: multiple linear regression which has more then 2 independent features on dependent features\n",
    "ex: price of house\n"
   ]
  },
  {
   "cell_type": "markdown",
   "metadata": {},
   "source": [
    "2.\n",
    "the data will fall under the strigth line, \n",
    "by cheaking sum of errors original data & line "
   ]
  },
  {
   "cell_type": "markdown",
   "metadata": {},
   "source": [
    "3.\n",
    "we are using tying different value that has min value of cost function \n",
    "the values at which cost fun has min , that is slaop& iterset of a linear regression model"
   ]
  },
  {
   "cell_type": "markdown",
   "metadata": {},
   "source": [
    "4.gradient descent is curve which is value of cost fun by sloap of linear regression, by this gradient descent we try to find out value of sloap & intersect.\n",
    "machine learning: we use convergence algorithm to find optimal value"
   ]
  },
  {
   "cell_type": "markdown",
   "metadata": {},
   "source": [
    "5.\n",
    "multiple linear regression model is similer to linear regression nut here we are using more two feature that create new equations: that is b(i)=b(0)+b(1)*x1 + b(2)*x2 +b(3)*x3+......b(n)*xn\n",
    "but in linear regression we have only b(i)=b(0)+b(1)*x1\n"
   ]
  },
  {
   "cell_type": "markdown",
   "metadata": {},
   "source": [
    "6.Multicollinearity is a phenomenon in which two or more independent variables in a multiple regression model are highly correlated with each other. This correlation is a problem because independent variables should be independent. If the degree of correlation between variables is high enough, it can cause problems when you fit the model and interpret the results \n",
    "here are several ways to detect multicollinearity in multiple linear regression. One of them is to look at the correlation matrix of the independent variables. If there are high correlations between some independent variables, then there may be multicollinearity3\n"
   ]
  },
  {
   "cell_type": "markdown",
   "metadata": {},
   "source": [
    "7.\n",
    "polynomial regression model in which the line become curve so that we add extra variable to eqn  \n",
    "that is  b(i)=b(0)+b(1)*x1^1 + b(2)*x1^2 +b(3)*x1^3+......b(n)*x1^n\n",
    "the aboue eqn is  polynomial regression with n degree \n",
    "if n=1; it become linear regression\n"
   ]
  },
  {
   "cell_type": "markdown",
   "metadata": {},
   "source": [
    "8.\n",
    "adv: it cost function is minimized\n",
    "    it provide curve function, that increase accuracy\n",
    "\n",
    "dis: when we increase high number of degree , that cost fun is min, but is overfit condition\n",
    "    it revoid high expenace of running cost\n",
    " when ever that relatioship in upto the power of 5, we perfer to use , not more then that"
   ]
  }
 ],
 "metadata": {
  "language_info": {
   "name": "python"
  },
  "orig_nbformat": 4
 },
 "nbformat": 4,
 "nbformat_minor": 2
}
