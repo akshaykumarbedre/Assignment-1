{
 "cells": [
  {
   "cell_type": "code",
   "execution_count": null,
   "metadata": {},
   "outputs": [],
   "source": [
    "1.\n",
    "Boosting is Ensemble Techniques in which Desction tree were train connect serically the data which has error , that data will be passed to nest DT"
   ]
  },
  {
   "cell_type": "code",
   "execution_count": null,
   "metadata": {},
   "outputs": [],
   "source": [
    "2.\n",
    "adv: weak learner connet together form storge model ,it help to prevent outlier\n",
    "dis:it is sensitive to outliers "
   ]
  },
  {
   "cell_type": "code",
   "execution_count": null,
   "metadata": {},
   "outputs": [],
   "source": [
    "3.booting.\n",
    "in this technique, the model will conbine in serical way, the final model will mode predit by sum of product of weigth with model prediction\n"
   ]
  },
  {
   "cell_type": "code",
   "execution_count": null,
   "metadata": {},
   "outputs": [],
   "source": [
    "4.\n",
    "adaboost\n",
    "gradent boost\n",
    "xl book"
   ]
  },
  {
   "cell_type": "code",
   "execution_count": null,
   "metadata": {},
   "outputs": [],
   "source": [
    "5.n_estimators,learning_rate,random_state.."
   ]
  },
  {
   "cell_type": "code",
   "execution_count": null,
   "metadata": {},
   "outputs": [],
   "source": [
    "6.\n",
    "the weak learn combine serically , the datapoint which is incorrerty predicted will passed to next model with own performance scole. at final a new datapoint is arrise then it is produt of alpha & model predect . by combining the strong learn will created"
   ]
  },
  {
   "cell_type": "code",
   "execution_count": null,
   "metadata": {},
   "outputs": [],
   "source": [
    "7.\n",
    "*create a stuff decision tree\n",
    "assgine equal weigth for every datapoint\n",
    "calacuate total Error & performance using weigth ,here(the data point which is correctly prediect will have low modified weigth , the model which is uncorrrtly predict willl weigth will we increase )\n",
    "by this uncooreted datapoint will more to next model \n",
    "by createing group , that high weigth will has high probality of selecting\n",
    "at finial when a new datapoint arrive , by multiple with performance or alpha , which has high value will be selected\n"
   ]
  },
  {
   "cell_type": "code",
   "execution_count": null,
   "metadata": {},
   "outputs": [],
   "source": [
    "8.loss funstion os weigth in adaboost is e^(-performcae to correctly prediect) and e^(performcae to incorrectly prediect)"
   ]
  },
  {
   "cell_type": "code",
   "execution_count": null,
   "metadata": {},
   "outputs": [],
   "source": [
    "9.\n",
    "by using exponical function,\n",
    "y=e^(-performcae to correctly prediect)\n",
    "y=e^(performcae to incorrectly prediect)\n",
    "to make to sum to one , we divide by total weigth of datapoint"
   ]
  },
  {
   "cell_type": "code",
   "execution_count": null,
   "metadata": {},
   "outputs": [],
   "source": [
    "10.\n",
    "more number of decistion tree will created , which effect in negeative value in performance."
   ]
  },
  {
   "cell_type": "code",
   "execution_count": null,
   "metadata": {},
   "outputs": [],
   "source": []
  }
 ],
 "metadata": {
  "language_info": {
   "name": "python"
  },
  "orig_nbformat": 4
 },
 "nbformat": 4,
 "nbformat_minor": 2
}
