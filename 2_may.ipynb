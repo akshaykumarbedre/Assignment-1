{
 "cells": [
  {
   "cell_type": "code",
   "execution_count": null,
   "metadata": {},
   "outputs": [],
   "source": [
    "1.\n",
    "anomaly detection is a process of finding outlier in datset\n",
    "to solve problem and analyis the data"
   ]
  },
  {
   "cell_type": "code",
   "execution_count": null,
   "metadata": {},
   "outputs": [],
   "source": [
    "2.\n",
    "key challenges:\n",
    "*problem to find outlier & usefull data\n",
    "*some usefull data consider as outlier\n"
   ]
  },
  {
   "cell_type": "code",
   "execution_count": null,
   "metadata": {},
   "outputs": [],
   "source": [
    "3.\n",
    "supervised ML:we use the we threadshold value of the model to idefier the outlier\n",
    "Supervised ML: we use use algorithm  to idefier the outlier"
   ]
  },
  {
   "cell_type": "code",
   "execution_count": null,
   "metadata": {},
   "outputs": [],
   "source": [
    "4.\n",
    "unsupervised\n",
    "semi-supervised\n",
    "supervised"
   ]
  },
  {
   "cell_type": "code",
   "execution_count": null,
   "metadata": {},
   "outputs": [],
   "source": [
    "5. we asume that distance-based anomaly detection methods, the point has low desnsity was high probablity that was outlier"
   ]
  },
  {
   "cell_type": "code",
   "execution_count": null,
   "metadata": {},
   "outputs": [],
   "source": [
    "6.\n",
    "anollty score=avg serach depth of x from isotlate tree/avg depth of all tree"
   ]
  },
  {
   "cell_type": "code",
   "execution_count": null,
   "metadata": {},
   "outputs": [],
   "source": [
    "7.n_estimators\n",
    "max_samples\n",
    "contamination "
   ]
  },
  {
   "cell_type": "code",
   "execution_count": null,
   "metadata": {},
   "outputs": [],
   "source": [
    "8.\n",
    "In the K-Nearest Neighbors (KNN) algorithm, the anomaly score of a data point is typically calculated based on the distance to its Kth nearest neighbor. In this case, you’ve specified that K=10.\n",
    "\n",
    "However, you’ve also mentioned that within a radius of 0.5, this data point only has 2 neighbors of the same class. This suggests that the remaining 8 neighbors (to make up the 10 for KNN) are either of a different class or are further than a radius of 0.5 away."
   ]
  },
  {
   "cell_type": "code",
   "execution_count": null,
   "metadata": {},
   "outputs": [],
   "source": [
    "9.he anomaly score s for a data point x in an Isolation Forest is calculated as:\n",
    "s(x,n)=2−c(n)E(h(x))​\n",
    "where:\n",
    "\n",
    "E(h(x)) is the average path length of x across all trees in the forest.\n",
    "c(n) is the average path length of unsuccessful search in a Binary Search Tree.\n",
    "n is the number of external nodes.\n",
    "\n",
    "Given that you have an average path length of 5.0 for your data point and a dataset of 3000 data points, we can calculate c(n) as follows:\n",
    "c(n)=2H(n−1)−n2(n−1)​\n",
    "where H(i) is the harmonic number and can be approximated by ln(i) + 0.5772156649 (Euler’s constant)."
   ]
  },
  {
   "cell_type": "code",
   "execution_count": null,
   "metadata": {},
   "outputs": [],
   "source": []
  }
 ],
 "metadata": {
  "language_info": {
   "name": "python"
  },
  "orig_nbformat": 4
 },
 "nbformat": 4,
 "nbformat_minor": 2
}
