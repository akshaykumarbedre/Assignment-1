{
 "cells": [
  {
   "cell_type": "code",
   "execution_count": 3,
   "id": "0a86c001-7603-45eb-8202-1f76487ac015",
   "metadata": {},
   "outputs": [],
   "source": [
    "# 1)\n",
    "list1 = [1,2,3,4, [44,55,66, True], False, (34,56,78,89,34), {1,2,3,3,2,1}, {1:34, \"key2\": [55, 67, 78, 89], 4: (45,\n",
    "22, 61, 34)}, [56, 'data science'], 'Machine Learning']"
   ]
  },
  {
   "cell_type": "code",
   "execution_count": 148,
   "id": "456eb495-73d0-4475-9f2d-923bfd52d5b9",
   "metadata": {},
   "outputs": [],
   "source": [
    "def prod(*n):\n",
    "    len(n)\n",
    "    p=1\n",
    "    for i in n:\n",
    "        for j in i:\n",
    "            print(type(j))\n",
    "            if(type(j)==int):\n",
    "                p=p*j\n",
    "                print(j)\n",
    "            if(type(j)==list or type(j)==set or type(j)==tuple):\n",
    "                for k in j:\n",
    "                    if type(k)==int:\n",
    "                        p=p*k\n",
    "            if(type(j)==dict):\n",
    "                p*=dic(j)      \n",
    "    print(p)\n",
    "    \n",
    "def dic(*d):\n",
    "    prod=1\n",
    "    for dic in d:\n",
    "        for i in dic.keys():\n",
    "            if(type(i)==int):\n",
    "                prod*=i\n",
    "        for j in dic.values():\n",
    "            if(type(j)==int):\n",
    "                prod*=j\n",
    "            if(type(j)==list or type(j)==tuple):\n",
    "                for k in j:\n",
    "                    prod*=k\n",
    "                    \n",
    "    return prod\n",
    "    "
   ]
  },
  {
   "cell_type": "code",
   "execution_count": 150,
   "id": "801cfae0-91be-45a0-8159-8d1a20977d57",
   "metadata": {},
   "outputs": [
    {
     "data": {
      "text/plain": [
       "7143399787867200"
      ]
     },
     "execution_count": 150,
     "metadata": {},
     "output_type": "execute_result"
    }
   ],
   "source": [
    "dic(d)"
   ]
  },
  {
   "cell_type": "code",
   "execution_count": 178,
   "id": "fa9ee678-160a-4eb7-b9a1-340026d34982",
   "metadata": {},
   "outputs": [
    {
     "name": "stdout",
     "output_type": "stream",
     "text": [
      "I$wznt$to$yexome$z$Dztz$Sxientist\n"
     ]
    }
   ],
   "source": [
    "mas='I want to become a Data Scientist'\n",
    "dis={' ':'$','a':'z','b':'y','c':'x'}\n",
    "for i in dis.keys():\n",
    "    a=a.replace(i,dis[i])\n",
    "print(a)"
   ]
  }
 ],
 "metadata": {
  "kernelspec": {
   "display_name": "Python 3 (ipykernel)",
   "language": "python",
   "name": "python3"
  },
  "language_info": {
   "codemirror_mode": {
    "name": "ipython",
    "version": 3
   },
   "file_extension": ".py",
   "mimetype": "text/x-python",
   "name": "python",
   "nbconvert_exporter": "python",
   "pygments_lexer": "ipython3",
   "version": "3.10.8"
  }
 },
 "nbformat": 4,
 "nbformat_minor": 5
}
