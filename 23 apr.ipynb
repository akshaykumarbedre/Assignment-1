{
 "cells": [
  {
   "cell_type": "code",
   "execution_count": null,
   "metadata": {},
   "outputs": [],
   "source": [
    "1.curse of dimesnsility case, whenever higher no. of dimistion the performace will be decreise\n",
    "it is important beause this decrese performace in ml"
   ]
  },
  {
   "cell_type": "code",
   "execution_count": null,
   "metadata": {},
   "outputs": [],
   "source": [
    "2.it decrese performace in ml, it not optimal performace"
   ]
  },
  {
   "cell_type": "code",
   "execution_count": null,
   "metadata": {},
   "outputs": [],
   "source": [
    "3.\n",
    "it requires high coputer resource\n",
    "it decrese performace in ml\n",
    "it impact on performance model when dimestion is low or too high \n"
   ]
  },
  {
   "cell_type": "code",
   "execution_count": null,
   "metadata": {},
   "outputs": [],
   "source": [
    "4.in feature selection , we are selecting feature which are less correalted, and also we are completly negleting less corr feature, \n",
    "after feature selection, we get less number of dimestion, by this way we acn prevent dimensionality reduction"
   ]
  },
  {
   "cell_type": "code",
   "execution_count": null,
   "metadata": {},
   "outputs": [],
   "source": [
    "5. it is high reactive to outlier\n",
    "we need to perform standscaler\n"
   ]
  },
  {
   "cell_type": "code",
   "execution_count": null,
   "metadata": {},
   "outputs": [],
   "source": [
    "6. \n",
    "Overfitting occurs when a model is too complex and fits the training data too well, but performs poorly on new data\n",
    "Underfitting occurs when a model is too simple and does not fit the training data well enough to make accurate predictions on new data1."
   ]
  },
  {
   "cell_type": "code",
   "execution_count": null,
   "metadata": {},
   "outputs": [],
   "source": [
    "7.\n",
    "optimal number of dimenstion, which are high corrlated with depanded feature and it much be minimized number of dimenstion and also it depenad of dataset"
   ]
  }
 ],
 "metadata": {
  "language_info": {
   "name": "python"
  },
  "orig_nbformat": 4
 },
 "nbformat": 4,
 "nbformat_minor": 2
}
