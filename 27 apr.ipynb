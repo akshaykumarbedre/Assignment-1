{
 "cells": [
  {
   "cell_type": "code",
   "execution_count": null,
   "metadata": {},
   "outputs": [],
   "source": [
    "1.\n",
    "* k mean clustering: using calcuating k mean it work\n",
    "* hieraircal clustering: grouping point by hieraircal\n",
    "* dbscan clusterring: it work based on desity\n"
   ]
  },
  {
   "cell_type": "code",
   "execution_count": null,
   "metadata": {},
   "outputs": [],
   "source": [
    "2.\n",
    "K-means clustering it group the similar kindof element by mean and moving cendrode\n",
    "it intitate the k value,\n",
    "the it group nearest  of  k centrode pointes\n",
    "and calcutating the mean & a it move point the toward mean\n",
    "after that we get classfied the data\n"
   ]
  },
  {
   "cell_type": "code",
   "execution_count": null,
   "metadata": {},
   "outputs": [],
   "source": [
    "3.\n",
    "adv:\n",
    "it it best large data size,\n",
    "k++ is avaible to fix error\n",
    "dis:\n",
    "not better performcnce then hieraircal clustering\n"
   ]
  },
  {
   "cell_type": "code",
   "execution_count": null,
   "metadata": {},
   "outputs": [],
   "source": [
    "4.\n",
    "to find the optimal k number,\n",
    "we intitate k value to 1, calcaute the distace distance bw each point,\n",
    "we get albow graphs, the albow point at which has min value from left side is optiaml k value for k mean\n"
   ]
  },
  {
   "cell_type": "code",
   "execution_count": null,
   "metadata": {},
   "outputs": [],
   "source": [
    "5.\n",
    "to apply the some technique on similar charater data point, which help to getter reult any of secter\n",
    "document clustering, identifying crime-prone areas, customer segmentation, insurance fraud detection, public transport data analysis,\n"
   ]
  },
  {
   "cell_type": "code",
   "execution_count": null,
   "metadata": {},
   "outputs": [],
   "source": [
    "6.based the charater of similar datapoints, we analysis the what is need & wants the specific data pointes\n",
    "ex: If these are not met, our survival could be at stake. For example, food, water, and shelter are basic needs. In a business context, needs analysis is a structured, systemic process of evaluating employees or teams regarding their skills training. It refers to an individual or group’s training and upskilling requirements to reach their peak performance.\n"
   ]
  },
  {
   "cell_type": "code",
   "execution_count": null,
   "metadata": {},
   "outputs": [],
   "source": [
    "7.\n",
    "Clustering data of varying sizes and density: K-means can struggle with data where clusters are of varying sizes and density1. To address this, you can generalize k-means as described in the Advantages section1.\n",
    "\n",
    "Handling outliers: Centroids can be influenced by outliers, or outliers might get their own cluster instead of being ignored1. Consider removing or clipping outliers before clustering\n",
    "\n",
    "Choosing the number of clusters(k) manually: The optimal number of clusters is not always apparent, and choosing it manually can be difficult1. This can be addressed by using the “Loss vs. Clusters” plot to find the optimal k1.\n",
    "\n",
    "Dependence on initial values: The final result can vary based on the initial values of the centroids1. To mitigate this, you can run k-means several times with different initial values and pick the best result1. For a larger k, you might need advanced versions of k-means to pick better initial centroid values1.\n"
   ]
  },
  {
   "cell_type": "code",
   "execution_count": null,
   "metadata": {},
   "outputs": [],
   "source": []
  },
  {
   "cell_type": "code",
   "execution_count": null,
   "metadata": {},
   "outputs": [],
   "source": []
  }
 ],
 "metadata": {
  "kernelspec": {
   "display_name": "Python 3",
   "language": "python",
   "name": "python3"
  },
  "language_info": {
   "codemirror_mode": {
    "name": "ipython",
    "version": 3
   },
   "file_extension": ".py",
   "mimetype": "text/x-python",
   "name": "python",
   "nbconvert_exporter": "python",
   "pygments_lexer": "ipython3",
   "version": "3.10.0"
  },
  "orig_nbformat": 4
 },
 "nbformat": 4,
 "nbformat_minor": 2
}
