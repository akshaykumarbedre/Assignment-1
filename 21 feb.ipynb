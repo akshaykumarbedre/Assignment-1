{
 "cells": [
  {
   "cell_type": "code",
   "execution_count": null,
   "id": "9c81c653-c10e-4dad-900f-4bd79cc4d7a3",
   "metadata": {},
   "outputs": [],
   "source": [
    "What is Web Scraping? Why is it Used? Give three areas where Web Scraping is used to get data."
   ]
  },
  {
   "cell_type": "code",
   "execution_count": null,
   "id": "c5e68a83-4194-4571-b955-0dbcf86007bc",
   "metadata": {},
   "outputs": [],
   "source": [
    "the process of using bots to extract content and data from a website\n",
    "it is used to extact data from website\n",
    "shopping review data, a website data about particuale think, youtube data about playlist, amd many more\n"
   ]
  },
  {
   "cell_type": "code",
   "execution_count": null,
   "id": "88a254e7-bc0f-4bd0-ae68-f8d44b52956c",
   "metadata": {},
   "outputs": [],
   "source": [
    "What are the different methods used for Web Scraping?"
   ]
  },
  {
   "cell_type": "code",
   "execution_count": null,
   "id": "911910d8-5845-44c4-ac24-1fb661f84476",
   "metadata": {},
   "outputs": [],
   "source": [
    "HTML Parsing\n",
    "DOM Parsing\n",
    "XPath\n",
    "Google Sheets"
   ]
  },
  {
   "cell_type": "code",
   "execution_count": null,
   "id": "06b186b8-6a8e-4f20-a017-ce2665a9915d",
   "metadata": {},
   "outputs": [],
   "source": [
    "What is Beautiful Soup? Why is it used?\n",
    "Beautiful Soup Python package for parsing HTML and XML documents\n",
    "it is used for parsing HTML and XML documents"
   ]
  },
  {
   "cell_type": "code",
   "execution_count": null,
   "id": "9f67e5a6-cbf2-4724-af67-1b4bb4d5961a",
   "metadata": {},
   "outputs": [],
   "source": [
    "Why is flask used in this Web Scraping project?\n",
    "to create clint side user interface "
   ]
  },
  {
   "cell_type": "code",
   "execution_count": null,
   "id": "a6a709d4-f353-41ab-bd35-e71b11da55f3",
   "metadata": {},
   "outputs": [],
   "source": [
    "Write the names of AWS services used in this project. Also, explain the use of each service."
   ]
  },
  {
   "cell_type": "code",
   "execution_count": null,
   "id": "8d2ff567-b4ab-4fa0-8149-0cd0d77f7264",
   "metadata": {},
   "outputs": [],
   "source": [
    "AWS Beanstalk\n",
    "Developers have to deal with enough headaches as it is. AWS Beanstalk was created to help developers manage website infrastructure. It’s difficult for developers to switch from development to maintenance at the drop of a hat. Yet, AWS Beanstalk offers autoscaling to ensure automatic updates of new software. And, this service runs automatically.\n",
    "Amazon CloudFront\n",
    "This service helps to improve website speed and access to cloud-based data. CloudFront works as a Global Content Delivery Service (CDN) to deliver content efficiently to end users.\n",
    ". Amazon RDS (Relational Database Services)\n",
    "Amazon Relational Database Service (Amazon RDS) makes database configuration, management, and scaling easy in the cloud. Automate tedious tasks such as hardware provisioning, database arrangement, patching, and backups – cost-effectively and proportionate to your needs.\n",
    "\n",
    "RDS is available on various database instances which are optimized for performance and memory, providing six familiar database engines including Amazon Aurora, PostgreSQL, MySQL, MariaDB, Oracle. database, and SQL server. \n",
    "Amazon SNS (Simple Notification Service)\n",
    "Amazon SNS is a fully managed messaging solution that provides low-cost infrastructure for bulk message delivery, primarily to mobile users. Users can chat directly with customers through system-to-system or app-to-person communication between decoupled microservice apps.\n",
    "Amazon Lightsail\n",
    "Amazon Lightsail is an easy on-ramp for users who are getting started with AWS and just need virtual private servers. Lightsail has the tools required for a speedy product launch at a low and predictable price."
   ]
  }
 ],
 "metadata": {
  "kernelspec": {
   "display_name": "Python 3 (ipykernel)",
   "language": "python",
   "name": "python3"
  },
  "language_info": {
   "codemirror_mode": {
    "name": "ipython",
    "version": 3
   },
   "file_extension": ".py",
   "mimetype": "text/x-python",
   "name": "python",
   "nbconvert_exporter": "python",
   "pygments_lexer": "ipython3",
   "version": "3.10.8"
  }
 },
 "nbformat": 4,
 "nbformat_minor": 5
}
