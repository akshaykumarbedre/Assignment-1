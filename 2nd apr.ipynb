{
 "cells": [
  {
   "cell_type": "markdown",
   "metadata": {},
   "source": [
    "1. grid serch cv is used to  find optiamal value of hyperparamter.\n",
    "by selected set of value of hyperparamter in which calcaute all combinations of values and calacucate accracy which has high accuracy "
   ]
  },
  {
   "cell_type": "markdown",
   "metadata": {},
   "source": [
    "2. grid cv is calcaured by all combination of hyperparameters\n",
    "randomize search cv is select randome conbination with certain number of iterations\n",
    "when we have large number of hyperparameters , we prefer to used randomize search cv, else grid serach cv\n"
   ]
  },
  {
   "cell_type": "markdown",
   "metadata": {},
   "source": [
    "3. data leakage is leakage of data from test data to train data it problem beacuse we cannot able get proper performance of model"
   ]
  },
  {
   "cell_type": "markdown",
   "metadata": {},
   "source": [
    "4. we need make division test & train data sets which prevent data leakage when building a machine learning model"
   ]
  },
  {
   "cell_type": "markdown",
   "metadata": {},
   "source": [
    "5. confusion is 2d matrx which used fot calacaute accuracy of model of categorical models\n",
    "it help to calculate  TP, TN , FP, FN. which tells that performace of model of categorical models"
   ]
  },
  {
   "cell_type": "markdown",
   "metadata": {},
   "source": [
    "6. precision :  formula TP/(TP+FP)\n",
    "    we use when FP is more important \n",
    "    ex:span email \n",
    "recall:formula TP/(TP+FN)\n",
    "    we use when Fn is more important\n",
    "    ex:canser ditection"
   ]
  },
  {
   "cell_type": "markdown",
   "metadata": {},
   "source": [
    "7. A confusion matrix is a table that is used to evaluate the performance of a machine learning model. It shows the number of correct and incorrect predictions made by the classification model compared to the actual outcomes (target value) in the data. The matrix is used to determine which types of errors your model is making, such as false positives, false negatives, true positives, and true negatives. "
   ]
  },
  {
   "cell_type": "markdown",
   "metadata": {},
   "source": [
    "8.we can calculate Recall, precision, Beta scole\n",
    "precision :  formula TP/(TP+FP)\n",
    "recall:formula TP/(TP+FN)\n",
    "Beta score: beta+ (recall*precision/recall+precision)\n",
    "\n"
   ]
  },
  {
   "cell_type": "markdown",
   "metadata": {},
   "source": [
    "9.  Accuracy = (TP + TN) / (TP + TN + FP + FN)\n",
    "where TP is True Positive, TN is True Negative, FP is False Positive, and FN is False Negative."
   ]
  },
  {
   "cell_type": "markdown",
   "metadata": {},
   "source": [
    "10.if your model is biased towards a particular class, the confusion matrix will show that the model is making more errors in predicting that class. This can help you identify the cause of the bias and take corrective measures such as collecting more data for that class or using a different algorithm1"
   ]
  }
 ],
 "metadata": {
  "language_info": {
   "name": "python"
  },
  "orig_nbformat": 4
 },
 "nbformat": 4,
 "nbformat_minor": 2
}
