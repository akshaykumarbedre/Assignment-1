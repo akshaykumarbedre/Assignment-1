{
 "cells": [
  {
   "cell_type": "code",
   "execution_count": null,
   "metadata": {},
   "outputs": [],
   "source": [
    "1.projection of vecter is cross product of two vecters\n",
    "it used to calcaute the distnace of the point PCline to the point of projection"
   ]
  },
  {
   "cell_type": "code",
   "execution_count": null,
   "metadata": {},
   "outputs": [],
   "source": [
    "2.optimization problem is downby by applying the linear trasformation and finding the Eger vecter and eger values,\n",
    "we can achieve by getting same direction of pc vecter after applying the linear trasformation"
   ]
  },
  {
   "cell_type": "code",
   "execution_count": null,
   "metadata": {},
   "outputs": [],
   "source": [
    "3.\n",
    "covariance matrices is matrices of covarinace combinaion of all point for a row in dataset\n",
    "in PCA , we use covarinace matrix to find eger vecter and value by applying linaer tranformation"
   ]
  },
  {
   "cell_type": "code",
   "execution_count": null,
   "metadata": {},
   "outputs": [],
   "source": [
    "4.whenever we choose the lower number of principal components, we loss more spread, variance \n",
    "when we choose higher number of principal components, we get loss less spread, variance"
   ]
  },
  {
   "cell_type": "code",
   "execution_count": null,
   "metadata": {},
   "outputs": [],
   "source": [
    "5.\n",
    "PCA is play important role in feature selection, it take the componet which is highly correlated\n",
    "it is used fot feature extraction, \n",
    "it fix the probelm of curse of dimensation"
   ]
  },
  {
   "cell_type": "code",
   "execution_count": null,
   "metadata": {},
   "outputs": [],
   "source": [
    "6.\n",
    "common applicaiton are data visualization,feature extraction,Anomaly detection"
   ]
  },
  {
   "cell_type": "code",
   "execution_count": null,
   "metadata": {},
   "outputs": [],
   "source": [
    "7.\n",
    "spread is range of data \n",
    "variances is a how data is devated from mean"
   ]
  },
  {
   "cell_type": "code",
   "execution_count": null,
   "metadata": {},
   "outputs": [],
   "source": [
    "8.\n",
    "pc1,pc2,pc3,pc4,pc5,pc6,pc7....\n",
    "1st pc1 cover more high spread and variance, nest pc vecter cover lower spread and variance , nest pc vecter cover very low spread and variance"
   ]
  },
  {
   "cell_type": "code",
   "execution_count": null,
   "metadata": {},
   "outputs": [],
   "source": [
    "9.high varianve data is handle in pc1 and pc2 , while low variance of data is handle higher number of principal compoents"
   ]
  },
  {
   "cell_type": "code",
   "execution_count": null,
   "metadata": {},
   "outputs": [],
   "source": []
  }
 ],
 "metadata": {
  "language_info": {
   "name": "python"
  },
  "orig_nbformat": 4
 },
 "nbformat": 4,
 "nbformat_minor": 2
}
