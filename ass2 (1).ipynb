{
 "cells": [
  {
   "cell_type": "code",
   "execution_count": null,
   "id": "c7bb03ce-e8f2-4e8f-bb66-190631a4cefb",
   "metadata": {},
   "outputs": [],
   "source": [
    "# I. Which keyword is used to create a function? Create a function to return a list of odd numbers in the range of I to 25."
   ]
  },
  {
   "cell_type": "code",
   "execution_count": null,
   "id": "a1d63f6a-8cd8-4f3f-9fc1-8fddc4ad2621",
   "metadata": {},
   "outputs": [],
   "source": []
  },
  {
   "cell_type": "code",
   "execution_count": null,
   "id": "3252d1e0-2a08-4373-bc1c-a4b08e971cca",
   "metadata": {},
   "outputs": [],
   "source": []
  },
  {
   "cell_type": "code",
   "execution_count": 3,
   "id": "4fb7493e-7205-471a-a8ca-7d6ad094dde1",
   "metadata": {},
   "outputs": [],
   "source": [
    "# def is used to create funstion\n",
    "def odd():\n",
    "    li=[]\n",
    "    for i in range(1,26,2):\n",
    "        li.append(i)\n",
    "    return li"
   ]
  },
  {
   "cell_type": "code",
   "execution_count": 4,
   "id": "57be208c-8cb9-408a-824a-319cfab1ee16",
   "metadata": {},
   "outputs": [
    {
     "data": {
      "text/plain": [
       "[1, 3, 5, 7, 9, 11, 13, 15, 17, 19, 21, 23, 25]"
      ]
     },
     "execution_count": 4,
     "metadata": {},
     "output_type": "execute_result"
    }
   ],
   "source": [
    "odd()"
   ]
  },
  {
   "cell_type": "code",
   "execution_count": null,
   "id": "287f7d63-69e0-4017-b103-3a5f92f47008",
   "metadata": {},
   "outputs": [],
   "source": [
    "# Q2. Why *args and **kwargs is used in some functions? Create a function each for *args and **kwargs to demonstrate their use."
   ]
  },
  {
   "cell_type": "code",
   "execution_count": 39,
   "id": "23fd4580-c9ff-4a8c-95b6-4315c46527cc",
   "metadata": {},
   "outputs": [],
   "source": [
    "# *args used as parameter in a function as a tuple /\n",
    "# **args used as parameter in a function as dict\n",
    "def demo(*l):\n",
    "    for i in l:\n",
    "        print(i)\n"
   ]
  },
  {
   "cell_type": "code",
   "execution_count": 56,
   "id": "b6f6f88d-437b-4b96-8605-8efe82a14657",
   "metadata": {},
   "outputs": [],
   "source": [
    "def demodic(**a):\n",
    "    print(a)\n",
    "    print(type(a))"
   ]
  },
  {
   "cell_type": "code",
   "execution_count": 70,
   "id": "d1eb3b6a-e0cf-4345-b536-41ae41cd2b1c",
   "metadata": {},
   "outputs": [
    {
     "name": "stdout",
     "output_type": "stream",
     "text": [
      "1\n",
      "2\n",
      "3\n",
      "4\n",
      "5\n"
     ]
    }
   ],
   "source": [
    "demo(1,2,3,4,5)"
   ]
  },
  {
   "cell_type": "code",
   "execution_count": 71,
   "id": "d00d0c3b-9991-4a74-b838-8e932df3fc11",
   "metadata": {},
   "outputs": [
    {
     "name": "stdout",
     "output_type": "stream",
     "text": [
      "{'akshay': 45}\n",
      "<class 'dict'>\n"
     ]
    }
   ],
   "source": [
    "demodic(akshay=45)"
   ]
  },
  {
   "cell_type": "code",
   "execution_count": null,
   "id": "2cf50694-eaf2-4bab-9960-7623b9f204f2",
   "metadata": {},
   "outputs": [],
   "source": [
    "# Q3. What is an iterator in python? Name the method used to initialise the iterator object and the method \n",
    "# used for iteration. Use these methods to print the first five elements of the given list [2, 4, 6, 8, 10, 12, 14,\n",
    "# 16, 18, 20]."
   ]
  },
  {
   "cell_type": "code",
   "execution_count": 78,
   "id": "be889b38-4f65-4cdd-becd-21a9a89d8dc7",
   "metadata": {},
   "outputs": [
    {
     "name": "stdout",
     "output_type": "stream",
     "text": [
      "2\n",
      "4\n",
      "6\n",
      "8\n",
      "10\n"
     ]
    }
   ],
   "source": [
    "# iterator is class in python which is used in backend for loop\n",
    "# iter() method initialise\n",
    "# next() get upcomeing element in iterater\n",
    "a=iter([2, 4, 6, 8, 10, 12, 14, 16, 18, 20])\n",
    "for i in range(0,5):\n",
    "    print(next(a))"
   ]
  },
  {
   "cell_type": "code",
   "execution_count": null,
   "id": "89c283ac-da2b-4096-9332-366bdeebe10b",
   "metadata": {},
   "outputs": [],
   "source": [
    "# Q4. What is a generator function in python? Why yield keyword is used? Give an example of a generator function."
   ]
  },
  {
   "cell_type": "code",
   "execution_count": 81,
   "id": "ddc542eb-32e7-4cae-a0d6-6c07dac5a38d",
   "metadata": {},
   "outputs": [],
   "source": [
    "# it is funstion in pyhton which is used to yield data while in funtion\n",
    "# it is used effectinet memory manegement\n",
    "def gen(n):\n",
    "    for i in range(n):\n",
    "        yield(i)"
   ]
  },
  {
   "cell_type": "code",
   "execution_count": 82,
   "id": "b843d946-e0a7-4da8-88e3-5f3cbb59cce1",
   "metadata": {},
   "outputs": [
    {
     "data": {
      "text/plain": [
       "<generator object gen at 0x7fddb575ba00>"
      ]
     },
     "execution_count": 82,
     "metadata": {},
     "output_type": "execute_result"
    }
   ],
   "source": [
    "# Q5. Create a generator function for prime numbers less than 1000. Use the next() method to print the\n",
    "# first 20 prime numbers."
   ]
  },
  {
   "cell_type": "code",
   "execution_count": 16,
   "id": "4995ae79-dc67-4082-bac7-9be835830aa4",
   "metadata": {},
   "outputs": [
    {
     "name": "stdout",
     "output_type": "stream",
     "text": [
      "2\n",
      "3\n",
      "5\n",
      "7\n",
      "11\n",
      "13\n",
      "17\n",
      "19\n",
      "23\n",
      "29\n",
      "31\n",
      "37\n",
      "41\n",
      "43\n",
      "47\n",
      "53\n",
      "59\n",
      "61\n",
      "67\n",
      "71\n"
     ]
    }
   ],
   "source": [
    "def prime():\n",
    "    for n in range(2,1000):\n",
    "        for i in range(2,n):\n",
    "            if(n%i==0):\n",
    "                break\n",
    "        else:\n",
    "            yield(n)\n",
    "c=prime()\n",
    "for i in range(0,20):\n",
    "    print(next(c))"
   ]
  },
  {
   "cell_type": "code",
   "execution_count": 19,
   "id": "96f7dc97-f538-4844-bd56-16a29ebc27e2",
   "metadata": {},
   "outputs": [
    {
     "name": "stdout",
     "output_type": "stream",
     "text": [
      "0\n",
      "1\n",
      "1\n",
      "2\n",
      "3\n",
      "5\n",
      "8\n",
      "13\n",
      "21\n",
      "34\n",
      "55\n"
     ]
    }
   ],
   "source": [
    "# Write a python program to print the first 10 Fibonacci numbers using a while loop.\n",
    "a,b=0,1\n",
    "i=0\n",
    "while(i<=10):\n",
    "    print(a)\n",
    "    a,b=b,a+b\n",
    "    i+=1"
   ]
  },
  {
   "cell_type": "code",
   "execution_count": null,
   "id": "07fdf91a-613e-4e36-a8cd-c1464a65f065",
   "metadata": {},
   "outputs": [],
   "source": [
    "# Q7. Write a List Comprehension to iterate through the given string: 'pwskills'."
   ]
  },
  {
   "cell_type": "code",
   "execution_count": null,
   "id": "6af0d08a-48c2-4167-ba66-5b938ea417de",
   "metadata": {},
   "outputs": [],
   "source": [
    "s='pwskills'\n",
    "li=[]\n",
    "for i in s :\n",
    "    li.append(i)\n",
    "li"
   ]
  },
  {
   "cell_type": "code",
   "execution_count": 29,
   "id": "4b11ec93-ce9b-45f1-8d77-c4acc09a4e3f",
   "metadata": {},
   "outputs": [
    {
     "name": "stdout",
     "output_type": "stream",
     "text": [
      "True\n"
     ]
    }
   ],
   "source": [
    "# Q8. Write a python program to check whether a given number is Palindrome or not using a while loop.\n",
    "a=12321\n",
    "t=a\n",
    "rev=0\n",
    "while(a!=0):\n",
    "    ls=a%10\n",
    "    a=int(a/10)\n",
    "    rev=rev*10+ls\n",
    "if(rev==t):\n",
    "    print(True)\n",
    "else:\n",
    "    print(False)\n",
    "    "
   ]
  },
  {
   "cell_type": "code",
   "execution_count": null,
   "id": "c245b2fb-2dcd-494d-9bb4-f9c3ddc416f8",
   "metadata": {},
   "outputs": [],
   "source": [
    "# Write a code to print odd numbers from 1 to 100 using list comprehension.\n",
    "[for i in range]"
   ]
  }
 ],
 "metadata": {
  "kernelspec": {
   "display_name": "Python 3 (ipykernel)",
   "language": "python",
   "name": "python3"
  },
  "language_info": {
   "codemirror_mode": {
    "name": "ipython",
    "version": 3
   },
   "file_extension": ".py",
   "mimetype": "text/x-python",
   "name": "python",
   "nbconvert_exporter": "python",
   "pygments_lexer": "ipython3",
   "version": "3.10.8"
  }
 },
 "nbformat": 4,
 "nbformat_minor": 5
}
