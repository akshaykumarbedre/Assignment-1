{
 "cells": [
  {
   "cell_type": "code",
   "execution_count": null,
   "metadata": {},
   "outputs": [],
   "source": [
    "1.an ensemble technique is techique in which combination more then 2 model & train each of them saparatly & to get better results"
   ]
  },
  {
   "cell_type": "code",
   "execution_count": null,
   "metadata": {},
   "outputs": [],
   "source": [
    "2.\n",
    "it is used beause to get better performance using multiple models"
   ]
  },
  {
   "cell_type": "code",
   "execution_count": null,
   "metadata": {},
   "outputs": [],
   "source": [
    "3.bagging:Bagging, also known as Bootstrap aggregating, is an ensemble learning technique that helps to improve the performance and accuracy of machine learning algorithms."
   ]
  },
  {
   "cell_type": "code",
   "execution_count": null,
   "metadata": {},
   "outputs": [],
   "source": [
    "4.boosting:In this model, learners learn sequentially and adaptively to improve model predictions of a learning algorithm."
   ]
  },
  {
   "cell_type": "code",
   "execution_count": null,
   "metadata": {},
   "outputs": [],
   "source": [
    "5.\n",
    "to prevent from overfitting\n",
    "better performance\n",
    "better accuracy of model "
   ]
  },
  {
   "cell_type": "code",
   "execution_count": null,
   "metadata": {},
   "outputs": [],
   "source": [
    "6.\n",
    "NO beause,for simple dataset indiviual model is better "
   ]
  },
  {
   "cell_type": "code",
   "execution_count": null,
   "metadata": {},
   "outputs": [],
   "source": [
    "7. it calucate 95% of total len of dataset\n",
    "ex: dataset has 100 len , 5th & 9th is confidance interbvl "
   ]
  },
  {
   "cell_type": "code",
   "execution_count": null,
   "metadata": {},
   "outputs": [],
   "source": [
    "8.\n",
    "step involed in boostrap\n",
    "1.create a n number of base lerner\n",
    "2.row & column sample of data \n",
    "3.training saparatly\n",
    "4.when new data is given to model , we use voter technique for classification & mean for reggression"
   ]
  },
  {
   "cell_type": "code",
   "execution_count": null,
   "metadata": {},
   "outputs": [],
   "source": [
    "9.\n",
    "\n",
    "mean_sample=15\n",
    "n=50\n",
    "stddev=2\n",
    "15 ± 2.0096 * (2/sqrt(50)) = [14.23, 15.77]\n"
   ]
  }
 ],
 "metadata": {
  "language_info": {
   "name": "python"
  },
  "orig_nbformat": 4
 },
 "nbformat": 4,
 "nbformat_minor": 2
}
