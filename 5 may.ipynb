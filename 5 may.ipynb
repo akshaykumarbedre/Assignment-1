{
 "cells": [
  {
   "cell_type": "code",
   "execution_count": null,
   "metadata": {},
   "outputs": [],
   "source": [
    "1.time-dependent seasonal components:\n",
    "trend,\n",
    "cycle\n",
    "randumn\n",
    "seasonal"
   ]
  },
  {
   "cell_type": "code",
   "execution_count": null,
   "metadata": {},
   "outputs": [],
   "source": [
    "2.Statistical Model\n",
    "Visual Inspection\n",
    "\n",
    "Certain statistical models, like Seasonal Autoregressive Integrated Moving Average (SARIMA) models, are designed to incorporate seasonality2."
   ]
  },
  {
   "cell_type": "code",
   "execution_count": null,
   "metadata": {},
   "outputs": [],
   "source": [
    "3.\n",
    "events,\n",
    "news\n",
    "change in government schmen"
   ]
  },
  {
   "cell_type": "code",
   "execution_count": null,
   "metadata": {},
   "outputs": [],
   "source": [
    "4.\n",
    "we use autoregrater model using  regustion of time seriyse wuth lag value \n",
    "afte bulting model , we forecast the value using auto regeation model "
   ]
  },
  {
   "cell_type": "code",
   "execution_count": null,
   "metadata": {},
   "outputs": [],
   "source": [
    "5.\n",
    "we use autoregrater model using  regustion of time seriyse wuth lag value \n",
    "afte bulting model , we forecast the value using auto regeation model "
   ]
  },
  {
   "cell_type": "code",
   "execution_count": null,
   "metadata": {},
   "outputs": [],
   "source": [
    "6.\n",
    "The Moving Average (MA) model is a common approach for modeling univariate time series1. In this model, the output variable depends linearly on the current and various past values of a stochastic (imperfectly predictable) term2. Rather than using past values of the forecast variable in a regression, a moving average model uses past forecast errors in a regression-like model2.\n"
   ]
  },
  {
   "cell_type": "code",
   "execution_count": null,
   "metadata": {},
   "outputs": [],
   "source": [
    "7.\n",
    "The Autoregressive Moving Average (ARMA) model is a combination of the Autoregressive (AR) and Moving Average (MA) models1. It’s often referred to as a mixed model2.\n",
    "\n",
    "In an ARMA model, both past values of the variable and past forecast errors are used for prediction1. This is different from an AR model, which uses only past values of the variable for prediction, and an MA model, which uses only past forecast errors1"
   ]
  }
 ],
 "metadata": {
  "language_info": {
   "name": "python"
  },
  "orig_nbformat": 4
 },
 "nbformat": 4,
 "nbformat_minor": 2
}
