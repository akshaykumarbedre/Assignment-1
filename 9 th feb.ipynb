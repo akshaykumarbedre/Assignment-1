{
 "cells": [
  {
   "cell_type": "code",
   "execution_count": null,
   "id": "7fac384b-da7d-4946-9bb0-273f531b5a5c",
   "metadata": {},
   "outputs": [],
   "source": [
    "Q1, Create a vehicle class with an init method having instance variables as name_of_vehicle, max_speed\n",
    "and average_of_vehicle."
   ]
  },
  {
   "cell_type": "code",
   "execution_count": 1,
   "id": "6e490dfb-1dd6-4b2a-894d-f3d64ed6e30c",
   "metadata": {},
   "outputs": [],
   "source": [
    "class vehicle :\n",
    "    def __init__(self,name,max_speed,average_of_vehicle):\n",
    "        self.name=name\n",
    "        self.max_speed=max_speed\n",
    "        self.average_of_vehicle=average_of_vehicle"
   ]
  },
  {
   "cell_type": "code",
   "execution_count": 2,
   "id": "181d59a7-f12f-49ac-a169-d7b12098526d",
   "metadata": {},
   "outputs": [],
   "source": [
    "hero=vehicle(\"bike\",120,50)"
   ]
  },
  {
   "cell_type": "code",
   "execution_count": 9,
   "id": "f631fbf2-a12f-4553-9782-caa36a0c475c",
   "metadata": {},
   "outputs": [],
   "source": [
    "# Create a child class car from the vehicle class created in Que 1, which will inherit the vehicle class.\n",
    "# Create a method named seating_capacity which takes capacity as an argument and returns the name of\n",
    "# the vehicle and its seating capacity.\n",
    "class car(vehicle):\n",
    "    def seating_capacity(self,capacity):\n",
    "        self.capacity=capacity\n",
    "        return self.name, self.capacity"
   ]
  },
  {
   "cell_type": "code",
   "execution_count": 11,
   "id": "0c59b447-9362-4232-b368-919d109959f8",
   "metadata": {},
   "outputs": [
    {
     "data": {
      "text/plain": [
       "('j1', 4)"
      ]
     },
     "execution_count": 11,
     "metadata": {},
     "output_type": "execute_result"
    }
   ],
   "source": [
    "jagvar=car('j1',180,30)\n",
    "jagvar.seating_capacity(4)"
   ]
  },
  {
   "cell_type": "code",
   "execution_count": 28,
   "id": "5158f5c9-8704-405c-aae2-4bb85317d239",
   "metadata": {},
   "outputs": [
    {
     "name": "stdout",
     "output_type": "stream",
     "text": [
      "45\n",
      "56\n"
     ]
    }
   ],
   "source": [
    "# Q3. What is multiple inheritance? Write a python code to demonstrate multiple inheritance.\n",
    "# multiple inheritance is define inheritance property of multiple class to single class\n",
    "class c1:\n",
    "    a=45  \n",
    "class c2:\n",
    "    b=56\n",
    "class c3(c1,c2):\n",
    "       pass\n",
    "o=c3()\n",
    "print(o.a)\n",
    "print(o.b)\n"
   ]
  },
  {
   "cell_type": "code",
   "execution_count": null,
   "id": "b89bbeb4-1ce6-4175-a4da-2ee023d762ba",
   "metadata": {},
   "outputs": [],
   "source": [
    "# Q4. What are getter and setter in python? Create a class and create a getter and a setter method in this\n",
    "# class."
   ]
  },
  {
   "cell_type": "code",
   "execution_count": 32,
   "id": "58e4d213-70f3-48de-9223-c0433b576a02",
   "metadata": {},
   "outputs": [],
   "source": [
    "class school:\n",
    "    def __init__(self, name , no_of_studnet):\n",
    "        self.name=name\n",
    "        self.no_of_studnet=no_of_studnet\n",
    "    def getter(self):\n",
    "        return self.name, self.no_of_studnet\n",
    "    def setter(self,name, no):\n",
    "        self.name=name\n",
    "        self.no_of_studnet=no\n",
    "        "
   ]
  },
  {
   "cell_type": "code",
   "execution_count": 34,
   "id": "cca63955-4b66-4b17-af0b-10c67fa410e6",
   "metadata": {},
   "outputs": [
    {
     "name": "stdout",
     "output_type": "stream",
     "text": [
      "('kal', 154)\n",
      "('ram', 54)\n"
     ]
    }
   ],
   "source": [
    "kalpa=school('kal',154)\n",
    "print(kalpa.getter())\n",
    "kalpa.setter('ram',54)\n",
    "print(kalpa.getter())"
   ]
  },
  {
   "cell_type": "code",
   "execution_count": 39,
   "id": "dd25aa2d-20c7-4c73-975a-a2100c839019",
   "metadata": {},
   "outputs": [],
   "source": [
    "# Q5.What is method overriding in python? Write a python code to demonstrate method overriding.\n",
    "class c1:\n",
    "    def display(self):\n",
    "        print(\"c1\");\n",
    "class c2(c1):\n",
    "    def display(self):\n",
    "        print(\"c2\")"
   ]
  },
  {
   "cell_type": "code",
   "execution_count": 40,
   "id": "61215fc6-453a-40e2-a5d9-e31941b66257",
   "metadata": {},
   "outputs": [
    {
     "name": "stdout",
     "output_type": "stream",
     "text": [
      "c2\n"
     ]
    }
   ],
   "source": [
    "o=c2()\n",
    "o.display()"
   ]
  }
 ],
 "metadata": {
  "kernelspec": {
   "display_name": "Python 3 (ipykernel)",
   "language": "python",
   "name": "python3"
  },
  "language_info": {
   "codemirror_mode": {
    "name": "ipython",
    "version": 3
   },
   "file_extension": ".py",
   "mimetype": "text/x-python",
   "name": "python",
   "nbconvert_exporter": "python",
   "pygments_lexer": "ipython3",
   "version": "3.10.8"
  }
 },
 "nbformat": 4,
 "nbformat_minor": 5
}
