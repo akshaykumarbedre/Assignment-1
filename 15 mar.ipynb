{
 "cells": [
  {
   "cell_type": "code",
   "execution_count": null,
   "id": "5732130b-49a0-4739-8696-6eb31f24304c",
   "metadata": {},
   "outputs": [],
   "source": [
    "1.\n",
    "ai: it is smart appliction which perform tast without human intefeance,ex:chatgtp\n",
    "ml:it is subset of ai , which perform basied trainning \n",
    "dl: it subset of ml which used to copy human behaiver\n"
   ]
  },
  {
   "cell_type": "code",
   "execution_count": null,
   "id": "22cb470c-5bc2-4fd6-bf07-f5022850990c",
   "metadata": {},
   "outputs": [],
   "source": [
    "2.\n",
    "supervised learning is used to predicate output from data\n",
    "recomention system of yoyutube , netfix,etc"
   ]
  },
  {
   "cell_type": "code",
   "execution_count": null,
   "id": "8681ba16-ce06-4a9e-85c8-2a3f8e2d7877",
   "metadata": {},
   "outputs": [],
   "source": [
    "3.\n",
    "unsupervised learning : is a method of classifiction of data into usefull details\n",
    "classifiction of data based of certain thinks\n",
    "digital marketing\n"
   ]
  },
  {
   "cell_type": "code",
   "execution_count": null,
   "id": "aa482711-cf65-4681-9e74-5d9deaa89584",
   "metadata": {},
   "outputs": [],
   "source": [
    "4.\n",
    "A1, ML, DL, DS\n",
    "AI : it is smart appliction which perform tast without human intefeance\n",
    "it contion ml,dl\n",
    "ML:it is method of procees prection of data using model\n",
    "it contain dl\n",
    "DL:it subset of ml which used to copy human behaiver\n",
    "DS: it is all union of AL,ML,DL\n",
    "    "
   ]
  },
  {
   "cell_type": "code",
   "execution_count": null,
   "id": "8cbd4b56-dad4-4256-a3d2-fc0ed00f3b1f",
   "metadata": {},
   "outputs": [],
   "source": [
    "5.\n",
    "supervised:output is predicted from data\n",
    "result is a prection\n",
    "unsupervised:classfiction of data \n",
    "result is classifction\n",
    "semi-supervised learning: combination of both supervised and unsupervised"
   ]
  },
  {
   "cell_type": "code",
   "execution_count": null,
   "id": "aa34f6dd-9969-4c6c-b982-38a40f267cf7",
   "metadata": {},
   "outputs": [],
   "source": [
    "6.it is method of classfiction od data into train, test and validation split\n",
    "train:It is proccess of training data \n",
    "validation: It is hypertexting that used optisumation of data\n",
    "test:It is final testing of model\n"
   ]
  },
  {
   "cell_type": "code",
   "execution_count": null,
   "id": "551a151e-f0e6-4072-b8f9-01abd6e82a50",
   "metadata": {},
   "outputs": [],
   "source": [
    "7.\n",
    "assign each data point a score instead of a label."
   ]
  },
  {
   "cell_type": "code",
   "execution_count": null,
   "id": "057ee8e5-ac62-4580-9d89-a43d936561f7",
   "metadata": {},
   "outputs": [],
   "source": [
    "8.\n",
    "sl:\n",
    "Linear Regression\n",
    "Regression Trees\n",
    "Non-Linear Regression\n",
    "Bayesian Linear Regression\n",
    "Polynomial Regression\n",
    "\n",
    "usl:\n",
    "K-means clustering.\n",
    "KNN (k-nearest neighbors)\n",
    "Hierarchal clustering.\n",
    "Anomaly detection.\n",
    "Neural Networks.\n",
    "\n",
    "\n"
   ]
  }
 ],
 "metadata": {
  "kernelspec": {
   "display_name": "Python 3 (ipykernel)",
   "language": "python",
   "name": "python3"
  },
  "language_info": {
   "codemirror_mode": {
    "name": "ipython",
    "version": 3
   },
   "file_extension": ".py",
   "mimetype": "text/x-python",
   "name": "python",
   "nbconvert_exporter": "python",
   "pygments_lexer": "ipython3",
   "version": "3.10.8"
  }
 },
 "nbformat": 4,
 "nbformat_minor": 5
}
