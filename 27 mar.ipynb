{
 "cells": [
  {
   "cell_type": "markdown",
   "metadata": {},
   "source": [
    "1. R- squared used to calculate the accuracy of the model which by taking avg line & calculate sqare of sum of erroe\n",
    "r2= 1-(sqare of sum of error with orignal data & preidiace vaku)/(sum of error with avg value )\n",
    " R- squared used to calculate the accuracy "
   ]
  },
  {
   "cell_type": "markdown",
   "metadata": {},
   "source": [
    "2. adjusted R-squared is modified of r sqare \n",
    "r2= 1-(sqare of sum of error with orignal data & preidiace vaku)/(sum of error with avg value )\n",
    "r2 adujest = 1-(r2-n-1)/(n-p-1)\n",
    "n-> no of data \n",
    "p-> no of independent variables\n"
   ]
  },
  {
   "cell_type": "markdown",
   "metadata": {},
   "source": [
    "3. when we use more independent features, adjusted R-squared is more accurate\n"
   ]
  },
  {
   "cell_type": "markdown",
   "metadata": {},
   "source": [
    "4. RMSE, MSE, and MAE\n",
    "mean  sqare error: it is used to calculate the cost function by calculating the diff of original & predicted on sqare of it \n",
    "root mean  sqare error: it is sqrt of MSE\n",
    "mean absolute error: it is used to calculate the cost function abs(the diff of original & predicted)\n"
   ]
  },
  {
   "cell_type": "markdown",
   "metadata": {},
   "source": [
    "5.\n",
    "MSE\n",
    "adv:it has one global minima\n",
    "    it can differentiate\n",
    "dis:it robuest to outlier\n",
    "    diff unit of calculation\n",
    "RMSE:\n",
    "adv:it has one global minima\n",
    "    it can differentiate\n",
    "    it has same unit \n",
    "dis:it robuest to outlier\n",
    "MAE:\n",
    "adv:it not roburst to outlier\n",
    "    it has one global minima\n",
    "    it has same unit \n",
    "dis:not diffentabel at minima\n",
    "\n",
    "\n"
   ]
  },
  {
   "cell_type": "markdown",
   "metadata": {},
   "source": [
    "6.Lasso regularization is used to feature selection by add new varibale lambda and abs of sum of sloap \n",
    "when ever increse in sloap less coreated feature selection become zero\n",
    "\n",
    "Ridge regularization is used to improve the condition of overfit \n",
    "it can perform by increase the error in cost funstiob by adding lamba and sqare of sum of sloap\n",
    " lasso is selecting feature\n",
    " Ridge : prevstion overfit \n"
   ]
  },
  {
   "cell_type": "markdown",
   "metadata": {},
   "source": [
    "7.Ridge regularization is used to improve the condition of overfit \n",
    "it can perform by increase the error in cost funstiob by adding lamba and sqare of sum of sloap\n",
    "add error that help prevent from overfit\n"
   ]
  },
  {
   "cell_type": "markdown",
   "metadata": {},
   "source": [
    "8.the limitations of regularized linear models: here we are adding error that decrese perormace of model so it not always BEST FIT \n",
    "\n"
   ]
  },
  {
   "cell_type": "markdown",
   "metadata": {},
   "source": [
    "9.Model B: perform better, due to less cost funstion error , this not affected by by outler\n",
    "as there two diff matric , that they may have error"
   ]
  },
  {
   "cell_type": "markdown",
   "metadata": {},
   "source": [
    "10. \n",
    "If you have many features with high correlation and you need to take away the useless features then Lasso is a better solution. If you have more observations than features and many features with multi-collinearity, Ridge regularization is a better solution .\n",
    "\n",
    "In terms of the regularization parameter, a smaller value of the regularization parameter will result in less regularization and more overfitting, while a larger value will result in more regularization and less overfitting. Thus, Model A with a smaller regularization parameter of 0.1 will be less regularized than Model B with a larger regularization parameter of 0.5. This means that Model A may be more prone to overfitting than Model B\n",
    "\n",
    "they are limitations to choice due they may have diff Sloap , that they  regularization parameter may differ"
   ]
  }
 ],
 "metadata": {
  "language_info": {
   "name": "python"
  },
  "orig_nbformat": 4
 },
 "nbformat": 4,
 "nbformat_minor": 2
}
