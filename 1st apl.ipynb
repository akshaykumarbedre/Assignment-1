{
 "cells": [
  {
   "cell_type": "markdown",
   "metadata": {},
   "source": [
    "1.liner regression:it used to predict continue data with dependent features\n",
    "    eqn for liner = b0+b1*x1 \n",
    "    cost fun : 1/n sum of sqare(orignal - predicted)\n",
    "logistic regression: it used for classification such as binary and multiclass classification\n",
    "    eqn for logistic regression= 1/(1-e^-(liner regression)) , this simple used sqaching \n",
    "    cost fun: -y(log(predicted))-(1-y(log(1-predicted)))\n",
    "ex: it used for buy or sell in stock prediction\n"
   ]
  },
  {
   "cell_type": "markdown",
   "metadata": {},
   "source": [
    "2.\n",
    "cost fun: logistic regression= 1/(1-e^-(liner regression)) \n",
    "cost fun: -y(log(predicted))-(1-y(log(1-predicted))) , we can optimize by which values has low cost fusntion that is optimal value\n"
   ]
  },
  {
   "cell_type": "markdown",
   "metadata": {},
   "source": [
    "3. concept of regularization in logistic regression :\n",
    "it is similar to linear regression in that we add extra term to logistic regression that is \n",
    "alpha ( sum of sqare of all the sloap)\n",
    "by increase alpha value which add error to model that help to prevent from over fitting"
   ]
  },
  {
   "cell_type": "markdown",
   "metadata": {},
   "source": [
    "4.roc rate of change curve  is different eqn of logistic regression curve \n",
    "roc which has near to zero that is globel minima"
   ]
  },
  {
   "cell_type": "markdown",
   "metadata": {},
   "source": [
    "5. by using l1 regularization, byincreasig alpha values, we peform feature seletion\n",
    "by using solver parameters also by chose optiaml value in solver that help to increae performance of model"
   ]
  },
  {
   "cell_type": "markdown",
   "metadata": {},
   "source": [
    "6.to handle inbalace data set in logistic regression, we have paramete callad class_weight \n",
    "Note that these weights will be multiplied with sample_weight (passed through the fit method) if sample_weight is specified"
   ]
  },
  {
   "cell_type": "markdown",
   "metadata": {},
   "source": [
    "7. cost of function in logistic regression is non convax curve that has local & global minina \n",
    "so we have chnage cost function to  -y(log(predicted))-(1-y(log(1-predicted))) \n",
    "this create a single global minina cost function"
   ]
  }
 ],
 "metadata": {
  "language_info": {
   "name": "python"
  },
  "orig_nbformat": 4
 },
 "nbformat": 4,
 "nbformat_minor": 2
}
