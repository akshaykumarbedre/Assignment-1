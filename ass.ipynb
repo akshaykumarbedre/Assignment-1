{
 "cells": [
  {
   "cell_type": "raw",
   "id": "932fa856-8b02-48da-a8fa-4d0d335e192c",
   "metadata": {},
   "source": [
    "Explain GET and POST methods."
   ]
  },
  {
   "cell_type": "code",
   "execution_count": null,
   "id": "a447e13c-d492-49c6-a53f-0244107eaaa7",
   "metadata": {},
   "outputs": [],
   "source": [
    "1.GET is method which used to take input from website. it is less secure beause it visible in url of the website \n",
    "eg:google serch\n",
    "POST is method od takeing input from website and it pass thougth body of html website \n",
    "it is more sercure due to it send data from body of html\n",
    "eg: gmail login form \n",
    "\n"
   ]
  },
  {
   "cell_type": "raw",
   "id": "a5550989-e477-4159-9b69-b5f6f01ffbd5",
   "metadata": {},
   "source": [
    "Why is request used in Flask?"
   ]
  },
  {
   "cell_type": "code",
   "execution_count": null,
   "id": "347bf483-8151-434c-ba2e-41b3da4c95f1",
   "metadata": {},
   "outputs": [],
   "source": [
    "2.request it is method , used to take input from client to server \n"
   ]
  },
  {
   "cell_type": "raw",
   "id": "bc36154d-66bb-4092-ba95-458723ed3ffd",
   "metadata": {},
   "source": [
    "Why is redirect() used in Flask?"
   ]
  },
  {
   "cell_type": "code",
   "execution_count": null,
   "id": "8cc8b252-57d8-4cdb-951a-3384ab638366",
   "metadata": {},
   "outputs": [],
   "source": [
    "3.redirecting to other routes on the same application and external websites"
   ]
  },
  {
   "cell_type": "markdown",
   "id": "33a87d45-029a-4559-8bb3-45caac6b6526",
   "metadata": {},
   "source": [
    "What are templates in Flask? Why is the render_template() function used?"
   ]
  },
  {
   "cell_type": "code",
   "execution_count": null,
   "id": "3c6c8119-9705-4a61-a833-5d7632521aa4",
   "metadata": {},
   "outputs": [],
   "source": [
    "4.template is webite which contain html, css, javascipth which load website using flask"
   ]
  },
  {
   "cell_type": "raw",
   "id": "7ec8d207-1be0-4c33-95e5-c57b3419c14e",
   "metadata": {},
   "source": [
    "Create a simple API. Use Postman to test it. Attach the screenshot of the output in the Jupyter Notebook."
   ]
  },
  {
   "cell_type": "code",
   "execution_count": null,
   "id": "0651aa0f-4322-406b-92de-c9c329fbae2e",
   "metadata": {},
   "outputs": [],
   "source": [
    "5.\n",
    "\n",
    "from flask import Flask,render_template\n",
    "from flask import request\n",
    "\n",
    "app = Flask(__name__,template_folder=\"template/\")\n",
    "\n",
    "@app.route(\"/home\" , methods=['GET','POST'])\n",
    "def home():\n",
    "    return render_template('index.html')\n",
    "\n",
    "@app.route(\"/out1\",methods=['POST'])\n",
    "def out():\n",
    "    print('aksgay')\n",
    "    if(request.method=='POST'):\n",
    "        name=request.json[\"input\"]\n",
    "        out=request.json[\"submit\"]\n",
    "        print(name)\n",
    "        return json(name)\n",
    "      \n",
    "if __name__==\"__main__\":\n",
    "    app.run(host=\"0.0.0.0\")\n",
    "\n"
   ]
  },
  {
   "cell_type": "code",
   "execution_count": null,
   "id": "0d050764-3c23-4295-b408-ee18e83b460d",
   "metadata": {},
   "outputs": [],
   "source": [
    "<!DOCTYPE html>\n",
    "<html>\n",
    "    <title>\n",
    "\n",
    "    </title>\n",
    "    <div class=\"form\">\n",
    "    <form action=\"/out1\" method=\"POST\">\n",
    "    <body>\n",
    "        <p>Enter name <input id=\"input\", type=\"text\"></p>\n",
    "        <button id=\"submit\" ,type=\"submit\">submit </button>\n",
    "    </body>\n",
    "</form>\n",
    "</div>\n",
    "</html>"
   ]
  },
  {
   "cell_type": "code",
   "execution_count": null,
   "id": "7afa1830-fd5a-4511-b948-b2cf5e3ac3cf",
   "metadata": {},
   "outputs": [],
   "source": [
    "https://drive.google.com/file/d/1W2VkLECEwHRX9KeXNuiT_611My9UG-tB/view?usp=share_link"
   ]
  }
 ],
 "metadata": {
  "kernelspec": {
   "display_name": "Python 3 (ipykernel)",
   "language": "python",
   "name": "python3"
  },
  "language_info": {
   "codemirror_mode": {
    "name": "ipython",
    "version": 3
   },
   "file_extension": ".py",
   "mimetype": "text/x-python",
   "name": "python",
   "nbconvert_exporter": "python",
   "pygments_lexer": "ipython3",
   "version": "3.10.8"
  }
 },
 "nbformat": 4,
 "nbformat_minor": 5
}
