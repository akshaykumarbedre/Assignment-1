{
 "cells": [
  {
   "cell_type": "code",
   "execution_count": null,
   "id": "d3a56e7a-bd03-43bb-aab9-65d7f3b7bf00",
   "metadata": {},
   "outputs": [],
   "source": [
    "1)\n",
    "open() funstion is used to open a file\n",
    "readmode:it used to open file ,if file not found it rise an erorr\n",
    "f=open(\"hello.txt\",'r')\n",
    "\n",
    "write mode: it used to write data by trancateing file, if file not found it create file\n",
    "f=open(\"hello.txt\",'w')\n",
    "\n",
    "append mode :it used to write data at end of file pointer\n",
    "f=open(\"hello.txt\",'a')\n",
    "\n",
    "binary read mode :it used to read binary data \n",
    "f=open(\"hello.txt\",'br')\n",
    "\n",
    "binary write mode :it used to write the binary data \n",
    "f=open(\"hello.txt\",'bw')"
   ]
  },
  {
   "cell_type": "code",
   "execution_count": null,
   "id": "30f86e88-bbe7-409f-9636-634fe40a252f",
   "metadata": {},
   "outputs": [],
   "source": [
    "2)\n",
    "close() it is used  save the data and to close the file \n",
    "it is important beause to save change , "
   ]
  },
  {
   "cell_type": "code",
   "execution_count": 2,
   "id": "215bb579-8875-4432-9b37-547dcf4ae750",
   "metadata": {},
   "outputs": [
    {
     "name": "stdout",
     "output_type": "stream",
     "text": [
      "‘I want to become a Data Scientist\n"
     ]
    }
   ],
   "source": [
    "# 3)\n",
    "file=open(\"hello.txt\",\"w\")\n",
    "file.write(\"‘I want to become a Data Scientist\")\n",
    "file.close()\n",
    "fileOpen=open(\"hello.txt\",\"r\")\n",
    "print(fileOpen.read())\n",
    "fileOpen.close()\n"
   ]
  },
  {
   "cell_type": "code",
   "execution_count": 3,
   "id": "31150883-c5fb-45f3-a86d-9132b11f113d",
   "metadata": {},
   "outputs": [
    {
     "name": "stdout",
     "output_type": "stream",
     "text": [
      "<class 'list'>\n"
     ]
    }
   ],
   "source": [
    "# 4)\n",
    "read(): it is used to read complete file \n",
    "readline() : it is used to read the file line by line\n",
    "readlines(): it used to read as list "
   ]
  },
  {
   "cell_type": "code",
   "execution_count": null,
   "id": "635c7bba-2454-4519-969c-4e39ef2bd993",
   "metadata": {},
   "outputs": [],
   "source": [
    "5)\n",
    "open():  funstion is used to open a file, it can store as variable , there are some mode to open file to read , and writr \n",
    "readmode(r)t used to open file ,if file not found it rise an erorr\n",
    "write mode (w): it used to write data by trancateing file, if file not found it create file\n",
    "append mode(a) :it used to write data at end of file pointer\n",
    "binary read mode() :it used to read binary data \n",
    "binary write mood :it used to write the binary data \n",
    "\n",
    "advatange of using with open() by refeaning as alise \n",
    "it automatically close the file \n",
    "and it short code \n",
    "\n"
   ]
  },
  {
   "cell_type": "code",
   "execution_count": 16,
   "id": "3429929e-9594-4a45-bfdd-04a5aeb171aa",
   "metadata": {},
   "outputs": [
    {
     "name": "stdout",
     "output_type": "stream",
     "text": [
      "6\n",
      "None\n",
      "12\n"
     ]
    }
   ],
   "source": [
    "# 6)\n",
    "# write(): it is used to write the document as string it return no of charater written\n",
    "# writeline(): it is used to write the document as string but it dont return no of charter written\n",
    "with open(\"wel.txt\",\"w\") as f:\n",
    "    print(f.write('sddfdf'))\n",
    "    print(f.writelines('asqasas'))\n",
    "    print(f.write(\"anther hello\"))"
   ]
  }
 ],
 "metadata": {
  "kernelspec": {
   "display_name": "Python 3 (ipykernel)",
   "language": "python",
   "name": "python3"
  },
  "language_info": {
   "codemirror_mode": {
    "name": "ipython",
    "version": 3
   },
   "file_extension": ".py",
   "mimetype": "text/x-python",
   "name": "python",
   "nbconvert_exporter": "python",
   "pygments_lexer": "ipython3",
   "version": "3.10.8"
  }
 },
 "nbformat": 4,
 "nbformat_minor": 5
}
