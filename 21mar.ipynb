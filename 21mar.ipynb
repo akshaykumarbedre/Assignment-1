{
 "cells": [
  {
   "cell_type": "code",
   "execution_count": null,
   "id": "bd356b12-ffda-4e19-88e7-7c9200d94b60",
   "metadata": {},
   "outputs": [],
   "source": [
    "1.\n",
    "Label in method to encode the catagreal feature into numaric but importmant of rank \n",
    "but in Ordinal rank is important\n",
    "whenever rank in feature we use ordinal else label\n"
   ]
  },
  {
   "cell_type": "code",
   "execution_count": null,
   "id": "5f95dbbb-404b-4f51-8a14-2729391db1ec",
   "metadata": {},
   "outputs": [],
   "source": [
    "2.\n",
    "Target Guided Ordinal Encoding is used there is strong relationship bw the numaric feature \n",
    "then enoding value is mean or median of the numaric feature\n",
    "when there is relatioshop bw a category feature with numaruic feature \n"
   ]
  },
  {
   "cell_type": "code",
   "execution_count": null,
   "id": "8b731c3e-6936-4b5e-9197-2823eb8f7309",
   "metadata": {},
   "outputs": [],
   "source": [
    "3.\n",
    "Covariance is a statistical tool investors use to measure the relationship between the movement of two asset prices\n",
    "it give strong or weak relationship\n"
   ]
  },
  {
   "cell_type": "code",
   "execution_count": 15,
   "id": "c70a01c3-0693-4677-a1c9-9a5b49de4f28",
   "metadata": {},
   "outputs": [
    {
     "data": {
      "text/html": [
       "<div>\n",
       "<style scoped>\n",
       "    .dataframe tbody tr th:only-of-type {\n",
       "        vertical-align: middle;\n",
       "    }\n",
       "\n",
       "    .dataframe tbody tr th {\n",
       "        vertical-align: top;\n",
       "    }\n",
       "\n",
       "    .dataframe thead th {\n",
       "        text-align: right;\n",
       "    }\n",
       "</style>\n",
       "<table border=\"1\" class=\"dataframe\">\n",
       "  <thead>\n",
       "    <tr style=\"text-align: right;\">\n",
       "      <th></th>\n",
       "      <th>Color</th>\n",
       "      <th>Size</th>\n",
       "      <th>Material</th>\n",
       "      <th>enoded color</th>\n",
       "      <th>enoded Size</th>\n",
       "      <th>enoded Meth</th>\n",
       "    </tr>\n",
       "  </thead>\n",
       "  <tbody>\n",
       "    <tr>\n",
       "      <th>0</th>\n",
       "      <td>red</td>\n",
       "      <td>small</td>\n",
       "      <td>wood</td>\n",
       "      <td>2</td>\n",
       "      <td>2</td>\n",
       "      <td>2</td>\n",
       "    </tr>\n",
       "    <tr>\n",
       "      <th>1</th>\n",
       "      <td>green</td>\n",
       "      <td>medium</td>\n",
       "      <td>metal</td>\n",
       "      <td>1</td>\n",
       "      <td>1</td>\n",
       "      <td>0</td>\n",
       "    </tr>\n",
       "    <tr>\n",
       "      <th>2</th>\n",
       "      <td>blue</td>\n",
       "      <td>large</td>\n",
       "      <td>plastic</td>\n",
       "      <td>0</td>\n",
       "      <td>0</td>\n",
       "      <td>1</td>\n",
       "    </tr>\n",
       "  </tbody>\n",
       "</table>\n",
       "</div>"
      ],
      "text/plain": [
       "   Color    Size Material  enoded color  enoded Size  enoded Meth\n",
       "0    red   small     wood             2            2            2\n",
       "1  green  medium    metal             1            1            0\n",
       "2   blue   large  plastic             0            0            1"
      ]
     },
     "execution_count": 15,
     "metadata": {},
     "output_type": "execute_result"
    }
   ],
   "source": [
    "4.\n",
    "import pandas as pd\n",
    "from sklearn.preprocessing import LabelEncoder\n",
    "dic={\"Color\":[\"red\",\"green\",\"blue\"],\"Size\":[\"small\",\"medium\",\"large\"]\n",
    "    ,\"Material\" :['wood', 'metal', \"plastic\"]}\n",
    "df=pd.DataFrame(dic)\n",
    "endoer=LabelEncoder()\n",
    "df[\"enoded color\"]=pd.Series(endoer.fit_transform(df['Color']))\n",
    "df[\"enoded Size\"]=pd.Series(endoer.fit_transform(df['Size']))\n",
    "df[\"enoded Meth\"]=pd.Series(endoer.fit_transform(df['Material']))\n",
    "df"
   ]
  },
  {
   "cell_type": "code",
   "execution_count": 13,
   "id": "6c578dc2-a20d-4998-8b9e-3c3fc06fa297",
   "metadata": {},
   "outputs": [],
   "source": [
    "5.\n",
    "The covariance matrix is a square matrix that contains the variances and covariances associated with several variables. It is used to understand the relationship between variables. The covariance matrix for Age, Income, and Education level can be calculated using the following formula1:\n",
    "\n",
    "Where X is the data matrix and n is the number of observations.\n",
    "\n",
    "The interpretation of the covariance matrix is that it shows how much two random variables change together. It is also known as a dispersion matrix and variance-covariance matrix1."
   ]
  },
  {
   "cell_type": "code",
   "execution_count": null,
   "id": "abf06a24-f1c1-4b44-b15e-281c277c91ef",
   "metadata": {},
   "outputs": [],
   "source": [
    "6.\n",
    "for gender : we use on HOT encoding . (less number of categories)\n",
    "for Education  level: ordinal encoding(important of rank)\n",
    "for Employment Status: we use target guided Encoding(it is relate to target variable)\n"
   ]
  },
  {
   "cell_type": "code",
   "execution_count": null,
   "id": "3a2970b3-b0a3-4814-8d50-129e780e075a",
   "metadata": {},
   "outputs": [],
   "source": [
    "7.\n",
    "For your dataset with two continuous variables, “Temperature” and “Humidity”, and two categorical variables, “Weather Condition” (Sunny/Cloudy/Rainy) and “Wind Direction” (North/South/East/West), you can calculate the covariance between each pair of variables using this formula2:\n",
    "\n",
    "Covariance between Temperature and Humidity\n",
    "Covariance between Temperature and Weather Condition\n",
    "Covariance between Temperature and Wind Direction\n",
    "Covariance between Humidity and Weather Condition\n",
    "Covariance between Humidity and Wind Direction\n",
    "Covariance between Weather Condition and Wind Direction\n"
   ]
  }
 ],
 "metadata": {
  "kernelspec": {
   "display_name": "Python 3 (ipykernel)",
   "language": "python",
   "name": "python3"
  },
  "language_info": {
   "codemirror_mode": {
    "name": "ipython",
    "version": 3
   },
   "file_extension": ".py",
   "mimetype": "text/x-python",
   "name": "python",
   "nbconvert_exporter": "python",
   "pygments_lexer": "ipython3",
   "version": "3.10.8"
  }
 },
 "nbformat": 4,
 "nbformat_minor": 5
}
