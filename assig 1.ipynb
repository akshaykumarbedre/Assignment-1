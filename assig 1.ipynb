{
 "cells": [
  {
   "cell_type": "code",
   "execution_count": null,
   "id": "69d10c34-824a-496a-b96c-101a4a67702d",
   "metadata": {},
   "outputs": [],
   "source": [
    "# 1)\n",
    "# for loop used for accesing element in data structre & and used with range funstion\n",
    "# while loop used to cheak condion"
   ]
  },
  {
   "cell_type": "code",
   "execution_count": null,
   "id": "8b480c1c-d617-4d39-b29c-4e33428d03e5",
   "metadata": {},
   "outputs": [],
   "source": [
    "li=[1,2,3,4,5,5,7,8,907]\n",
    "for i in li:\n",
    "    print(i)"
   ]
  },
  {
   "cell_type": "code",
   "execution_count": 4,
   "id": "3da09023-8053-4de2-8e54-c3f60b16bb4b",
   "metadata": {},
   "outputs": [
    {
     "name": "stdout",
     "output_type": "stream",
     "text": [
      "0\n",
      "1\n",
      "2\n",
      "3\n",
      "4\n",
      "5\n",
      "6\n",
      "7\n",
      "8\n",
      "9\n"
     ]
    }
   ],
   "source": [
    "i=0\n",
    "while(i<10):\n",
    "    print(i)\n",
    "    i=i+1"
   ]
  },
  {
   "cell_type": "code",
   "execution_count": 12,
   "id": "b584ada4-036a-4cb4-bff0-7e555ca7e15e",
   "metadata": {},
   "outputs": [
    {
     "name": "stdout",
     "output_type": "stream",
     "text": [
      "55 3628800\n"
     ]
    }
   ],
   "source": [
    "# 2)\n",
    "sum=0\n",
    "prod=1\n",
    "for i in range(1,10+1):\n",
    "    sum=sum+i\n",
    "    prod=prod*i\n",
    "print(sum,prod)"
   ]
  },
  {
   "cell_type": "code",
   "execution_count": null,
   "id": "6c9f7d98-bfac-4b0c-bdf1-b0a6e748df6a",
   "metadata": {},
   "outputs": [
    {
     "name": "stdout",
     "output_type": "stream",
     "text": [
      "55 3628800\n"
     ]
    }
   ],
   "source": [
    "i=1 \n",
    "sum=0\n",
    "p=1\n",
    "while(i<=10):\n",
    "    sum=sum+i\n",
    "    p=p*i\n",
    "    i=i+1\n",
    "print(sum,p)"
   ]
  },
  {
   "cell_type": "code",
   "execution_count": 41,
   "id": "d43b6be1-93c3-4cf5-96de-5138e6ae1370",
   "metadata": {},
   "outputs": [
    {
     "name": "stdin",
     "output_type": "stream",
     "text": [
      "Emter units of electricity consumed in a month 310\n"
     ]
    },
    {
     "name": "stdout",
     "output_type": "stream",
     "text": [
      "2250\n"
     ]
    }
   ],
   "source": [
    "# 3)\n",
    "unit=int(input(\"Emter units of electricity consumed in a month\"))\n",
    "bill=0\n",
    "if(unit<=100):\n",
    "    bill=4.5*unit\n",
    "elif(unit>100 and unit<=200):\n",
    "    bill=450+(6*(unit-100))\n",
    "elif(unit>200 and unit<=300):\n",
    "    bill=450+600+(10*(unit-200))\n",
    "else :\n",
    "    bill=450+600+1000+(20*(unit-300))\n",
    "print(bill)"
   ]
  },
  {
   "cell_type": "code",
   "execution_count": 52,
   "id": "4a273927-467f-4e12-bd1b-e4dec39f2a1f",
   "metadata": {},
   "outputs": [
    {
     "name": "stdout",
     "output_type": "stream",
     "text": [
      "[8, 64, 125, 216, 512, 1000, 1728, 2744, 3375, 4096, 5832, 8000, 10648, 13824, 15625, 17576, 21952, 27000, 32768, 39304, 42875, 46656, 54872, 64000, 74088, 85184, 91125, 97336, 110592, 125000, 140608, 157464, 166375, 175616, 195112, 216000, 238328, 262144, 274625, 287496, 314432, 343000, 373248, 405224, 421875, 438976, 474552, 512000, 551368, 592704, 614125, 636056, 681472, 729000, 778688, 830584, 857375, 884736, 941192, 1000000]\n"
     ]
    }
   ],
   "source": [
    "# 4)\n",
    "li=list(range(1,101))\n",
    "cub_list=[]\n",
    "for i in li:\n",
    "    cube=i*i*i\n",
    "    if(cube%5==0 or cube%4==0):\n",
    "        cub.append(cube)\n",
    "print(cub_list)        "
   ]
  },
  {
   "cell_type": "code",
   "execution_count": 53,
   "id": "b5850ec1-f7e2-4d36-a67f-d18e9847cc7a",
   "metadata": {},
   "outputs": [],
   "source": [
    "string = \"I want to become a data scientist\"\n",
    "count=0\n",
    "for i in ['a','e','i','o','u']:\n",
    "    count=count+string.count(i)"
   ]
  }
 ],
 "metadata": {
  "kernelspec": {
   "display_name": "Python 3 (ipykernel)",
   "language": "python",
   "name": "python3"
  },
  "language_info": {
   "codemirror_mode": {
    "name": "ipython",
    "version": 3
   },
   "file_extension": ".py",
   "mimetype": "text/x-python",
   "name": "python",
   "nbconvert_exporter": "python",
   "pygments_lexer": "ipython3",
   "version": "3.10.8"
  }
 },
 "nbformat": 4,
 "nbformat_minor": 5
}
