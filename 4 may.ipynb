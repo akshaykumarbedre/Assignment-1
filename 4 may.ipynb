{
 "cells": [
  {
   "cell_type": "code",
   "execution_count": null,
   "metadata": {},
   "outputs": [],
   "source": [
    "1.\n",
    "time series is type of data where we have time feature in indepance featre\n",
    "stock analysis\n",
    "weather analysis\n"
   ]
  },
  {
   "cell_type": "code",
   "execution_count": null,
   "metadata": {},
   "outputs": [],
   "source": [
    "2.\n",
    "trend,\n",
    "seanality\n",
    "cycles\n",
    "romdom\n",
    "\n",
    "we idenifty using auto corrrtation"
   ]
  },
  {
   "cell_type": "code",
   "execution_count": null,
   "metadata": {},
   "outputs": [],
   "source": [
    "3.\n",
    "preprocessing, we need to convert non statonory data to ststatonory, making constant mean & variance of moving avg"
   ]
  },
  {
   "cell_type": "code",
   "execution_count": null,
   "metadata": {},
   "outputs": [],
   "source": [
    "4.\n",
    "to precide the sales data, make plan to boost the sales \n",
    "challenger: auto reggeation\n",
    "limmistion: Seasonality due to unexterepted events"
   ]
  },
  {
   "cell_type": "code",
   "execution_count": null,
   "metadata": {},
   "outputs": [],
   "source": [
    "5.\n",
    "ARIMA modelling is time seriuse model used to forecast the data ,it shand for auto reggestion intergrate movinf avg model \n",
    "it forcaast by , auto reggstin, differsation the data to convert to statanary data , error handling"
   ]
  },
  {
   "cell_type": "code",
   "execution_count": null,
   "metadata": {},
   "outputs": [],
   "source": [
    "6.Autocorrelation Function (ACF) it help yo idernity the correaltion in lag, \n",
    "Partial Autocorrelation Function (PACF) it help to idenity corrlation in log with diff of alternate values\n",
    "it help to idenity corrlation of data with lag of itself"
   ]
  },
  {
   "cell_type": "code",
   "execution_count": null,
   "metadata": {},
   "outputs": [],
   "source": [
    "7\n",
    "assustion:\n",
    "it no shift in moving avg\n",
    "no level shift\n",
    "no seasal dumies\n",
    "\n",
    "tested for in practice\n",
    "Autocorrelation of residuals\n",
    "p values\n",
    "mean sqare erroe "
   ]
  },
  {
   "cell_type": "code",
   "execution_count": null,
   "metadata": {},
   "outputs": [],
   "source": [
    "8. SARIMA .\n",
    "his is because retail sales data often exhibit seasonal patterns, such as increased sales during holiday seasons or specific month"
   ]
  },
  {
   "cell_type": "code",
   "execution_count": null,
   "metadata": {},
   "outputs": [],
   "source": [
    "9.\n",
    "we can precied 100% in forcaseing due uncorrted event may happnes\n",
    "while predicateing stock price , we can 100% forcase the price , also some certain limit for precding stock pice"
   ]
  },
  {
   "cell_type": "code",
   "execution_count": null,
   "metadata": {},
   "outputs": [],
   "source": [
    "10.\n",
    "stationary :\n",
    "moving avg mean will  constant \n",
    "moving avg variamve is also constnat\n",
    "\n",
    "non stationary:\n",
    "moving avg mean will not constant \n",
    "moving avg variamve is also not constnat\n",
    "\n",
    "stationarity : it stable to forecast and more accurate "
   ]
  },
  {
   "cell_type": "code",
   "execution_count": null,
   "metadata": {},
   "outputs": [],
   "source": []
  }
 ],
 "metadata": {
  "language_info": {
   "name": "python"
  },
  "orig_nbformat": 4
 },
 "nbformat": 4,
 "nbformat_minor": 2
}
