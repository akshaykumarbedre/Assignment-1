{
 "cells": [
  {
   "cell_type": "markdown",
   "metadata": {},
   "source": [
    "1.\n",
    "data collection\n",
    "data cleaning\n",
    "feature engineering\n",
    "EDA\n",
    "pipeline or upload to git and connet\n",
    "Deloying\n"
   ]
  },
  {
   "cell_type": "markdown",
   "metadata": {},
   "source": [
    "2.traditinal :\n",
    "    data store on sigle server\n",
    "    high cost\n",
    "    limited scalable \n",
    "    less secure\n",
    "Cloud hosting:\n",
    "    data store on multple serve\n",
    "    low cost\n",
    "    better performance\n",
    "    high security"
   ]
  },
  {
   "cell_type": "markdown",
   "metadata": {},
   "source": [
    "3.\n",
    "to chose the right cloud provider:\n",
    "priceing , \n",
    "resorces ,\n",
    "securities ,\n"
   ]
  },
  {
   "cell_type": "markdown",
   "metadata": {},
   "source": [
    "4.\n",
    "firsly we code backend using Flask in python , \n",
    "in requirements.txt , fill the name of requred module\n",
    "group the file in folder\n",
    "test , the souce coe is working file \n",
    "upload to github \n",
    "connnet to github to deploy\n"
   ]
  },
  {
   "cell_type": "markdown",
   "metadata": {},
   "source": [
    "5.\n",
    "we integrate ML model using pikle file of ML module & Using Flask module\n",
    "Flask is library for API "
   ]
  },
  {
   "cell_type": "markdown",
   "metadata": {},
   "source": []
  }
 ],
 "metadata": {
  "language_info": {
   "name": "python"
  },
  "orig_nbformat": 4
 },
 "nbformat": 4,
 "nbformat_minor": 2
}
