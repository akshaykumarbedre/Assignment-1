{
 "cells": [
  {
   "cell_type": "code",
   "execution_count": null,
   "metadata": {},
   "outputs": [],
   "source": [
    "1.Bayes theorem it is a theorem in which used calculate probability of an event another event already occurred\n",
    "\n"
   ]
  },
  {
   "cell_type": "code",
   "execution_count": null,
   "metadata": {},
   "outputs": [],
   "source": [
    "2.\n",
    "p(a/b)=(p(a)*p(b/a))/p(b)\n",
    "where p(a), p(b), is probrobality of a , b respectively\n",
    "p(a/b) probability of a , b already occed\n",
    "pb/a) probability of b , a already occed\n"
   ]
  },
  {
   "cell_type": "code",
   "execution_count": null,
   "metadata": {},
   "outputs": [],
   "source": [
    "3.\n",
    "we use bayes theorm when a event is alread occued, and calacauting problailty of anthoer event\n",
    "ex: chosse 2 ball from 3 red ball, 4 green ball . what is probelem of removeing a green ball before removeing a red ball"
   ]
  },
  {
   "cell_type": "code",
   "execution_count": null,
   "metadata": {},
   "outputs": [],
   "source": [
    "4.\n",
    "conditional probability:p(a/b)=p(a and b)/p(b)\n",
    "Bayes theorem:p(a/b)=(p(a)*p(b/a))/p(b)\n"
   ]
  },
  {
   "cell_type": "code",
   "execution_count": null,
   "metadata": {},
   "outputs": [],
   "source": [
    "5.\n",
    "Bernoulli Naïve Bayes Classifier:we use when data is binary data such as Bernoulli\n",
    "Multinomial Naïve Bayes Classifier.: we use when dataset is binary or we can use for text proccesing\n",
    "Gaussian Naïve Bayes Classifier: when dataset has Gaussian distubtion"
   ]
  },
  {
   "cell_type": "code",
   "execution_count": null,
   "metadata": {},
   "outputs": [],
   "source": [
    "6.\n",
    "\n",
    "X1 = 3 and X2 = 4\n",
    "p(true/x1,x2)= p(true)*p(x1/true)*p(x2/true):\n",
    "=0.5*4/10*3/10=0.066\n",
    "p(false/x1,x2)=p(false)*(x1/false)*p(x2/false):\n",
    "=0.5*1/5*3/8=0.0375\n",
    "it select class A for new instance\n"
   ]
  }
 ],
 "metadata": {
  "language_info": {
   "name": "python"
  },
  "orig_nbformat": 4
 },
 "nbformat": 4,
 "nbformat_minor": 2
}
