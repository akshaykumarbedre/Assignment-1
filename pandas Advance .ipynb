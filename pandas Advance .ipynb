{
 "cells": [
  {
   "cell_type": "code",
   "execution_count": 1,
   "id": "b7aab620-aa86-4d5b-9747-aab6331803ef",
   "metadata": {},
   "outputs": [
    {
     "data": {
      "text/html": [
       "<div>\n",
       "<style scoped>\n",
       "    .dataframe tbody tr th:only-of-type {\n",
       "        vertical-align: middle;\n",
       "    }\n",
       "\n",
       "    .dataframe tbody tr th {\n",
       "        vertical-align: top;\n",
       "    }\n",
       "\n",
       "    .dataframe thead th {\n",
       "        text-align: right;\n",
       "    }\n",
       "</style>\n",
       "<table border=\"1\" class=\"dataframe\">\n",
       "  <thead>\n",
       "    <tr style=\"text-align: right;\">\n",
       "      <th></th>\n",
       "      <th>id</th>\n",
       "      <th>age</th>\n",
       "    </tr>\n",
       "  </thead>\n",
       "  <tbody>\n",
       "    <tr>\n",
       "      <th>count</th>\n",
       "      <td>2.000000</td>\n",
       "      <td>2.000000</td>\n",
       "    </tr>\n",
       "    <tr>\n",
       "      <th>mean</th>\n",
       "      <td>2.000000</td>\n",
       "      <td>3.000000</td>\n",
       "    </tr>\n",
       "    <tr>\n",
       "      <th>std</th>\n",
       "      <td>1.414214</td>\n",
       "      <td>1.414214</td>\n",
       "    </tr>\n",
       "    <tr>\n",
       "      <th>min</th>\n",
       "      <td>1.000000</td>\n",
       "      <td>2.000000</td>\n",
       "    </tr>\n",
       "    <tr>\n",
       "      <th>25%</th>\n",
       "      <td>1.500000</td>\n",
       "      <td>2.500000</td>\n",
       "    </tr>\n",
       "    <tr>\n",
       "      <th>50%</th>\n",
       "      <td>2.000000</td>\n",
       "      <td>3.000000</td>\n",
       "    </tr>\n",
       "    <tr>\n",
       "      <th>75%</th>\n",
       "      <td>2.500000</td>\n",
       "      <td>3.500000</td>\n",
       "    </tr>\n",
       "    <tr>\n",
       "      <th>max</th>\n",
       "      <td>3.000000</td>\n",
       "      <td>4.000000</td>\n",
       "    </tr>\n",
       "  </tbody>\n",
       "</table>\n",
       "</div>"
      ],
      "text/plain": [
       "             id      age \n",
       "count  2.000000  2.000000\n",
       "mean   2.000000  3.000000\n",
       "std    1.414214  1.414214\n",
       "min    1.000000  2.000000\n",
       "25%    1.500000  2.500000\n",
       "50%    2.000000  3.000000\n",
       "75%    2.500000  3.500000\n",
       "max    3.000000  4.000000"
      ]
     },
     "execution_count": 1,
     "metadata": {},
     "output_type": "execute_result"
    }
   ],
   "source": [
    "# 1.\n",
    "import pandas as pd\n",
    "# List any five functions of the pandas library with execution.\n",
    "pd.DataFrame({\"Name\":['a1','a2','a2','a1'],\"age\":[23,12,1,23]})#it convert disnary to pandas data frame\n",
    "df=pd.read_csv(\"hello.csv\") # it will read file from csv convert into pandas\n",
    "df.to_clipboard()# it will copy to clipboard \n",
    "df.to_csv(\"data.csv\")#it will export data to file \n",
    "df.describe()# it will create a basic statatic for numaric data\n",
    "# df.dtypes()# it will show coloumn name & its datatype  \n"
   ]
  },
  {
   "cell_type": "code",
   "execution_count": 4,
   "id": "a45446d5",
   "metadata": {},
   "outputs": [
    {
     "name": "stdout",
     "output_type": "stream",
     "text": [
      "       A     B     C\n",
      "1   12.0  12.0  12.0\n",
      "3   14.0  14.0  14.0\n",
      "5   34.0  34.0  56.0\n",
      "7    NaN   NaN   NaN\n",
      "9    NaN   NaN   NaN\n",
      "11   NaN   NaN   NaN\n"
     ]
    }
   ],
   "source": [
    "# 2.\n",
    "def reindex(df):\n",
    "    leng=len(df)\n",
    "    fun=lambda x:2*x+1\n",
    "    return df.reindex([fun(i) for i in range(0,leng)])\n",
    "\n",
    "data={\"A\":[11,12,13,14,15,34],\"B\":[21,12,13,14,15,34],\"C\":[31,12,13,14,15,56]}\n",
    "df=pd.DataFrame(data)\n",
    "df=reindex(df)\n",
    "print(df)"
   ]
  },
  {
   "cell_type": "code",
   "execution_count": 2,
   "id": "2dd4fe59-cc87-49e8-a131-50e9bbdef179",
   "metadata": {},
   "outputs": [],
   "source": []
  },
  {
   "cell_type": "code",
   "execution_count": null,
   "id": "f02d0b9f",
   "metadata": {},
   "outputs": [],
   "source": [
    "# 3.\n",
    "def sum(df):\n",
    "    sum=0\n",
    "    for i in range(3):\n",
    "        sum=df[i]+sum\n",
    "    return sum"
   ]
  },
  {
   "cell_type": "code",
   "execution_count": null,
   "id": "9c9d84ee",
   "metadata": {},
   "outputs": [
    {
     "name": "stdout",
     "output_type": "stream",
     "text": [
      "sum : 6\n"
     ]
    }
   ],
   "source": [
    "\n",
    "data={\"Value\":[1,2,3,4,5,6,7,45,9]}\n",
    "df=pd.DataFrame(data)\n",
    "print(\"sum :\",sum(df[\"Value\"]))"
   ]
  },
  {
   "cell_type": "code",
   "execution_count": null,
   "id": "01904c24",
   "metadata": {},
   "outputs": [
    {
     "name": "stdout",
     "output_type": "stream",
     "text": [
      "                              Text  Count\n",
      "0                     i am akshay       3\n",
      "1   i enjoy the working with data       6\n",
      "2                  this is pandas       3\n"
     ]
    }
   ],
   "source": [
    "# 4.\n",
    "def Word_count(df):    \n",
    "    df[\"Count\"]=df['Text'].apply(lambda x:len(x.split()))\n",
    "    return df\n",
    "\n",
    "\n",
    "df=pd.DataFrame({'Text':[' i am akshay ', ' i enjoy the working with data ', ' this is pandas ']})\n",
    "df=Word_count(df)\n",
    "print(df)\n",
    "\n"
   ]
  },
  {
   "cell_type": "code",
   "execution_count": null,
   "id": "311dcd84",
   "metadata": {},
   "outputs": [],
   "source": [
    "# 5.\n",
    "size=total number of elements.\n",
    "shape = return (Rows, columns) of dataframe/series\n"
   ]
  },
  {
   "cell_type": "code",
   "execution_count": null,
   "id": "b60f071e",
   "metadata": {},
   "outputs": [],
   "source": [
    "# 6.\n",
    "pd.read_excel() # is used to read exvel files"
   ]
  },
  {
   "cell_type": "code",
   "execution_count": null,
   "id": "ec5984d3",
   "metadata": {},
   "outputs": [
    {
     "data": {
      "text/html": [
       "<div>\n",
       "<style scoped>\n",
       "    .dataframe tbody tr th:only-of-type {\n",
       "        vertical-align: middle;\n",
       "    }\n",
       "\n",
       "    .dataframe tbody tr th {\n",
       "        vertical-align: top;\n",
       "    }\n",
       "\n",
       "    .dataframe thead th {\n",
       "        text-align: right;\n",
       "    }\n",
       "</style>\n",
       "<table border=\"1\" class=\"dataframe\">\n",
       "  <thead>\n",
       "    <tr style=\"text-align: right;\">\n",
       "      <th></th>\n",
       "      <th>Value</th>\n",
       "      <th>name</th>\n",
       "    </tr>\n",
       "  </thead>\n",
       "  <tbody>\n",
       "    <tr>\n",
       "      <th>0</th>\n",
       "      <td>akshay@gmail.com</td>\n",
       "      <td>akshay</td>\n",
       "    </tr>\n",
       "    <tr>\n",
       "      <th>1</th>\n",
       "      <td>raj@gmail.com</td>\n",
       "      <td>raj</td>\n",
       "    </tr>\n",
       "    <tr>\n",
       "      <th>2</th>\n",
       "      <td>hello@gmail.com</td>\n",
       "      <td>hello</td>\n",
       "    </tr>\n",
       "  </tbody>\n",
       "</table>\n",
       "</div>"
      ],
      "text/plain": [
       "              Value    name\n",
       "0  akshay@gmail.com  akshay\n",
       "1     raj@gmail.com     raj\n",
       "2   hello@gmail.com   hello"
      ]
     },
     "execution_count": 98,
     "metadata": {},
     "output_type": "execute_result"
    }
   ],
   "source": [
    "7.\n",
    "def getname(df):\n",
    "    df[\"name\"]=df[\"Value\"].apply(lambda x:x.split(\"@\")[0])\n",
    "    return df\n",
    "data={\"Value\":[\"akshay@gmail.com\",\"raj@gmail.com\",\"hello@gmail.com\"]}\n",
    "df=pd.DataFrame(data)\n",
    "df=getname(df)\n",
    "df\n"
   ]
  },
  {
   "cell_type": "code",
   "execution_count": null,
   "metadata": {},
   "outputs": [
    {
     "data": {
      "text/html": [
       "<div>\n",
       "<style scoped>\n",
       "    .dataframe tbody tr th:only-of-type {\n",
       "        vertical-align: middle;\n",
       "    }\n",
       "\n",
       "    .dataframe tbody tr th {\n",
       "        vertical-align: top;\n",
       "    }\n",
       "\n",
       "    .dataframe thead th {\n",
       "        text-align: right;\n",
       "    }\n",
       "</style>\n",
       "<table border=\"1\" class=\"dataframe\">\n",
       "  <thead>\n",
       "    <tr style=\"text-align: right;\">\n",
       "      <th></th>\n",
       "      <th>A</th>\n",
       "      <th>B</th>\n",
       "      <th>C</th>\n",
       "    </tr>\n",
       "  </thead>\n",
       "  <tbody>\n",
       "    <tr>\n",
       "      <th>5</th>\n",
       "      <td>6</td>\n",
       "      <td>1</td>\n",
       "      <td>6</td>\n",
       "    </tr>\n",
       "    <tr>\n",
       "      <th>6</th>\n",
       "      <td>7</td>\n",
       "      <td>1</td>\n",
       "      <td>7</td>\n",
       "    </tr>\n",
       "  </tbody>\n",
       "</table>\n",
       "</div>"
      ],
      "text/plain": [
       "   A  B  C\n",
       "5  6  1  6\n",
       "6  7  1  7"
      ]
     },
     "execution_count": 97,
     "metadata": {},
     "output_type": "execute_result"
    }
   ],
   "source": [
    "# 8.\n",
    "def apply_cond(df):\n",
    "    return df[(df['A']>5) & (df[\"B\"]<10)]\n",
    "\n",
    "data={\"A\":[1,2,3,4,5,6,7],\"B\":[7,56,5,4,2,1,1],\"C\":[1,2,3,4,5,6,7]}\n",
    "df=pd.DataFrame(data)\n",
    "print(apply_cond(df))\n",
    "\n",
    "\n"
   ]
  },
  {
   "cell_type": "code",
   "execution_count": null,
   "id": "437d7e81",
   "metadata": {},
   "outputs": [
    {
     "name": "stdout",
     "output_type": "stream",
     "text": [
      "mean : 181\n",
      "medain : 45\n",
      "stdev : 315.1621804722134\n"
     ]
    }
   ],
   "source": [
    "# 9\n",
    "def sta(df):\n",
    "    print(\"mean :\",statistics.mean(df[\"Value\"]))\n",
    "    print(\"medain :\",statistics.median(df[\"Value\"]))\n",
    "    print(\"stdev :\",statistics.stdev(df[\"Value\"]))\n",
    "import statistics\n",
    "val={\"Value\":[12,45,34,6,735,67,23,890,23,67,89]}\n",
    "df=pd.DataFrame(val)\n",
    "sta(df)\n",
    "\n"
   ]
  },
  {
   "cell_type": "code",
   "execution_count": null,
   "id": "4ddab0e0",
   "metadata": {},
   "outputs": [],
   "source": [
    "# 10.Given a Pandas DataFrame df with a column 'Sales' and a column 'Date', write a Python function to\n",
    "# create a new column 'MovingAverage' that contains the moving average of the sales for the past 7 days\n",
    "# for each row in the DataFrame. The moving average should be calculated using a window of size 7 and\n",
    "# should include the current day."
   ]
  },
  {
   "cell_type": "code",
   "execution_count": null,
   "id": "319ceabc",
   "metadata": {},
   "outputs": [
    {
     "name": "stdout",
     "output_type": "stream",
     "text": [
      "    sales        Date  Moving avg\n",
      "0      23  10-11-2021         NaN\n",
      "1      34  11-11-2021         NaN\n",
      "2      34  12-11-2021         NaN\n",
      "3      34  13-11-2021         NaN\n",
      "4      45  14-11-2021         NaN\n",
      "5      23  15-11-2021         NaN\n",
      "6      56  16-11-2021   35.571429\n",
      "7      34  17-11-2021   37.142857\n",
      "8      43  18-11-2021   38.428571\n",
      "9      87  18-11-2021   46.000000\n",
      "10     21  19-11-2021   44.142857\n",
      "11     54  20-11-2021   45.428571\n",
      "12     23  21-11-2021   45.428571\n",
      "13    867  22-11-2021  161.285714\n"
     ]
    }
   ],
   "source": [
    "def ma(df):\n",
    "    df[\"Moving avg\"]=df[\"sales\"].rolling(7).mean()\n",
    "    return df\n",
    "\n",
    "data={\"sales\":[23,34,34,34,45,23,56,34,43,87,21,54,23,867],\n",
    " \"Date\":[\"10-11-2021\",\"11-11-2021\",\"12-11-2021\",\"13-11-2021\",\"14-11-2021\",\"15-11-2021\",\"16-11-2021\",\"17-11-2021\",\"18-11-2021\",\"18-11-2021\",\"19-11-2021\",\"20-11-2021\",\"21-11-2021\",\"22-11-2021\"]}\n",
    "df=pd.DataFrame(data)\n",
    "print(ma(df))"
   ]
  },
  {
   "cell_type": "code",
   "execution_count": 56,
   "id": "591327cc",
   "metadata": {},
   "outputs": [
    {
     "data": {
      "text/html": [
       "<div>\n",
       "<style scoped>\n",
       "    .dataframe tbody tr th:only-of-type {\n",
       "        vertical-align: middle;\n",
       "    }\n",
       "\n",
       "    .dataframe tbody tr th {\n",
       "        vertical-align: top;\n",
       "    }\n",
       "\n",
       "    .dataframe thead th {\n",
       "        text-align: right;\n",
       "    }\n",
       "</style>\n",
       "<table border=\"1\" class=\"dataframe\">\n",
       "  <thead>\n",
       "    <tr style=\"text-align: right;\">\n",
       "      <th></th>\n",
       "      <th>Date</th>\n",
       "      <th>week</th>\n",
       "    </tr>\n",
       "  </thead>\n",
       "  <tbody>\n",
       "    <tr>\n",
       "      <th>0</th>\n",
       "      <td>10-11-2021</td>\n",
       "      <td>Wednesday</td>\n",
       "    </tr>\n",
       "    <tr>\n",
       "      <th>1</th>\n",
       "      <td>11-11-2021</td>\n",
       "      <td>Thursday</td>\n",
       "    </tr>\n",
       "    <tr>\n",
       "      <th>2</th>\n",
       "      <td>12-11-2021</td>\n",
       "      <td>Friday</td>\n",
       "    </tr>\n",
       "    <tr>\n",
       "      <th>3</th>\n",
       "      <td>13-11-2021</td>\n",
       "      <td>Saturday</td>\n",
       "    </tr>\n",
       "    <tr>\n",
       "      <th>4</th>\n",
       "      <td>14-11-2021</td>\n",
       "      <td>Sunday</td>\n",
       "    </tr>\n",
       "    <tr>\n",
       "      <th>5</th>\n",
       "      <td>15-11-2021</td>\n",
       "      <td>Monday</td>\n",
       "    </tr>\n",
       "    <tr>\n",
       "      <th>6</th>\n",
       "      <td>16-11-2021</td>\n",
       "      <td>Tuesday</td>\n",
       "    </tr>\n",
       "    <tr>\n",
       "      <th>7</th>\n",
       "      <td>17-11-2021</td>\n",
       "      <td>Wednesday</td>\n",
       "    </tr>\n",
       "    <tr>\n",
       "      <th>8</th>\n",
       "      <td>18-11-2021</td>\n",
       "      <td>Thursday</td>\n",
       "    </tr>\n",
       "    <tr>\n",
       "      <th>9</th>\n",
       "      <td>18-11-2021</td>\n",
       "      <td>Thursday</td>\n",
       "    </tr>\n",
       "    <tr>\n",
       "      <th>10</th>\n",
       "      <td>19-11-2021</td>\n",
       "      <td>Friday</td>\n",
       "    </tr>\n",
       "    <tr>\n",
       "      <th>11</th>\n",
       "      <td>20-11-2021</td>\n",
       "      <td>Saturday</td>\n",
       "    </tr>\n",
       "    <tr>\n",
       "      <th>12</th>\n",
       "      <td>21-11-2021</td>\n",
       "      <td>Sunday</td>\n",
       "    </tr>\n",
       "    <tr>\n",
       "      <th>13</th>\n",
       "      <td>22-11-2021</td>\n",
       "      <td>Monday</td>\n",
       "    </tr>\n",
       "  </tbody>\n",
       "</table>\n",
       "</div>"
      ],
      "text/plain": [
       "          Date       week\n",
       "0   10-11-2021  Wednesday\n",
       "1   11-11-2021   Thursday\n",
       "2   12-11-2021     Friday\n",
       "3   13-11-2021   Saturday\n",
       "4   14-11-2021     Sunday\n",
       "5   15-11-2021     Monday\n",
       "6   16-11-2021    Tuesday\n",
       "7   17-11-2021  Wednesday\n",
       "8   18-11-2021   Thursday\n",
       "9   18-11-2021   Thursday\n",
       "10  19-11-2021     Friday\n",
       "11  20-11-2021   Saturday\n",
       "12  21-11-2021     Sunday\n",
       "13  22-11-2021     Monday"
      ]
     },
     "execution_count": 56,
     "metadata": {},
     "output_type": "execute_result"
    }
   ],
   "source": [
    "# 11\n",
    "def week(data):\n",
    "    df = pd.to_datetime(data, format=\"%d-%m-%Y\")\n",
    "    return(df.strftime('%A'))\n",
    "\n",
    "data={\"Date\":[\"10-11-2021\",\"11-11-2021\",\"12-11-2021\",\"13-11-2021\",\"14-11-2021\",\"15-11-2021\",\"16-11-2021\",\"17-11-2021\",\"18-11-2021\",\"18-11-2021\",\"19-11-2021\",\"20-11-2021\",\"21-11-2021\",\"22-11-2021\"]}\n",
    "df=pd.DataFrame(data)\n",
    "df['week']=df['Date'].apply(week)\n",
    "df\n"
   ]
  },
  {
   "cell_type": "code",
   "execution_count": 90,
   "id": "607a801c",
   "metadata": {},
   "outputs": [
    {
     "data": {
      "text/html": [
       "<div>\n",
       "<style scoped>\n",
       "    .dataframe tbody tr th:only-of-type {\n",
       "        vertical-align: middle;\n",
       "    }\n",
       "\n",
       "    .dataframe tbody tr th {\n",
       "        vertical-align: top;\n",
       "    }\n",
       "\n",
       "    .dataframe thead th {\n",
       "        text-align: right;\n",
       "    }\n",
       "</style>\n",
       "<table border=\"1\" class=\"dataframe\">\n",
       "  <thead>\n",
       "    <tr style=\"text-align: right;\">\n",
       "      <th></th>\n",
       "      <th>0</th>\n",
       "    </tr>\n",
       "  </thead>\n",
       "  <tbody>\n",
       "    <tr>\n",
       "      <th>2</th>\n",
       "      <td>2021-11-12</td>\n",
       "    </tr>\n",
       "    <tr>\n",
       "      <th>3</th>\n",
       "      <td>2021-11-13</td>\n",
       "    </tr>\n",
       "    <tr>\n",
       "      <th>4</th>\n",
       "      <td>2021-11-14</td>\n",
       "    </tr>\n",
       "    <tr>\n",
       "      <th>5</th>\n",
       "      <td>2021-11-15</td>\n",
       "    </tr>\n",
       "    <tr>\n",
       "      <th>6</th>\n",
       "      <td>2021-11-16</td>\n",
       "    </tr>\n",
       "    <tr>\n",
       "      <th>7</th>\n",
       "      <td>2021-11-17</td>\n",
       "    </tr>\n",
       "  </tbody>\n",
       "</table>\n",
       "</div>"
      ],
      "text/plain": [
       "           0\n",
       "2 2021-11-12\n",
       "3 2021-11-13\n",
       "4 2021-11-14\n",
       "5 2021-11-15\n",
       "6 2021-11-16\n",
       "7 2021-11-17"
      ]
     },
     "execution_count": 90,
     "metadata": {},
     "output_type": "execute_result"
    }
   ],
   "source": [
    "# 12\n",
    "\n",
    "dates = [\"10-11-2021\",\"11-11-2021\",\"12-11-2021\",\"13-11-2021\",\"14-11-2021\",\"15-11-2021\",\"16-11-2021\",\"17-11-2021\",\"18-11-2021\",\"18-11-2021\",\"19-11-2021\",\"20-11-2021\",\"21-11-2021\",\"22-11-2021\"]\n",
    "df = pd.DataFrame(pd.Series(pd.to_datetime(dates,format=\"%d-%m-%Y\")))\n",
    "df[(df[0]>pd.to_datetime(\"11-11-2021\",format=\"%d-%m-%Y\")) & (df[0]<pd.to_datetime(\"18-11-2021\",format=\"%d-%m-%Y\"))]"
   ]
  }
 ],
 "metadata": {
  "kernelspec": {
   "display_name": "Python 3 (ipykernel)",
   "language": "python",
   "name": "python3"
  },
  "language_info": {
   "codemirror_mode": {
    "name": "ipython",
    "version": 3
   },
   "file_extension": ".py",
   "mimetype": "text/x-python",
   "name": "python",
   "nbconvert_exporter": "python",
   "pygments_lexer": "ipython3",
   "version": "3.10.0"
  }
 },
 "nbformat": 4,
 "nbformat_minor": 5
}
