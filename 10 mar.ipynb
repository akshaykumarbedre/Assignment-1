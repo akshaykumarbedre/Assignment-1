{
 "cells": [
  {
   "cell_type": "markdown",
   "id": "1a32a8a9-190a-4d27-95e0-0aa589f08e80",
   "metadata": {},
   "source": [
    "1.\n",
    "Estimation Statistics is proccess of estimating from sample data to polpution data\n",
    "point Estimation is Estimating of single value from sample data to polpution data\n",
    "interval estimate is set of values of single value from sample data to polpution data"
   ]
  },
  {
   "cell_type": "code",
   "execution_count": 16,
   "id": "a52bc10d-7703-4c06-a288-b5da4f9a0efa",
   "metadata": {},
   "outputs": [
    {
     "name": "stdout",
     "output_type": "stream",
     "text": [
      "pop data 68.54545454545455\n",
      "pop data 143.71649088419227\n",
      "sample data 64.14285714285714\n",
      "sample data 120.74640316610272\n"
     ]
    }
   ],
   "source": [
    "2.\n",
    "import numpy as np\n",
    "def mean(*arg):\n",
    "    return np.mean(*arg)\n",
    "def std(*arg):\n",
    "    return np.std(*arg)\n",
    "l=[1,24,23,25,3,21,213,5,56,23,2,3,43,2,42,4,456,6,4,543,5,4] #of sample data \n",
    "print(\"pop data\",mean(l))\n",
    "print(\"pop data\",std(l))\n",
    "\n",
    "print(\"sample data\",mean(l[3:17]))\n",
    "print(\"sample data\",std(l[3:17]))"
   ]
  },
  {
   "cell_type": "code",
   "execution_count": null,
   "id": "2d2736cc-f3e7-4408-bb38-395c330c4fdd",
   "metadata": {},
   "outputs": [],
   "source": [
    "3.\n",
    "Hypothesis testing is process of testing from sample data by h0(null hypothesis) and h1(alternative hypothesis) \n",
    "it is used to takeing decestion\n",
    "it is important beacause it help to make concultion for a problem\n"
   ]
  },
  {
   "cell_type": "code",
   "execution_count": null,
   "id": "4fa1067e-b156-4ec2-8a8f-eefc5f3f9841",
   "metadata": {},
   "outputs": [],
   "source": [
    "4.\n",
    "null hypothesis = average weight of male college students is greater than\n",
    "the average weight of female college students.\n",
    "male weigth > women weigth\n",
    "alternative hypothesis = verage weight of male college students is less and equal than\n",
    "the average weight of female college students\n",
    "male weigth<= women weigth"
   ]
  },
  {
   "cell_type": "code",
   "execution_count": 18,
   "id": "92d780f9-9ab3-4104-935a-4c18d2dd72c4",
   "metadata": {},
   "outputs": [
    {
     "name": "stdout",
     "output_type": "stream",
     "text": [
      "0.26363636363636367\n"
     ]
    }
   ],
   "source": [
    "5.\n",
    "s1=[1,2,3,4,5,67,6,7,7,7]\n",
    "s2=[1,2,3,4,5,67,6,7,7,8,7]\n",
    "#h0 :difference between two population means\n",
    "print(np.mean(s1)-np.mean(s2))\n"
   ]
  },
  {
   "cell_type": "code",
   "execution_count": null,
   "id": "3c5a2c33-425e-4fd5-aa67-88d809d37ec1",
   "metadata": {},
   "outputs": [],
   "source": [
    "6.null hypothesis: the process of obsumeing that given statment is true\n",
    " alternative hypothesis the process obsumeing  negation that given statment\n",
    "male more intaligent the womem\n",
    "null hypothesis :male more intaligent the womem\n",
    "alternative hypothesis:male not more intaligent the womem"
   ]
  },
  {
   "cell_type": "code",
   "execution_count": null,
   "id": "1a03d0ed-0e5b-4ee0-b5d1-b7aca85976cf",
   "metadata": {},
   "outputs": [],
   "source": [
    "7.\n",
    "s1= null hypothesis \n",
    "s2= alternative hypothesis \n",
    "s3=exportmant \n",
    "s4=accecpt the null hypothesis or rejest null hypothesis\n"
   ]
  },
  {
   "cell_type": "code",
   "execution_count": null,
   "id": "cadc406b-6240-4eb0-9b5e-865be0d1a87f",
   "metadata": {},
   "outputs": [],
   "source": [
    "8.\n",
    "p value is probalblity is null hypothesis is true \n",
    "singnicatent: if p values is less then specific value it help to rejest the hypothisi"
   ]
  },
  {
   "cell_type": "code",
   "execution_count": 5,
   "id": "9f85f6f2-b987-4eef-9624-fd6307241dd3",
   "metadata": {},
   "outputs": [
    {
     "data": {
      "image/png": "[encoded data removed]",
      "text/plain": [
       "<Figure size 640x480 with 1 Axes>"
      ]
     },
     "metadata": {},
     "output_type": "display_data"
    }
   ],
   "source": [
    "9.\n",
    "import numpy\n",
    "from scipy.stats import t\n",
    "from matplotlib import pyplot\n",
    "X = numpy.linspace(-4, 4, 209)\n",
    "# Generate t-distribution graphfreedom\n",
    "Y = t.pdf(X, df=10)\n",
    "pyplot.plot(X, Y)\n",
    "pyplot.show()\n"
   ]
  },
  {
   "cell_type": "code",
   "execution_count": 21,
   "id": "d5532550-ffa8-4c91-a2b4-5dff00d0ccd8",
   "metadata": {},
   "outputs": [
    {
     "data": {
      "text/plain": [
       "Ttest_indResult(statistic=-0.10690449676496937, pvalue=0.9160472470802984)"
      ]
     },
     "execution_count": 21,
     "metadata": {},
     "output_type": "execute_result"
    }
   ],
   "source": [
    "10.\n",
    "import numpy as np\n",
    "# null hypothesis that the population means are equal.\n",
    "import scipy.stats as stats\n",
    "\n",
    "s1=np.random.randint(10,100,10)\n",
    "s2=np.random.randint(10,100,10)\n",
    "# print(np.mean(s1))\n",
    "# print(np.mean(s2))\n",
    "stats.ttest_ind(a=s1, b=s2, equal_var=True)\n",
    "\n",
    "# based on significaernt values we conclude "
   ]
  },
  {
   "cell_type": "code",
   "execution_count": null,
   "id": "4ae11902-bd78-4399-946a-52a7b693b5b8",
   "metadata": {},
   "outputs": [],
   "source": [
    "11.\n",
    "he t-distribution, also known as the Students t-distribution, is a type of probability distribution that is similar to the normal distribution with its bell shape but has heavier tails\n",
    "It is used for estimating population parameters for small sample sizes or unknown variances.\n"
   ]
  },
  {
   "cell_type": "code",
   "execution_count": null,
   "id": "d47bdb23-057f-402a-930a-76768d3c1eed",
   "metadata": {},
   "outputs": [],
   "source": [
    "12.\n",
    "t statatisis is z value of sample data\n",
    "t= value-mean/(std/sqrt(n))\n"
   ]
  },
  {
   "cell_type": "code",
   "execution_count": null,
   "id": "491ff4cd-29a0-4576-b126-eb36adc60038",
   "metadata": {},
   "outputs": [],
   "source": [
    "13.\n",
    "average daily revenue for their shop is range from 486.06 and 513 "
   ]
  },
  {
   "cell_type": "code",
   "execution_count": null,
   "id": "7ff2f38a-2d8a-48b4-9c9c-a83b183ff7b7",
   "metadata": {},
   "outputs": [],
   "source": [
    "14.\n",
    "A researcher hypothesizes that a new drug will decrease blood pressure by 10 mmHg. They conduct a clinical trial with 100 patients and find that the sample mean decrease in blood pressure is 8 mmHg with a standard deviation of 3 mmHg. Test the hypothesis with a significance level of 0.05."
   ]
  },
  {
   "cell_type": "code",
   "execution_count": null,
   "id": "ad7246f9-75e8-4dc1-8c79-0d9e41fa7b3e",
   "metadata": {},
   "outputs": [],
   "source": [
    "15.\n",
    "Substituting the given values in the formula: t = (4.8 - 5) / (0.5 / sqrt(25)) = -2\n",
    "\n",
    "The degrees of freedom for this test are n - 1 = 241. Using a t-distribution table with 24 degrees of freedom and a significance level of 0.01, we find that the critical value for a one-tailed test is -2.4921.\n",
    "\n",
    "Since our calculated t-value (-2) falls within the rejection region (-∞, -2.492), we reject the null hypothesis and conclude that there is sufficient evidence to support that the true mean weight of the products is less than 5 pounds at a significance level of 0.011."
   ]
  },
  {
   "cell_type": "code",
   "execution_count": null,
   "id": "1c6935ed-3dba-4a81-bbaa-2685a2b57d6b",
   "metadata": {},
   "outputs": [],
   "source": [
    "16.\n",
    "Substituting the given values in the formula: t = (4.8 - 5) / (0.5 / sqrt(25)) = -2\n",
    "\n",
    "The degrees of freedom for this test are n - 1 = 241. Using a t-distribution table with 24 degrees of freedom and a significance level of 0.01, we find that the critical value for a one-tailed test is -2.4921.\n",
    "\n",
    "Since our calculated t-value (-2) falls within the rejection region (-∞, -2.492), we reject the null hypothesis and conclude that there is sufficient evidence to support that the true mean weight of the products is less than 5 pounds at a significance level of 0.011."
   ]
  },
  {
   "cell_type": "code",
   "execution_count": null,
   "id": "fe39366e-b48c-494e-b8c7-1d9911aad020",
   "metadata": {},
   "outputs": [],
   "source": [
    "17\n",
    "average number of ads watched by viewers during a TV program is 3.66 and 4.33 are interval "
   ]
  }
 ],
 "metadata": {
  "kernelspec": {
   "display_name": "Python 3 (ipykernel)",
   "language": "python",
   "name": "python3"
  },
  "language_info": {
   "codemirror_mode": {
    "name": "ipython",
    "version": 3
   },
   "file_extension": ".py",
   "mimetype": "text/x-python",
   "name": "python",
   "nbconvert_exporter": "python",
   "pygments_lexer": "ipython3",
   "version": "3.10.8"
  }
 },
 "nbformat": 4,
 "nbformat_minor": 5
}
