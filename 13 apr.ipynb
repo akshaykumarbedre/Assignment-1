{
 "cells": [
  {
   "cell_type": "code",
   "execution_count": null,
   "metadata": {},
   "outputs": [],
   "source": [
    "1.Random Forest Regressor is Ensemble Techniques where base learner were only Decstion tree, where all model were train from set ramdoun sample dataset . the predicting is the avg of all model "
   ]
  },
  {
   "cell_type": "code",
   "execution_count": null,
   "metadata": {},
   "outputs": [],
   "source": [
    "2.it decrese the varinace of model by selecting sample data from dataset"
   ]
  },
  {
   "cell_type": "code",
   "execution_count": null,
   "metadata": {},
   "outputs": [],
   "source": [
    "3.it take avg value of all prediction of multiple decision tree"
   ]
  },
  {
   "cell_type": "code",
   "execution_count": null,
   "metadata": {},
   "outputs": [],
   "source": [
    "4. max _depth,\n",
    "    n_estimators\n",
    "criterion\n",
    "min_samples_leaf\n",
    "min_samples_split"
   ]
  },
  {
   "cell_type": "code",
   "execution_count": null,
   "metadata": {},
   "outputs": [],
   "source": [
    "5.\n",
    "Random Forest Regressor:\n",
    "we use  multiple  Dicistion tree Regressor model \n",
    "it take avg value of all prediction of multiple decision tre\n",
    "Decision Tree Regressor\n",
    "it ML model which used to solve the Regressor by slipting and classifying the dataset\n",
    "predict is done by using Decision Tree \n"
   ]
  },
  {
   "cell_type": "code",
   "execution_count": null,
   "metadata": {},
   "outputs": [],
   "source": [
    "6.\n",
    "adv:\n",
    "it redue overfitting\n",
    "it give better performance\n",
    "it redue variance \n",
    "div: \n",
    "time complex will increase\n",
    "more resouser will be needed"
   ]
  },
  {
   "cell_type": "code",
   "execution_count": null,
   "metadata": {},
   "outputs": [],
   "source": [
    "7.\n",
    "output is  avg value of all prediction of multiple decision tree in Random Forest Regressor"
   ]
  },
  {
   "cell_type": "code",
   "execution_count": null,
   "metadata": {},
   "outputs": [],
   "source": [
    "8. no , we can use Random Forest Regressor be used for classification tasks, but we use  Random Forest  classifier for classification"
   ]
  },
  {
   "cell_type": "code",
   "execution_count": null,
   "metadata": {},
   "outputs": [],
   "source": []
  }
 ],
 "metadata": {
  "language_info": {
   "name": "python"
  },
  "orig_nbformat": 4
 },
 "nbformat": 4,
 "nbformat_minor": 2
}
