{
 "cells": [
  {
   "cell_type": "code",
   "execution_count": null,
   "id": "3b8b5ea5-1b3f-485a-861a-72f3d30c2695",
   "metadata": {},
   "outputs": [],
   "source": [
    "1.\n",
    "we are using exception class as super class for our custom exception class\n",
    "by useing this class we can raise exception\n",
    "\n"
   ]
  },
  {
   "cell_type": "code",
   "execution_count": 1,
   "id": "d2150be6-0d3c-45a9-b40b-881df770399f",
   "metadata": {},
   "outputs": [
    {
     "name": "stdout",
     "output_type": "stream",
     "text": [
      "name 'a' is not defined\n"
     ]
    }
   ],
   "source": [
    "# 2.\n",
    "try:\n",
    "    a/0\n",
    "except ArithmeticError as e:\n",
    "    print(e)\n",
    "except Exception as e:\n",
    "    print(e)"
   ]
  },
  {
   "cell_type": "code",
   "execution_count": null,
   "id": "42f090cc-6f07-433b-8005-7977f055095b",
   "metadata": {},
   "outputs": [],
   "source": [
    "3.ArithmeticError:\n",
    "    FloatingPointError\n",
    "    OverflowError:\n",
    "    ZeroDivisionError: this error when any number divide by \n",
    "    DecimalException:may be caused when, in decimal division, the divisor is zero, or the quotient exceeds the specified data-field size. "
   ]
  },
  {
   "cell_type": "code",
   "execution_count": 8,
   "id": "f2bd8f0f-bbdf-4191-925e-f6252ad5044f",
   "metadata": {},
   "outputs": [],
   "source": [
    "4.LookupError exception class to handle both IndexError and KeyError exception classes.\n",
    "keyerror: when no key found in dist\n",
    "IndexError: when list out of bond "
   ]
  },
  {
   "cell_type": "code",
   "execution_count": null,
   "id": "c834a7b7-a9bf-4eca-88cc-0e0822be15aa",
   "metadata": {},
   "outputs": [
    {
     "name": "stdout",
     "output_type": "stream",
     "text": [
      "list index out of range\n"
     ]
    }
   ],
   "source": [
    "5. import error is error when no module found in pyhton program \n",
    "it may built in or may be user define \n",
    "\n",
    "ModuleNotFoundError: error when no module found"
   ]
  },
  {
   "cell_type": "code",
   "execution_count": null,
   "id": "99dbc5bb-eb36-4975-a8aa-27d395f68a24",
   "metadata": {},
   "outputs": [],
   "source": [
    "6. \n",
    "*don't use mutiple exceiption\n",
    "*maintain resoure\n",
    "*always use of logging\n",
    "*when ever use of exception , we need to handle it \n",
    "*dont write unnessary code\n"
   ]
  }
 ],
 "metadata": {
  "kernelspec": {
   "display_name": "Python 3 (ipykernel)",
   "language": "python",
   "name": "python3"
  },
  "language_info": {
   "codemirror_mode": {
    "name": "ipython",
    "version": 3
   },
   "file_extension": ".py",
   "mimetype": "text/x-python",
   "name": "python",
   "nbconvert_exporter": "python",
   "pygments_lexer": "ipython3",
   "version": "3.10.8"
  }
 },
 "nbformat": 4,
 "nbformat_minor": 5
}
