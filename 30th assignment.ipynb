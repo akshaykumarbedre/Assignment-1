{
 "cells": [
  {
   "cell_type": "code",
   "execution_count": 3,
   "id": "e66e296f-c005-4177-8f08-6b4e32760e6a",
   "metadata": {},
   "outputs": [
    {
     "name": "stdin",
     "output_type": "stream",
     "text": [
      "Enter percentage 55\n"
     ]
    },
    {
     "name": "stdout",
     "output_type": "stream",
     "text": [
      "D Grade\n"
     ]
    }
   ],
   "source": [
    "# 1.\n",
    "per=int(input(\"Enter percentage\"))\n",
    "if(per>90):\n",
    "    print(\"A grade\")\n",
    "elif(per>80and per<=90):\n",
    "    print(\"B grade\")\n",
    "elif(per>=60 and per<=80):\n",
    "    print('C Grade')\n",
    "else:\n",
    "    print('D Grade')\n"
   ]
  },
  {
   "cell_type": "code",
   "execution_count": 1,
   "id": "81b9831b-c47f-4e15-98a7-0a5a62176f78",
   "metadata": {},
   "outputs": [
    {
     "name": "stdin",
     "output_type": "stream",
     "text": [
      "Enter cost of bike 12\n"
     ]
    },
    {
     "data": {
      "text/plain": [
       "'Your tax is 0.6000000000000001'"
      ]
     },
     "execution_count": 1,
     "metadata": {},
     "output_type": "execute_result"
    }
   ],
   "source": [
    "# 2.\n",
    "cost=int(input(\"Enter cost of bike\"))\n",
    "\n",
    "if(cost<=50000):\n",
    "    tax=cost*.05\n",
    "elif(cost>50000 and cost<=100000):\n",
    "    tax=cost*.1\n",
    "else :\n",
    "    tax=cost*.15\n",
    "f\"Your tax is {tax}\"\n",
    "\n"
   ]
  },
  {
   "cell_type": "code",
   "execution_count": 14,
   "id": "e5369ce4-ca29-4f96-b099-1da3e56c921d",
   "metadata": {},
   "outputs": [
    {
     "name": "stdin",
     "output_type": "stream",
     "text": [
      "Enter city Delhi\n"
     ]
    },
    {
     "data": {
      "text/plain": [
       "'Red Fort'"
      ]
     },
     "execution_count": 14,
     "metadata": {},
     "output_type": "execute_result"
    }
   ],
   "source": [
    "# 3.\n",
    "city =input(\"Enter city\").lower()\n",
    "if(city=='delhi'):\n",
    "    monument=\"Red Fort\"\n",
    "elif city=='agra':\n",
    "    monument=\"Taj Mahal\"\n",
    "elif city=='jaipur':\n",
    "    monument=\"Jal Mahal\"\n",
    "monument\n"
   ]
  },
  {
   "cell_type": "code",
   "execution_count": 3,
   "id": "7e98859f-815c-4761-95ef-37dbb999a6ac",
   "metadata": {},
   "outputs": [
    {
     "name": "stdin",
     "output_type": "stream",
     "text": [
      "enter number 12\n"
     ]
    },
    {
     "data": {
      "text/plain": [
       "1"
      ]
     },
     "execution_count": 3,
     "metadata": {},
     "output_type": "execute_result"
    }
   ],
   "source": [
    "# 4.\n",
    "num=int(input(\"enter number\"))\n",
    "count=0\n",
    "while num>10:\n",
    "    num/=3\n",
    "    count+=1\n",
    "count"
   ]
  },
  {
   "cell_type": "code",
   "execution_count": 2,
   "id": "49697a5f-33bc-4ca4-b582-a5a9b2f581bf",
   "metadata": {},
   "outputs": [
    {
     "name": "stdin",
     "output_type": "stream",
     "text": [
      "enter number 50\n"
     ]
    },
    {
     "data": {
      "text/plain": [
       "2"
      ]
     },
     "execution_count": 2,
     "metadata": {},
     "output_type": "execute_result"
    }
   ],
   "source": [
    "5.\n",
    "# while loop is can be used at any , but preferable is that when ever some condition is depending\n",
    "# best is above condtion\n",
    "\n",
    "num=int(input(\"enter number\"))\n",
    "count=0\n",
    "while num>10:\n",
    "    num/=3\n",
    "    count+=1\n",
    "count"
   ]
  },
  {
   "cell_type": "code",
   "execution_count": 6,
   "id": "ce3a3e2c-906b-46ab-a34a-943b62091bc9",
   "metadata": {},
   "outputs": [
    {
     "name": "stdout",
     "output_type": "stream",
     "text": [
      "\n",
      "*\n",
      "**\n",
      "***\n",
      "****\n"
     ]
    }
   ],
   "source": [
    "# 6.\n",
    "i=0\n",
    "while(i<=4):\n",
    "    j=0\n",
    "    while(j<i):\n",
    "        print(\"*\",end=\"\")\n",
    "        j=j+1\n",
    "    i=i+1\n",
    "    print()\n"
   ]
  },
  {
   "cell_type": "code",
   "execution_count": 10,
   "id": "dc36d912-c18f-431c-9ecb-6b70e248806c",
   "metadata": {},
   "outputs": [
    {
     "name": "stdout",
     "output_type": "stream",
     "text": [
      "****\n",
      "***\n",
      "**\n",
      "*\n",
      "\n"
     ]
    }
   ],
   "source": [
    "i=0\n",
    "while(i<=4):\n",
    "    j=0\n",
    "    while(j<m-i):\n",
    "        print(\"*\",end=\"\")\n",
    "        j=j+1\n",
    "    i=i+1\n",
    "    print()\n",
    "\n",
    "    "
   ]
  },
  {
   "cell_type": "code",
   "execution_count": null,
   "id": "6f292668-6d2b-4975-ba1d-ca65aca63457",
   "metadata": {},
   "outputs": [
    {
     "ename": "NameError",
     "evalue": "name 'i' is not defined",
     "output_type": "error",
     "traceback": [
      "\u001b[0;31m---------------------------------------------------------------------------\u001b[0m",
      "\u001b[0;31mNameError\u001b[0m                                 Traceback (most recent call last)",
      "Cell \u001b[0;32mIn[4], line 2\u001b[0m\n\u001b[1;32m      1\u001b[0m j\u001b[38;5;241m=\u001b[39m\u001b[38;5;241m0\u001b[39m\n\u001b[0;32m----> 2\u001b[0m \u001b[38;5;28;01mwhile\u001b[39;00m(j\u001b[38;5;241m<\u001b[39m\u001b[43mi\u001b[49m):\n\u001b[1;32m      3\u001b[0m     \u001b[38;5;28mprint\u001b[39m(\u001b[38;5;124m\"\u001b[39m\u001b[38;5;124m*\u001b[39m\u001b[38;5;124m\"\u001b[39m,end\u001b[38;5;241m=\u001b[39m\u001b[38;5;124m\"\u001b[39m\u001b[38;5;124m \u001b[39m\u001b[38;5;124m\"\u001b[39m)\n\u001b[1;32m      4\u001b[0m     j\u001b[38;5;241m=\u001b[39mj\u001b[38;5;241m+\u001b[39m\u001b[38;5;241m1\u001b[39m\n",
      "\u001b[0;31mNameError\u001b[0m: name 'i' is not defined"
     ]
    }
   ],
   "source": []
  },
  {
   "cell_type": "code",
   "execution_count": 23,
   "id": "46084afe-2aa4-4fc8-ba99-eccbe3a26b4b",
   "metadata": {},
   "outputs": [
    {
     "name": "stdout",
     "output_type": "stream",
     "text": [
      "10\n",
      "9\n",
      "8\n",
      "7\n",
      "6\n",
      "5\n",
      "4\n",
      "3\n",
      "2\n",
      "1\n"
     ]
    }
   ],
   "source": [
    "8.\n",
    "n=10\n",
    "i=0\n",
    "while(i<10):\n",
    "    print(n-i)\n",
    "    i+=1"
   ]
  },
  {
   "cell_type": "code",
   "execution_count": null,
   "id": "59234663-56ee-4e16-a113-96df0dc288de",
   "metadata": {},
   "outputs": [],
   "source": [
    "7.\n",
    "\n",
    "n=10\n",
    "i=0\n",
    "while(i<10):\n",
    "    print(n-i)\n",
    "    i+=1"
   ]
  }
 ],
 "metadata": {
  "kernelspec": {
   "display_name": "Python 3 (ipykernel)",
   "language": "python",
   "name": "python3"
  },
  "language_info": {
   "codemirror_mode": {
    "name": "ipython",
    "version": 3
   },
   "file_extension": ".py",
   "mimetype": "text/x-python",
   "name": "python",
   "nbconvert_exporter": "python",
   "pygments_lexer": "ipython3",
   "version": "3.10.8"
  }
 },
 "nbformat": 4,
 "nbformat_minor": 5
}
