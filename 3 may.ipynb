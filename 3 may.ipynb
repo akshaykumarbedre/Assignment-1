{
 "cells": [
  {
   "cell_type": "code",
   "execution_count": null,
   "metadata": {},
   "outputs": [],
   "source": [
    "1.\n",
    "Enhancing Efficiency: \n",
    "Preventing Overfitting\n",
    "Handling Complexity\n",
    "Improving Performance"
   ]
  },
  {
   "cell_type": "code",
   "execution_count": null,
   "metadata": {},
   "outputs": [],
   "source": [
    "2.Precision\n",
    "recall\n",
    "f1 score"
   ]
  },
  {
   "cell_type": "code",
   "execution_count": null,
   "metadata": {},
   "outputs": [],
   "source": [
    "3.DBSCAN: desnsity based spatial clustering appliaction with noise,a density-based clustering technique\n",
    "\n",
    "it non linear clustering also it roburst to outlier, it work based on desity ,\n",
    "there 3 type of concep\n",
    "\n",
    "core : it contain more minpint in E radiues\n",
    "border: it contain less then minpint in E radiues\n",
    "outlier: it dont contain any point insdie radiues\n",
    "\n",
    "it is non linear & more accurate then k mean & herical"
   ]
  },
  {
   "cell_type": "code",
   "execution_count": null,
   "metadata": {},
   "outputs": [],
   "source": [
    "4.e increase , we get less number of outlier\n",
    "if decrese e , we get more number of outlier"
   ]
  },
  {
   "cell_type": "code",
   "execution_count": null,
   "metadata": {},
   "outputs": [],
   "source": [
    "5.\n",
    "core : it contain more  then minpint in E radiues\n",
    "border: it contain less then minpint in E radiues\n",
    "outlier: it dont contain any point insdie radiues\n",
    "\n",
    "outlier point is used for anolmaly detection\n"
   ]
  },
  {
   "cell_type": "code",
   "execution_count": null,
   "metadata": {},
   "outputs": [],
   "source": [
    "6. we detect anolmaly using outlier point in dbscan,\n",
    "elsone, min_no_point are key paramter for dbscan"
   ]
  },
  {
   "cell_type": "code",
   "execution_count": null,
   "metadata": {},
   "outputs": [],
   "source": [
    "7.\n",
    "it used to create datapoints which make 2 semicircle with diff center of points with half circle"
   ]
  },
  {
   "cell_type": "code",
   "execution_count": null,
   "metadata": {},
   "outputs": [],
   "source": [
    "8.\n",
    "local outlier :there outlier which is near to one group of datasets\n",
    "global outlier :it fall far the all the  group in datases\n"
   ]
  },
  {
   "cell_type": "code",
   "execution_count": null,
   "metadata": {},
   "outputs": [],
   "source": [
    "9.The Local Outlier Factor (LOF) algorithm is an unsupervised anomaly detection method that computes the local density deviation of a given data point with respect to its neighbors1234. It considers as outliers the samples that have a substantially lower density than their neighbors\n",
    "\n",
    "based on density , lower the densicty it consider as local outlier\n",
    "higher density : it not outlier points\n"
   ]
  },
  {
   "cell_type": "code",
   "execution_count": null,
   "metadata": {},
   "outputs": [],
   "source": [
    "10.\n",
    "it decteted by calculating the density of k nearest point, if it very low density it consider as golber outlier"
   ]
  },
  {
   "cell_type": "code",
   "execution_count": null,
   "metadata": {},
   "outputs": [],
   "source": [
    "11.\n",
    "local outlier :\n",
    "Fraud Detection\n",
    "Network Intrusion Detection\n",
    "\n",
    "global outlier:\n",
    "Credit Card Fraud\n",
    "Intrusion Detection Systems"
   ]
  },
  {
   "cell_type": "code",
   "execution_count": null,
   "metadata": {},
   "outputs": [],
   "source": []
  },
  {
   "cell_type": "code",
   "execution_count": null,
   "metadata": {},
   "outputs": [],
   "source": []
  }
 ],
 "metadata": {
  "language_info": {
   "name": "python"
  },
  "orig_nbformat": 4
 },
 "nbformat": 4,
 "nbformat_minor": 2
}
