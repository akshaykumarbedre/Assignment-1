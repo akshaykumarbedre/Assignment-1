{
 "cells": [
  {
   "cell_type": "code",
   "execution_count": null,
   "id": "26b7a2cf-73c5-4e06-864b-a04163765218",
   "metadata": {},
   "outputs": [],
   "source": [
    "1)guido van ressom"
   ]
  },
  {
   "cell_type": "code",
   "execution_count": null,
   "id": "0bd5c2ae-60e3-47e5-96a9-e7e48c9540d3",
   "metadata": {},
   "outputs": [],
   "source": [
    "\n",
    "2)both procceser and object oriented programming language\n"
   ]
  },
  {
   "cell_type": "code",
   "execution_count": null,
   "id": "2246af5a-7d46-4a7f-96c9-99bb598ca0c8",
   "metadata": {},
   "outputs": [],
   "source": [
    "3) yes,it is case senisitive "
   ]
  },
  {
   "cell_type": "code",
   "execution_count": null,
   "id": "2a95450f-c307-4cc8-ae49-b81620d00ef7",
   "metadata": {},
   "outputs": [],
   "source": [
    "4).py is extention"
   ]
  },
  {
   "cell_type": "code",
   "execution_count": null,
   "id": "cc1089d6-e99e-4c35-bd82-b157f17f0038",
   "metadata": {},
   "outputs": [],
   "source": [
    "5) it only interprete langage"
   ]
  },
  {
   "cell_type": "code",
   "execution_count": null,
   "id": "0e61a294-2da1-4942-bed3-df218c50bd69",
   "metadata": {},
   "outputs": [],
   "source": [
    "6)modular , funstion,class"
   ]
  },
  {
   "cell_type": "code",
   "execution_count": null,
   "id": "113b873b-7562-4b3e-963a-409a92291788",
   "metadata": {},
   "outputs": [],
   "source": [
    "7) string"
   ]
  },
  {
   "cell_type": "code",
   "execution_count": null,
   "id": "327e9e5a-cc60-4964-80fe-da226d84d876",
   "metadata": {},
   "outputs": [],
   "source": [
    "8)--version"
   ]
  },
  {
   "cell_type": "code",
   "execution_count": null,
   "id": "b3d5fedd-9074-4442-bf50-dacfaa122a00",
   "metadata": {},
   "outputs": [],
   "source": [
    "9)LAMDA FUNSTION"
   ]
  },
  {
   "cell_type": "code",
   "execution_count": null,
   "id": "c2b510a7-7da2-46a9-87fb-362cd562f3d9",
   "metadata": {},
   "outputs": [],
   "source": [
    "10)PIP INSTALL PACKAGE"
   ]
  },
  {
   "cell_type": "code",
   "execution_count": null,
   "id": "5c273bb6-918e-419b-baeb-d44f579924ff",
   "metadata": {},
   "outputs": [],
   "source": [
    "11) type(),len(),print()..."
   ]
  },
  {
   "cell_type": "code",
   "execution_count": null,
   "id": "79e22816-7aa1-4abc-af90-38e0eacc08ca",
   "metadata": {},
   "outputs": [],
   "source": [
    "12)79 char"
   ]
  },
  {
   "cell_type": "code",
   "execution_count": null,
   "id": "f707f2c1-3547-4b59-9906-13ac77dfcc88",
   "metadata": {},
   "outputs": [],
   "source": [
    "13)simple syntax,\n",
    "more resorce on internet related to our need projest\n",
    "more built in funstion, class, many more is aviable\n",
    "\n"
   ]
  },
  {
   "cell_type": "code",
   "execution_count": null,
   "id": "7df6e52e-887a-4639-8f18-e26e2fd75527",
   "metadata": {},
   "outputs": [],
   "source": [
    "14)it conatin primary heap of all obj,and structures"
   ]
  },
  {
   "cell_type": "code",
   "execution_count": null,
   "id": "7e54dc85-0c7a-4af9-8db4-9625800f2c86",
   "metadata": {},
   "outputs": [],
   "source": [
    "15)download pthon from website,https://www.python.org, and install on os\n",
    "as in window open envermant variable -> path ,paste it the path of bin of the pyhton file "
   ]
  },
  {
   "cell_type": "code",
   "execution_count": null,
   "id": "7bbd0b2e-e33e-4910-83ac-1e6df3e0f70c",
   "metadata": {},
   "outputs": [],
   "source": [
    "16) it is compulsory in python"
   ]
  },
  {
   "cell_type": "code",
   "execution_count": null,
   "id": "49aeb3c2-7a3c-4ffe-a34b-978dbdbed218",
   "metadata": {},
   "outputs": [],
   "source": []
  },
  {
   "cell_type": "code",
   "execution_count": null,
   "id": "c59adc9f-ba38-42ea-a7ec-08cf67ee0bc3",
   "metadata": {},
   "outputs": [],
   "source": []
  },
  {
   "cell_type": "code",
   "execution_count": null,
   "id": "4bee5e2c-b754-4c5c-b4c7-7c84df117835",
   "metadata": {},
   "outputs": [],
   "source": []
  }
 ],
 "metadata": {
  "kernelspec": {
   "display_name": "Python 3 (ipykernel)",
   "language": "python",
   "name": "python3"
  },
  "language_info": {
   "codemirror_mode": {
    "name": "ipython",
    "version": 3
   },
   "file_extension": ".py",
   "mimetype": "text/x-python",
   "name": "python",
   "nbconvert_exporter": "python",
   "pygments_lexer": "ipython3",
   "version": "3.10.8"
  }
 },
 "nbformat": 4,
 "nbformat_minor": 5
}
