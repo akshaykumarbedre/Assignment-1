{
 "cells": [
  {
   "cell_type": "code",
   "execution_count": null,
   "id": "e2f1371d-aabf-4c12-8455-a371dcc79bbe",
   "metadata": {},
   "outputs": [],
   "source": [
    "1.data encoding is process of converting the categorical feature in to numatic fature\n",
    "it help to understand to ml model\n"
   ]
  },
  {
   "cell_type": "code",
   "execution_count": null,
   "id": "44290acf-8a05-470f-a8f2-acd4f46b1792",
   "metadata": {},
   "outputs": [],
   "source": [
    "2.\n",
    "nominal encoding is a proccess of categorical catazireal feature in to numatic feature by binary matrix\n",
    "when features  has less then equal to 5 categorical  features\n",
    "In gender, result of student , etc"
   ]
  },
  {
   "cell_type": "code",
   "execution_count": null,
   "id": "d626c765-4ebe-4943-9ba0-ade0757d0438",
   "metadata": {},
   "outputs": [],
   "source": [
    "3.\n",
    "both the encoding is same , we use this encoding when when categorical features  has less then equal to 5\n"
   ]
  },
  {
   "cell_type": "code",
   "execution_count": null,
   "id": "d1205e38-4b2a-4f82-ad20-d795cb05416a",
   "metadata": {},
   "outputs": [],
   "source": [
    "4.\n",
    "when categorical features  has less then equal to 5, so we use ONE HOT ENCODING"
   ]
  },
  {
   "cell_type": "code",
   "execution_count": null,
   "id": "f2575b2c-5f0b-40c3-bb42-76ce553bf147",
   "metadata": {},
   "outputs": [],
   "source": [
    "5.\n",
    "for a colums has n feature\n",
    "for anthor colums has m feature\n",
    "total column careeted is n+m\n"
   ]
  },
  {
   "cell_type": "code",
   "execution_count": null,
   "id": "4609efb8-79a3-4808-b298-85ddb1c7d9e5",
   "metadata": {},
   "outputs": [],
   "source": [
    "6. we are using orinal encoding, due to large number of categores in each feature\n",
    "if we use the Nominal encoding, we get large number of binary matrix\n"
   ]
  },
  {
   "cell_type": "code",
   "execution_count": null,
   "id": "c0add2d4-fabc-41a7-b32f-f7e8f3704fdf",
   "metadata": {},
   "outputs": [],
   "source": [
    "7.\n",
    "import pandas as pd\n",
    "from sklearn.preprocessing import OneHotEncoder\n",
    "\n",
    "One-Hot Encoding\n",
    "Import the OneHotEncoder class from the scikit-learn library.\n",
    "Create an instance of the OneHotEncoder class.\n",
    "Fit the OneHotEncoder instance to the categorical feature.\n",
    "Transform the categorical feature using the OneHotEncoder instanc\n",
    "and updateing to orignal data frame"
   ]
  }
 ],
 "metadata": {
  "kernelspec": {
   "display_name": "Python 3 (ipykernel)",
   "language": "python",
   "name": "python3"
  },
  "language_info": {
   "codemirror_mode": {
    "name": "ipython",
    "version": 3
   },
   "file_extension": ".py",
   "mimetype": "text/x-python",
   "name": "python",
   "nbconvert_exporter": "python",
   "pygments_lexer": "ipython3",
   "version": "3.10.8"
  }
 },
 "nbformat": 4,
 "nbformat_minor": 5
}
