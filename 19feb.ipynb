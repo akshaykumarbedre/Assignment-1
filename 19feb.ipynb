{
 "cells": [
  {
   "cell_type": "code",
   "execution_count": null,
   "id": "fc3bedf6-e077-4589-a518-a0d08b2294ea",
   "metadata": {},
   "outputs": [],
   "source": [
    "1.Flask is a web application framework written in Python\n",
    "ligthwigth , easy to use, simple, Scalable,Flexible"
   ]
  },
  {
   "cell_type": "code",
   "execution_count": 2,
   "id": "cb265c79-6b33-47d7-b8f3-4c1610b69dbd",
   "metadata": {
    "tags": []
   },
   "outputs": [],
   "source": [
    "2.from flask import Flask\n",
    "app=Flask(__name__)\n",
    "\n",
    "@app.route(\"/\")\n",
    "def home():\n",
    "    return \"<h1>Hello world!!</h1>\"\n",
    "\n",
    "if __name__==\"__main__\":\n",
    "    app.run(\"0.0.0.0\")\n",
    "\n"
   ]
  },
  {
   "cell_type": "code",
   "execution_count": null,
   "id": "4f0c0789-565c-4364-8c4e-270d3a9cf0db",
   "metadata": {},
   "outputs": [],
   "source": [
    "https://drive.google.com/file/d/1oyRHC0u3xTfs3-OJanwg_S7c6V3X6ybn/view?usp=share_link"
   ]
  },
  {
   "cell_type": "code",
   "execution_count": null,
   "id": "53f36968-cd7c-4ad6-aa4a-6505a0b6c9bd",
   "metadata": {},
   "outputs": [],
   "source": [
    " 3. it used to map the specific URL with the associated function that is intended to perform some task.\n",
    "    * to reach specific url "
   ]
  },
  {
   "cell_type": "code",
   "execution_count": null,
   "id": "9ebffd3f-11bb-4c90-b21f-0e0c625d3fd8",
   "metadata": {},
   "outputs": [],
   "source": [
    "4.\n",
    "from flask import Flask\n",
    "app=Flask(__name__)\n",
    "\n",
    "@app.route(\"/welcome\")\n",
    "def home():\n",
    "    return \"“Welcome to ABC Corporation”\"\n",
    "\n",
    "@app.route(\"/\")\n",
    "def home1():\n",
    "    return \"<p>Company Name: ABC Corporation <br>  Location: India<br> Contact Detail: 999-999-9999</p>\"\n",
    "\n",
    "\n",
    "if __name__==\"__main__\":\n",
    "    app.run(\"0.0.0.0\")"
   ]
  },
  {
   "cell_type": "code",
   "execution_count": null,
   "id": "93b9af31-f35b-46bf-95c3-e28273b8923d",
   "metadata": {},
   "outputs": [],
   "source": [
    "https://drive.google.com/file/d/1DG0-xD9bXWB9g-Hkyh--xBlNzJ9v_ypE/view?usp=share_link"
   ]
  },
  {
   "cell_type": "code",
   "execution_count": null,
   "id": "bd2ca385-a177-4279-8981-bd2234efe83a",
   "metadata": {},
   "outputs": [],
   "source": [
    "https://drive.google.com/file/d/1AExWp8eGwTMa9YnoZnLlqq15bjh22BBW/view?usp=share_link"
   ]
  },
  {
   "cell_type": "code",
   "execution_count": null,
   "id": "592eb0d1-2850-4023-947a-770cd93d2400",
   "metadata": {},
   "outputs": [],
   "source": [
    "5.The url_for() function is used to build a URL to the specific function dynamically\n",
    "from flask import *  \n",
    "   \n",
    "app = Flask(__name__)  \n",
    "  \n",
    "@app.route('/admin')  \n",
    "def admin():  \n",
    "    return 'admin'  \n",
    "  \n",
    "@app.route('/librarion')  \n",
    "def librarion():  \n",
    "    return 'librarion'  \n",
    "  \n",
    "@app.route('/student')  \n",
    "def student():  \n",
    "    return 'student'  \n",
    "  \n",
    "@app.route('/user/<name>')  \n",
    "def user(name):  \n",
    "    if name == 'admin':  \n",
    "        return redirect(url_for('admin'))  \n",
    "    if name == 'librarion':  \n",
    "        return redirect(url_for('librarion'))  \n",
    "    if name == 'student':  \n",
    "        return redirect(url_for('student'))  \n",
    "if __name__ =='__main__':  \n",
    "    app.run(debug = True)  "
   ]
  }
 ],
 "metadata": {
  "kernelspec": {
   "display_name": "Python 3 (ipykernel)",
   "language": "python",
   "name": "python3"
  },
  "language_info": {
   "codemirror_mode": {
    "name": "ipython",
    "version": 3
   },
   "file_extension": ".py",
   "mimetype": "text/x-python",
   "name": "python",
   "nbconvert_exporter": "python",
   "pygments_lexer": "ipython3",
   "version": "3.10.8"
  }
 },
 "nbformat": 4,
 "nbformat_minor": 5
}
