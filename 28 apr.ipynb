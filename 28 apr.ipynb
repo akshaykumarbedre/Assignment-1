{
 "cells": [
  {
   "cell_type": "code",
   "execution_count": null,
   "metadata": {},
   "outputs": [],
   "source": [
    "1. hierarchical clustering is clusterig method in which point are group based on hierarchical structure\n",
    "it dont have centrod point as k mean cluster"
   ]
  },
  {
   "cell_type": "code",
   "execution_count": null,
   "metadata": {},
   "outputs": [],
   "source": [
    "2.\n",
    "main type of hierarch is \n",
    "\n",
    "divise:\n",
    "each point consider as different cluser\n",
    "merge nearest cluser finally merge it become single cluse\n",
    "\n",
    "agglomerative:\n",
    "a single cluser spilt into based on far point \n",
    "finally we get each point as similar cluser"
   ]
  },
  {
   "cell_type": "code",
   "execution_count": null,
   "metadata": {},
   "outputs": [],
   "source": [
    "3.\n",
    "we use distance between two points to determine by \n",
    "euclidean distance: sqrt((x2-x1)^2 + (y2-y1)^2 )\n",
    "manhattan distance:abs(x1-x2)"
   ]
  },
  {
   "cell_type": "code",
   "execution_count": null,
   "metadata": {},
   "outputs": [],
   "source": [
    "4.\n",
    "to find optimal number of cluster, we create a dindogram , and find the longest vertical which non of heriznal line pass"
   ]
  },
  {
   "cell_type": "code",
   "execution_count": null,
   "metadata": {},
   "outputs": [],
   "source": [
    "5.\n",
    "dendrograms in hierarchical clustering it used to find the optimal number of cluser , x axis has distance , y axis has set of point of dataset \n",
    "to find optimal number of cluster,\n"
   ]
  },
  {
   "cell_type": "code",
   "execution_count": null,
   "metadata": {},
   "outputs": [],
   "source": [
    "6.\n",
    "it handle both type of data ,\n",
    "\n",
    "For numerical data, Euclidean distance is commonly used as the distance metric1.\n",
    "\n",
    "For categorical data, other distance metrics may be used, such as Manhattan distance. A useful metric named Gower is also used as a parameter of function daisy() in R package, cluster."
   ]
  },
  {
   "cell_type": "code",
   "execution_count": null,
   "metadata": {},
   "outputs": [],
   "source": [
    "7.\n",
    "Dendrogram Analysis: Hierarchical clustering creates a dendrogram, which is a tree-like diagram that shows the relationships between the clusters1. The dendrogram can help you visualize the hierarchy of the clusters and identify any subgroups or outliers1.\n",
    "\n",
    "Distance-Based Approach: In some cases, outliers are found by distance-based approach and cluster-based approach\n"
   ]
  },
  {
   "cell_type": "code",
   "execution_count": null,
   "metadata": {},
   "outputs": [],
   "source": []
  }
 ],
 "metadata": {
  "language_info": {
   "name": "python"
  },
  "orig_nbformat": 4
 },
 "nbformat": 4,
 "nbformat_minor": 2
}
