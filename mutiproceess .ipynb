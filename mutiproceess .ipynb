{
 "cells": [
  {
   "cell_type": "code",
   "execution_count": 28,
   "id": "ea4ccd06-bd5d-4481-9ed5-96361985d80c",
   "metadata": {},
   "outputs": [
    {
     "name": "stdout",
     "output_type": "stream",
     "text": [
      "time is 0:00:03.161662\n"
     ]
    }
   ],
   "source": [
    "import multiprocessing\n",
    "import datetime\n",
    "def text():\n",
    "    for i in range(10000):\n",
    "        sum=0\n",
    "        for j in range(0,i):\n",
    "            sum+=j\n",
    "        # print(sum , end=\" \")\n",
    "if __name__==\"__main__\":\n",
    "    m=multiprocessing.Process(target=text)\n",
    "    a=datetime.datetime.now()\n",
    "    m.start()\n",
    "    m.join()\n",
    "    b=datetime.datetime.now()  -a\n",
    "    print(\"time is\",b)"
   ]
  },
  {
   "cell_type": "code",
   "execution_count": 29,
   "id": "a7308288-8ff2-4acc-9be2-99180b3a3602",
   "metadata": {},
   "outputs": [
    {
     "name": "stdout",
     "output_type": "stream",
     "text": [
      "time is 0:00:02.939010\n"
     ]
    }
   ],
   "source": [
    "import datetime\n",
    "def text():\n",
    "    a=datetime.datetime.now()\n",
    "    for i in range(10000):\n",
    "        sum=0\n",
    "        for j in range(0,i):\n",
    "            sum+=j\n",
    "        # print(sum, end=\" \")\n",
    "    b=datetime.datetime.now()  -a\n",
    "    print(\"time is\",b)\n",
    "if __name__==\"__main__\":\n",
    "    text()\n"
   ]
  },
  {
   "cell_type": "code",
   "execution_count": null,
   "id": "b0ebd7d0-df0a-4f74-84e3-3467522298f0",
   "metadata": {},
   "outputs": [],
   "source": []
  }
 ],
 "metadata": {
  "kernelspec": {
   "display_name": "Python 3 (ipykernel)",
   "language": "python",
   "name": "python3"
  },
  "language_info": {
   "codemirror_mode": {
    "name": "ipython",
    "version": 3
   },
   "file_extension": ".py",
   "mimetype": "text/x-python",
   "name": "python",
   "nbconvert_exporter": "python",
   "pygments_lexer": "ipython3",
   "version": "3.10.8"
  }
 },
 "nbformat": 4,
 "nbformat_minor": 5
}
