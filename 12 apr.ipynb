{
 "cells": [
  {
   "cell_type": "code",
   "execution_count": null,
   "metadata": {},
   "outputs": [],
   "source": [
    "1.\n",
    "it redue over fitting by resample of feature & rows to diffrent DTL , which cause of increase in variance which prevent from overfitting"
   ]
  },
  {
   "cell_type": "code",
   "execution_count": null,
   "metadata": {},
   "outputs": [],
   "source": [
    "2.\n",
    "adv: we get train from differnt type model , which may increase performance\n",
    "    it can redue overfittiing\n",
    "dis: when we use custers model some model will not fit to given dataset ,   \n",
    "    "
   ]
  },
  {
   "cell_type": "code",
   "execution_count": null,
   "metadata": {},
   "outputs": [],
   "source": [
    "3.\n",
    "we choose the base learner with n different sample data of row and feature ,by this it decrease variance of modwl which prevent for mover fitting\n"
   ]
  },
  {
   "cell_type": "code",
   "execution_count": null,
   "metadata": {},
   "outputs": [],
   "source": [
    "4.\n",
    "yes, \n",
    "in classification, we use to predict by majority voteing technique\n",
    "in reggression we use avg value of all model \n"
   ]
  },
  {
   "cell_type": "code",
   "execution_count": null,
   "metadata": {},
   "outputs": [],
   "source": [
    "5.ensemble size is number of base learner in bagging ensemble,\n",
    "default is 100 model,we can start with 3  \n"
   ]
  },
  {
   "cell_type": "code",
   "execution_count": null,
   "metadata": {},
   "outputs": [],
   "source": [
    "6. stock market prediction is real application randum forest model "
   ]
  }
 ],
 "metadata": {
  "language_info": {
   "name": "python"
  },
  "orig_nbformat": 4
 },
 "nbformat": 4,
 "nbformat_minor": 2
}
